{
 "cells": [
  {
   "cell_type": "code",
   "execution_count": 14,
   "metadata": {
    "id": "W9W1JQClyZHE"
   },
   "outputs": [],
   "source": [
    "import pandas as pd\n",
    "import numpy as np\n",
    "import json"
   ]
  },
  {
   "cell_type": "code",
   "execution_count": 15,
   "metadata": {
    "id": "xfaPSFnBysZg"
   },
   "outputs": [],
   "source": [
    "offering_df_dic = dict()\n",
    "for colum_l in ['hotel_class', 'region_id', 'url', 'phone', 'details', 'address', 'type', 'id', 'name']:\n",
    "    offering_df_dic[colum_l] = []\n",
    "\n",
    "f = open(\"offering.txt\", \"r\")\n",
    "for line in f.readlines():\n",
    "    temp_dic = json.loads(line)\n",
    "    for i in ['hotel_class', 'region_id', 'url', 'phone', 'details', 'address', 'type', 'id', 'name']:\n",
    "        if 'hotel_class' not in list(temp_dic.keys()) and i == 'hotel_class':\n",
    "            value = np.nan\n",
    "        else:\n",
    "            value = temp_dic[i]\n",
    "        offering_df_dic[i].append(value)\n",
    "f.close()"
   ]
  },
  {
   "cell_type": "code",
   "execution_count": 16,
   "metadata": {
    "id": "9ZISgF-Pyvtx"
   },
   "outputs": [],
   "source": [
    "offering_df = pd.DataFrame.from_dict(offering_df_dic)"
   ]
  },
  {
   "cell_type": "code",
   "execution_count": 17,
   "metadata": {
    "id": "S_DH70GQzuFG"
   },
   "outputs": [],
   "source": [
    "for i in range(len(offering_df)):\n",
    "    temp_dic = dict(offering_df.iloc[i]['address'])\n",
    "    for key in ['region', 'street-address', 'postal-code', 'locality']:\n",
    "        try:\n",
    "            offering_df.loc[i,key] = temp_dic[key]\n",
    "        except KeyError:\n",
    "            offering_df.loc[i,key] = np.nan"
   ]
  },
  {
   "cell_type": "code",
   "execution_count": 18,
   "metadata": {
    "id": "a8q-L-qIzvfW"
   },
   "outputs": [],
   "source": [
    "f = open(\"review.txt\", \"r\")\n",
    "count = 0\n",
    "for line in f.readlines():\n",
    "    temp_dic = json.loads(line)\n",
    "    temp_dic = temp_dic['ratings']\n",
    "    count +=1 "
   ]
  },
  {
   "cell_type": "code",
   "execution_count": 19,
   "metadata": {
    "id": "S_LG49tBzx_2"
   },
   "outputs": [],
   "source": [
    "rating_dict = {}\n",
    "for i in ['service', 'cleanliness', 'overall', 'value', 'location', 'sleep_quality', 'rooms']:\n",
    "    rating_dict[i] = []"
   ]
  },
  {
   "cell_type": "code",
   "execution_count": 20,
   "metadata": {
    "id": "5qq5fkAjCqVD"
   },
   "outputs": [],
   "source": [
    "f = open(\"review.txt\", \"r\")\n",
    "for line in f.readlines():\n",
    "    temp_dic = json.loads(line)\n",
    "    temp_dic = temp_dic['ratings']\n",
    "    for rating_key in ['service', 'cleanliness', 'overall', 'value', 'location', 'sleep_quality', 'rooms']:\n",
    "        try:\n",
    "            value = temp_dic[rating_key]\n",
    "            rating_dict[rating_key].append(value)\n",
    "        except KeyError:\n",
    "            rating_dict[rating_key].append(np.nan)\n",
    "f.close()"
   ]
  },
  {
   "cell_type": "code",
   "execution_count": 21,
   "metadata": {
    "id": "Jg2zKfBIEOJx"
   },
   "outputs": [],
   "source": [
    "author_dict = {}\n",
    "for i in ['username', 'num_cities', 'num_helpful_votes', 'num_reviews', 'num_type_reviews', 'id']:\n",
    "    author_dict[i] = []"
   ]
  },
  {
   "cell_type": "code",
   "execution_count": 22,
   "metadata": {
    "id": "QRcbHvZOEePU"
   },
   "outputs": [],
   "source": [
    "f = open(\"review.txt\", \"r\")\n",
    "for line in f.readlines():\n",
    "    temp_dic = json.loads(line)\n",
    "    temp_dic = temp_dic['author']\n",
    "    for author_key in ['username', 'num_cities', 'num_helpful_votes',\n",
    "                       'num_reviews', 'num_type_reviews', 'id']:\n",
    "        try:\n",
    "            value = temp_dic[author_key]\n",
    "            author_dict[author_key].append(value)\n",
    "        except KeyError:\n",
    "            author_dict[author_key].append(np.nan)\n",
    "f.close()"
   ]
  },
  {
   "cell_type": "code",
   "execution_count": 23,
   "metadata": {
    "id": "q7_ounfjEoAi"
   },
   "outputs": [],
   "source": [
    "review_dict = {}\n",
    "for i in ['title', 'text', 'date_stayed', 'offering_id',\n",
    "          'num_helpful_votes', 'date', 'id', 'via_mobile']:\n",
    "    review_dict[i] = []"
   ]
  },
  {
   "cell_type": "code",
   "execution_count": 24,
   "metadata": {
    "id": "V35EIP6SEr7q"
   },
   "outputs": [],
   "source": [
    "f = open(\"review.txt\", \"r\")\n",
    "for line in f.readlines():\n",
    "    temp_dic = json.loads(line)\n",
    "    for review_key in ['title', 'text', 'date_stayed', 'offering_id',\n",
    "          'num_helpful_votes', 'date', 'id', 'via_mobile']:\n",
    "        try:\n",
    "            value = temp_dic[review_key]\n",
    "            review_dict[review_key].append(value)\n",
    "        except KeyError:\n",
    "            review_dict[review_key].append(np.nan)\n",
    "f.close()"
   ]
  },
  {
   "cell_type": "code",
   "execution_count": 25,
   "metadata": {
    "id": "T8rRBBr7Ew9d"
   },
   "outputs": [],
   "source": [
    "# change the name of dictionary \n",
    "author_dict['author_num_helpful_votes'] = author_dict.pop('num_helpful_votes')\n",
    "author_dict['author_id'] = author_dict.pop('id')"
   ]
  },
  {
   "cell_type": "code",
   "execution_count": 26,
   "metadata": {
    "id": "rBfnIeUfE2tI"
   },
   "outputs": [],
   "source": [
    "# merge the three dictionaries\n",
    "def Merge(dict1, dict2):\n",
    "    return(dict2.update(dict1))"
   ]
  },
  {
   "cell_type": "code",
   "execution_count": 27,
   "metadata": {
    "id": "x_8t3Bj4E4Zo"
   },
   "outputs": [],
   "source": [
    "Merge(author_dict, review_dict)"
   ]
  },
  {
   "cell_type": "code",
   "execution_count": 28,
   "metadata": {
    "id": "sp-VD4AKE6PS"
   },
   "outputs": [],
   "source": [
    "Merge(rating_dict, review_dict)"
   ]
  },
  {
   "cell_type": "code",
   "execution_count": 29,
   "metadata": {
    "id": "SDEshR12E8Cb"
   },
   "outputs": [],
   "source": [
    "review_df = pd.DataFrame.from_dict(review_dict)"
   ]
  },
  {
   "cell_type": "code",
   "execution_count": 30,
   "metadata": {
    "id": "4PYr5G7yFEep"
   },
   "outputs": [],
   "source": [
    "df = review_df.merge(offering_df,left_on='offering_id', right_on='id')"
   ]
  },
  {
   "cell_type": "code",
   "execution_count": 31,
   "metadata": {},
   "outputs": [
    {
     "data": {
      "text/plain": [
       "title                            0\n",
       "text                             0\n",
       "date_stayed                  67588\n",
       "offering_id                      0\n",
       "num_helpful_votes                0\n",
       "date                             0\n",
       "id_x                             0\n",
       "via_mobile                       0\n",
       "username                         0\n",
       "num_cities                  264593\n",
       "num_reviews                  77123\n",
       "num_type_reviews            362951\n",
       "author_num_helpful_votes    224581\n",
       "author_id                        0\n",
       "service                     117643\n",
       "cleanliness                 118726\n",
       "overall                          0\n",
       "value                       124866\n",
       "location                    213657\n",
       "sleep_quality               377658\n",
       "rooms                       173157\n",
       "hotel_class                  34937\n",
       "region_id                        0\n",
       "url                              0\n",
       "phone                            0\n",
       "details                     878561\n",
       "address                          0\n",
       "type                             0\n",
       "id_y                             0\n",
       "name                             0\n",
       "region                           0\n",
       "street-address                   9\n",
       "postal-code                   1859\n",
       "locality                         0\n",
       "dtype: int64"
      ]
     },
     "execution_count": 31,
     "metadata": {},
     "output_type": "execute_result"
    }
   ],
   "source": [
    "df.isna().sum()"
   ]
  },
  {
   "cell_type": "code",
   "execution_count": 32,
   "metadata": {
    "id": "J6qaztCRFa9t"
   },
   "outputs": [],
   "source": [
    "# Drop details because no details is provided for all reviews\n",
    "# Consider nums to be 0 if original values are nan\n",
    "df = df.drop('details', axis=1)\n",
    "df['num_cities'] = df['num_cities'].replace(np.nan, 0)\n",
    "df['num_reviews'] = df['num_reviews'].replace(np.nan, 0)\n",
    "df['num_type_reviews'] = df['num_type_reviews'].replace(np.nan, 0)\n",
    "df['author_num_helpful_votes'] = df['author_num_helpful_votes'].replace(np.nan, 0)\n",
    "df = df.drop('date_stayed', axis=1)"
   ]
  },
  {
   "cell_type": "code",
   "execution_count": 33,
   "metadata": {
    "id": "Jt6XNd_iJE6H"
   },
   "outputs": [],
   "source": [
    "# fill 'date_stayed' using the value from date, usually those two are the same\n",
    "# I think we should be fine to drop 'date_stayed' and use 'date' will be fine\n",
    "\n",
    "# date_index = df[df['date_stayed'].isnull()].index\n",
    "\n",
    "# for i in date_index:\n",
    "#   date_strs = df['date'][0].split(\", \")\n",
    "#   extracted_date = date_strs[0][:-2] + date_strs[1]\n",
    "#   df.loc[i, 'date_stayed'] = extracted_date"
   ]
  },
  {
   "cell_type": "code",
   "execution_count": 34,
   "metadata": {
    "id": "B1CK_0xyOxx1"
   },
   "outputs": [],
   "source": [
    "service_index = df[df['service'].isnull()].index\n",
    "service_means = []\n",
    "\n",
    "for i in df['overall'].unique():\n",
    "    service_means.append(df[df['overall'] == i]['service'].mean())\n",
    "\n",
    "service_means.reverse()\n",
    "\n",
    "for i in service_index:\n",
    "    cur_overall = int(df.loc[i]['overall'])\n",
    "    df.loc[i, 'service'] = service_means[cur_overall]"
   ]
  },
  {
   "cell_type": "code",
   "execution_count": 35,
   "metadata": {
    "id": "TIk2nxHARAfT"
   },
   "outputs": [],
   "source": [
    "cleanliness_index = df[df['cleanliness'].isnull()].index\n",
    "cleanliness_means = []\n",
    "\n",
    "for i in df['overall'].unique():\n",
    "    cleanliness_means.append(df[df['overall'] == i]['cleanliness'].mean())\n",
    "\n",
    "cleanliness_means.reverse()\n",
    "\n",
    "for i in cleanliness_index:\n",
    "    cur_overall = int(df.loc[i]['overall'])\n",
    "    df.loc[i, 'cleanliness'] = cleanliness_means[cur_overall]"
   ]
  },
  {
   "cell_type": "code",
   "execution_count": 36,
   "metadata": {
    "colab": {
     "base_uri": "https://localhost:8080/"
    },
    "id": "3Dd9tYdm2xAe",
    "outputId": "0452db11-1714-4815-ee7d-4a3bcef58760"
   },
   "outputs": [
    {
     "data": {
      "text/plain": [
       "title                            0\n",
       "text                             0\n",
       "offering_id                      0\n",
       "num_helpful_votes                0\n",
       "date                             0\n",
       "id_x                             0\n",
       "via_mobile                       0\n",
       "username                         0\n",
       "num_cities                       0\n",
       "num_reviews                      0\n",
       "num_type_reviews                 0\n",
       "author_num_helpful_votes         0\n",
       "author_id                        0\n",
       "service                          0\n",
       "cleanliness                      0\n",
       "overall                          0\n",
       "value                       124866\n",
       "location                    213657\n",
       "sleep_quality               377658\n",
       "rooms                       173157\n",
       "hotel_class                  34937\n",
       "region_id                        0\n",
       "url                              0\n",
       "phone                            0\n",
       "address                          0\n",
       "type                             0\n",
       "id_y                             0\n",
       "name                             0\n",
       "region                           0\n",
       "street-address                   9\n",
       "postal-code                   1859\n",
       "locality                         0\n",
       "dtype: int64"
      ]
     },
     "execution_count": 36,
     "metadata": {},
     "output_type": "execute_result"
    }
   ],
   "source": [
    "df.isnull().sum()"
   ]
  },
  {
   "cell_type": "code",
   "execution_count": 37,
   "metadata": {
    "id": "ioSMW54Jypfy"
   },
   "outputs": [],
   "source": [
    "value_index = df[df['value'].isnull()].index\n",
    "value_means = []\n",
    "\n",
    "for i in df['overall'].unique():\n",
    "    value_means.append(df[df['overall'] == i]['value'].mean())\n",
    "\n",
    "value_means.reverse()\n",
    "\n",
    "for i in value_index:\n",
    "    cur_overall = int(df.loc[i]['overall'])\n",
    "    df.loc[i, 'value'] = value_means[cur_overall]"
   ]
  },
  {
   "cell_type": "code",
   "execution_count": 38,
   "metadata": {
    "id": "4Rsbjd0H4Ap4"
   },
   "outputs": [],
   "source": [
    "location_index = df[df['location'].isnull()].index\n",
    "location_means = []\n",
    "\n",
    "for i in df['overall'].unique():\n",
    "    location_means.append(df[df['overall'] == i]['location'].mean())\n",
    "\n",
    "location_means.reverse()\n",
    "\n",
    "for i in location_index:\n",
    "    cur_overall = int(df.loc[i]['overall'])\n",
    "    df.loc[i, 'location'] = location_means[cur_overall]"
   ]
  },
  {
   "cell_type": "code",
   "execution_count": 39,
   "metadata": {
    "id": "vkMwZ0pm7Tev"
   },
   "outputs": [],
   "source": [
    "sleep_index = df[df['sleep_quality'].isnull()].index\n",
    "sleep_means = []\n",
    "\n",
    "for i in df['overall'].unique():\n",
    "    sleep_means.append(df[df['overall'] == i]['sleep_quality'].mean())\n",
    "\n",
    "sleep_means.reverse()\n",
    "\n",
    "for i in sleep_index:\n",
    "    cur_overall = int(df.loc[i]['overall'])\n",
    "    df.loc[i, 'sleep_quality'] = sleep_means[cur_overall]"
   ]
  },
  {
   "cell_type": "code",
   "execution_count": 40,
   "metadata": {
    "id": "tP-reCTiLwfT"
   },
   "outputs": [],
   "source": [
    "rooms_index = df[df['rooms'].isnull()].index\n",
    "rooms_means = []\n",
    "\n",
    "for i in df['overall'].unique():\n",
    "    rooms_means.append(df[df['overall'] == i]['rooms'].mean())\n",
    "\n",
    "rooms_means.reverse()\n",
    "\n",
    "for i in rooms_index:\n",
    "    cur_overall = int(df.loc[i]['overall'])\n",
    "    df.loc[i, 'rooms'] = rooms_means[cur_overall]"
   ]
  },
  {
   "cell_type": "code",
   "execution_count": 41,
   "metadata": {
    "colab": {
     "base_uri": "https://localhost:8080/"
    },
    "id": "PUdMSpEseKan",
    "outputId": "7bc43f7d-7ca6-4ae9-f679-45fad96d9f2f"
   },
   "outputs": [
    {
     "data": {
      "text/plain": [
       "title                           0\n",
       "text                            0\n",
       "offering_id                     0\n",
       "num_helpful_votes               0\n",
       "date                            0\n",
       "id_x                            0\n",
       "via_mobile                      0\n",
       "username                        0\n",
       "num_cities                      0\n",
       "num_reviews                     0\n",
       "num_type_reviews                0\n",
       "author_num_helpful_votes        0\n",
       "author_id                       0\n",
       "service                         0\n",
       "cleanliness                     0\n",
       "overall                         0\n",
       "value                           0\n",
       "location                       17\n",
       "sleep_quality                  17\n",
       "rooms                           0\n",
       "hotel_class                 34937\n",
       "region_id                       0\n",
       "url                             0\n",
       "phone                           0\n",
       "address                         0\n",
       "type                            0\n",
       "id_y                            0\n",
       "name                            0\n",
       "region                          0\n",
       "street-address                  9\n",
       "postal-code                  1859\n",
       "locality                        0\n",
       "dtype: int64"
      ]
     },
     "execution_count": 41,
     "metadata": {},
     "output_type": "execute_result"
    }
   ],
   "source": [
    "df.isnull().sum()"
   ]
  },
  {
   "cell_type": "code",
   "execution_count": 43,
   "metadata": {},
   "outputs": [
    {
     "data": {
      "text/plain": [
       "title                              “An Excellent Value with a Great Location”\n",
       "text                        My spouse and I rely on Trip Advisor for guida...\n",
       "offering_id                                                             93338\n",
       "num_helpful_votes                                                          18\n",
       "date                                                            July 16, 2006\n",
       "id_x                                                                  5472451\n",
       "via_mobile                                                              False\n",
       "username                                                                     \n",
       "num_cities                                                                  0\n",
       "num_reviews                                                                 0\n",
       "num_type_reviews                                                            0\n",
       "author_num_helpful_votes                                                    0\n",
       "author_id                                                                    \n",
       "service                                                                     4\n",
       "cleanliness                                                                 5\n",
       "overall                                                                     5\n",
       "value                                                                       5\n",
       "location                                                              4.81079\n",
       "sleep_quality                                                         4.80171\n",
       "rooms                                                                       4\n",
       "hotel_class                                                                 3\n",
       "region_id                                                               60763\n",
       "url                         http://www.tripadvisor.com/Hotel_Review-g60763...\n",
       "phone                                                                        \n",
       "address                     {'region': 'NY', 'street-address': '2130 Broad...\n",
       "type                                                                    hotel\n",
       "id_y                                                                    93338\n",
       "name                                                             Hotel Beacon\n",
       "region                                                                     NY\n",
       "street-address                                   2130 Broadway at 75th Street\n",
       "postal-code                                                             10023\n",
       "locality                                                        New York City\n",
       "Name: 1001, dtype: object"
      ]
     },
     "execution_count": 43,
     "metadata": {},
     "output_type": "execute_result"
    }
   ],
   "source": [
    "# the username, author_id and phone have empty string, need to be treated as NA \n",
    "df.iloc[1001]"
   ]
  },
  {
   "cell_type": "code",
   "execution_count": 44,
   "metadata": {},
   "outputs": [],
   "source": [
    "# we dont need the phone variable, we just drop it \n",
    "df = df.drop('phone',axis=1)"
   ]
  },
  {
   "cell_type": "code",
   "execution_count": 48,
   "metadata": {
    "id": "lmIx5nwcPYfS"
   },
   "outputs": [],
   "source": [
    "# since the username and author_id is unique, and basically the same thing, we just fill using the index \n",
    "df.loc[df.username == \"\",'username'] = np.nan\n",
    "df.loc[df.author_id == \"\",'author_id'] = np.nan"
   ]
  },
  {
   "cell_type": "code",
   "execution_count": 51,
   "metadata": {
    "id": "bKpVMiHXQsQp"
   },
   "outputs": [
    {
     "data": {
      "text/plain": [
       "title                           0\n",
       "text                            0\n",
       "offering_id                     0\n",
       "num_helpful_votes               0\n",
       "date                            0\n",
       "id_x                            0\n",
       "via_mobile                      0\n",
       "username                    77067\n",
       "num_cities                      0\n",
       "num_reviews                     0\n",
       "num_type_reviews                0\n",
       "author_num_helpful_votes        0\n",
       "author_id                   77066\n",
       "service                         0\n",
       "cleanliness                     0\n",
       "overall                         0\n",
       "value                           0\n",
       "location                       17\n",
       "sleep_quality                  17\n",
       "rooms                           0\n",
       "hotel_class                 34937\n",
       "region_id                       0\n",
       "url                             0\n",
       "address                         0\n",
       "type                            0\n",
       "id_y                            0\n",
       "name                            0\n",
       "region                          0\n",
       "street-address                  9\n",
       "postal-code                  1859\n",
       "locality                        0\n",
       "dtype: int64"
      ]
     },
     "execution_count": 51,
     "metadata": {},
     "output_type": "execute_result"
    }
   ],
   "source": [
    "df.isna().sum()"
   ]
  },
  {
   "cell_type": "code",
   "execution_count": 55,
   "metadata": {
    "id": "4AmReoxHVGKN"
   },
   "outputs": [],
   "source": [
    "df.loc[df['username'].isnull(), 'username'] = df.loc[df['username'].isnull()].index\n",
    "df.loc[df['author_id'].isnull(), 'author_id'] = df.loc[df['author_id'].isnull()].index"
   ]
  },
  {
   "cell_type": "code",
   "execution_count": 56,
   "metadata": {},
   "outputs": [
    {
     "data": {
      "text/plain": [
       "title                           0\n",
       "text                            0\n",
       "offering_id                     0\n",
       "num_helpful_votes               0\n",
       "date                            0\n",
       "id_x                            0\n",
       "via_mobile                      0\n",
       "username                        0\n",
       "num_cities                      0\n",
       "num_reviews                     0\n",
       "num_type_reviews                0\n",
       "author_num_helpful_votes        0\n",
       "author_id                       0\n",
       "service                         0\n",
       "cleanliness                     0\n",
       "overall                         0\n",
       "value                           0\n",
       "location                       17\n",
       "sleep_quality                  17\n",
       "rooms                           0\n",
       "hotel_class                 34937\n",
       "region_id                       0\n",
       "url                             0\n",
       "address                         0\n",
       "type                            0\n",
       "id_y                            0\n",
       "name                            0\n",
       "region                          0\n",
       "street-address                  9\n",
       "postal-code                  1859\n",
       "locality                        0\n",
       "dtype: int64"
      ]
     },
     "execution_count": 56,
     "metadata": {},
     "output_type": "execute_result"
    }
   ],
   "source": [
    "df.isna().sum()"
   ]
  },
  {
   "cell_type": "code",
   "execution_count": 57,
   "metadata": {},
   "outputs": [],
   "source": [
    "# hotel class with na, just ignore those \n",
    "df = df[df['hotel_class'].notna()]"
   ]
  },
  {
   "cell_type": "code",
   "execution_count": 58,
   "metadata": {},
   "outputs": [
    {
     "data": {
      "text/plain": [
       "title                          0\n",
       "text                           0\n",
       "offering_id                    0\n",
       "num_helpful_votes              0\n",
       "date                           0\n",
       "id_x                           0\n",
       "via_mobile                     0\n",
       "username                       0\n",
       "num_cities                     0\n",
       "num_reviews                    0\n",
       "num_type_reviews               0\n",
       "author_num_helpful_votes       0\n",
       "author_id                      0\n",
       "service                        0\n",
       "cleanliness                    0\n",
       "overall                        0\n",
       "value                          0\n",
       "location                      16\n",
       "sleep_quality                 16\n",
       "rooms                          0\n",
       "hotel_class                    0\n",
       "region_id                      0\n",
       "url                            0\n",
       "address                        0\n",
       "type                           0\n",
       "id_y                           0\n",
       "name                           0\n",
       "region                         0\n",
       "street-address                 1\n",
       "postal-code                 1681\n",
       "locality                       0\n",
       "dtype: int64"
      ]
     },
     "execution_count": 58,
     "metadata": {},
     "output_type": "execute_result"
    }
   ],
   "source": [
    "df.isna().sum()"
   ]
  },
  {
   "cell_type": "code",
   "execution_count": 63,
   "metadata": {},
   "outputs": [],
   "source": [
    "# fill the postal_code\n",
    "region_list = list(df.region.value_counts().index)"
   ]
  },
  {
   "cell_type": "code",
   "execution_count": 78,
   "metadata": {},
   "outputs": [
    {
     "name": "stderr",
     "output_type": "stream",
     "text": [
      "/Users/siyuan/opt/anaconda3/lib/python3.8/site-packages/pandas/core/indexing.py:966: SettingWithCopyWarning: \n",
      "A value is trying to be set on a copy of a slice from a DataFrame.\n",
      "Try using .loc[row_indexer,col_indexer] = value instead\n",
      "\n",
      "See the caveats in the documentation: https://pandas.pydata.org/pandas-docs/stable/user_guide/indexing.html#returning-a-view-versus-a-copy\n",
      "  self.obj[item] = s\n"
     ]
    }
   ],
   "source": [
    "for i in region_list:\n",
    "    df.loc[(df['postal-code'].isnull())&(df.region == i),'postal-code'] = list(df[df.region == i]['postal-code'].value_counts(ascending = False).index)[0]"
   ]
  },
  {
   "cell_type": "code",
   "execution_count": 80,
   "metadata": {},
   "outputs": [
    {
     "data": {
      "text/plain": [
       "title                        0\n",
       "text                         0\n",
       "offering_id                  0\n",
       "num_helpful_votes            0\n",
       "date                         0\n",
       "id_x                         0\n",
       "via_mobile                   0\n",
       "username                     0\n",
       "num_cities                   0\n",
       "num_reviews                  0\n",
       "num_type_reviews             0\n",
       "author_num_helpful_votes     0\n",
       "author_id                    0\n",
       "service                      0\n",
       "cleanliness                  0\n",
       "overall                      0\n",
       "value                        0\n",
       "location                    16\n",
       "sleep_quality               16\n",
       "rooms                        0\n",
       "hotel_class                  0\n",
       "region_id                    0\n",
       "url                          0\n",
       "address                      0\n",
       "type                         0\n",
       "id_y                         0\n",
       "name                         0\n",
       "region                       0\n",
       "street-address               1\n",
       "postal-code                  0\n",
       "locality                     0\n",
       "dtype: int64"
      ]
     },
     "execution_count": 80,
     "metadata": {},
     "output_type": "execute_result"
    }
   ],
   "source": [
    "# street address is not using, so we can ignore it. So do the location and the sleep quality\n",
    "df.isna().sum()"
   ]
  },
  {
   "cell_type": "code",
   "execution_count": 87,
   "metadata": {},
   "outputs": [
    {
     "data": {
      "text/html": [
       "<div>\n",
       "<style scoped>\n",
       "    .dataframe tbody tr th:only-of-type {\n",
       "        vertical-align: middle;\n",
       "    }\n",
       "\n",
       "    .dataframe tbody tr th {\n",
       "        vertical-align: top;\n",
       "    }\n",
       "\n",
       "    .dataframe thead th {\n",
       "        text-align: right;\n",
       "    }\n",
       "</style>\n",
       "<table border=\"1\" class=\"dataframe\">\n",
       "  <thead>\n",
       "    <tr style=\"text-align: right;\">\n",
       "      <th></th>\n",
       "      <th>location</th>\n",
       "      <th>overall</th>\n",
       "    </tr>\n",
       "  </thead>\n",
       "  <tbody>\n",
       "    <tr>\n",
       "      <th>63605</th>\n",
       "      <td>NaN</td>\n",
       "      <td>0.0</td>\n",
       "    </tr>\n",
       "    <tr>\n",
       "      <th>71654</th>\n",
       "      <td>NaN</td>\n",
       "      <td>0.0</td>\n",
       "    </tr>\n",
       "    <tr>\n",
       "      <th>85710</th>\n",
       "      <td>NaN</td>\n",
       "      <td>0.0</td>\n",
       "    </tr>\n",
       "    <tr>\n",
       "      <th>89118</th>\n",
       "      <td>NaN</td>\n",
       "      <td>0.0</td>\n",
       "    </tr>\n",
       "    <tr>\n",
       "      <th>101215</th>\n",
       "      <td>NaN</td>\n",
       "      <td>0.0</td>\n",
       "    </tr>\n",
       "    <tr>\n",
       "      <th>119012</th>\n",
       "      <td>NaN</td>\n",
       "      <td>0.0</td>\n",
       "    </tr>\n",
       "    <tr>\n",
       "      <th>193799</th>\n",
       "      <td>NaN</td>\n",
       "      <td>0.0</td>\n",
       "    </tr>\n",
       "    <tr>\n",
       "      <th>273409</th>\n",
       "      <td>NaN</td>\n",
       "      <td>0.0</td>\n",
       "    </tr>\n",
       "    <tr>\n",
       "      <th>347982</th>\n",
       "      <td>NaN</td>\n",
       "      <td>0.0</td>\n",
       "    </tr>\n",
       "    <tr>\n",
       "      <th>348930</th>\n",
       "      <td>NaN</td>\n",
       "      <td>0.0</td>\n",
       "    </tr>\n",
       "    <tr>\n",
       "      <th>348931</th>\n",
       "      <td>NaN</td>\n",
       "      <td>0.0</td>\n",
       "    </tr>\n",
       "    <tr>\n",
       "      <th>469927</th>\n",
       "      <td>NaN</td>\n",
       "      <td>0.0</td>\n",
       "    </tr>\n",
       "    <tr>\n",
       "      <th>586428</th>\n",
       "      <td>NaN</td>\n",
       "      <td>0.0</td>\n",
       "    </tr>\n",
       "    <tr>\n",
       "      <th>594999</th>\n",
       "      <td>NaN</td>\n",
       "      <td>0.0</td>\n",
       "    </tr>\n",
       "    <tr>\n",
       "      <th>601961</th>\n",
       "      <td>NaN</td>\n",
       "      <td>0.0</td>\n",
       "    </tr>\n",
       "    <tr>\n",
       "      <th>844470</th>\n",
       "      <td>NaN</td>\n",
       "      <td>0.0</td>\n",
       "    </tr>\n",
       "  </tbody>\n",
       "</table>\n",
       "</div>"
      ],
      "text/plain": [
       "        location  overall\n",
       "63605        NaN      0.0\n",
       "71654        NaN      0.0\n",
       "85710        NaN      0.0\n",
       "89118        NaN      0.0\n",
       "101215       NaN      0.0\n",
       "119012       NaN      0.0\n",
       "193799       NaN      0.0\n",
       "273409       NaN      0.0\n",
       "347982       NaN      0.0\n",
       "348930       NaN      0.0\n",
       "348931       NaN      0.0\n",
       "469927       NaN      0.0\n",
       "586428       NaN      0.0\n",
       "594999       NaN      0.0\n",
       "601961       NaN      0.0\n",
       "844470       NaN      0.0"
      ]
     },
     "execution_count": 87,
     "metadata": {},
     "output_type": "execute_result"
    }
   ],
   "source": [
    "# we see those NaN comes from 0 overall rating - we gonna drop it \n",
    "df.loc[df['location'].isnull()][['location','overall']]"
   ]
  },
  {
   "cell_type": "code",
   "execution_count": 89,
   "metadata": {},
   "outputs": [],
   "source": [
    "df = df[df.overall != 0]"
   ]
  },
  {
   "cell_type": "code",
   "execution_count": 92,
   "metadata": {},
   "outputs": [
    {
     "data": {
      "text/plain": [
       "title                       0\n",
       "text                        0\n",
       "offering_id                 0\n",
       "num_helpful_votes           0\n",
       "date                        0\n",
       "id_x                        0\n",
       "via_mobile                  0\n",
       "username                    0\n",
       "num_cities                  0\n",
       "num_reviews                 0\n",
       "num_type_reviews            0\n",
       "author_num_helpful_votes    0\n",
       "author_id                   0\n",
       "service                     0\n",
       "cleanliness                 0\n",
       "overall                     0\n",
       "value                       0\n",
       "location                    0\n",
       "sleep_quality               0\n",
       "rooms                       0\n",
       "hotel_class                 0\n",
       "region_id                   0\n",
       "url                         0\n",
       "address                     0\n",
       "type                        0\n",
       "id_y                        0\n",
       "name                        0\n",
       "region                      0\n",
       "street-address              1\n",
       "postal-code                 0\n",
       "locality                    0\n",
       "dtype: int64"
      ]
     },
     "execution_count": 92,
     "metadata": {},
     "output_type": "execute_result"
    }
   ],
   "source": [
    "df.isna().sum()"
   ]
  },
  {
   "cell_type": "code",
   "execution_count": 93,
   "metadata": {},
   "outputs": [],
   "source": [
    "df.to_csv('review_offer_combined.csv')"
   ]
  }
 ],
 "metadata": {
  "colab": {
   "collapsed_sections": [],
   "name": "fillnas.ipynb",
   "provenance": []
  },
  "kernelspec": {
   "display_name": "Python 3",
   "language": "python",
   "name": "python3"
  },
  "language_info": {
   "codemirror_mode": {
    "name": "ipython",
    "version": 3
   },
   "file_extension": ".py",
   "mimetype": "text/x-python",
   "name": "python",
   "nbconvert_exporter": "python",
   "pygments_lexer": "ipython3",
   "version": "3.8.3"
  }
 },
 "nbformat": 4,
 "nbformat_minor": 1
}
