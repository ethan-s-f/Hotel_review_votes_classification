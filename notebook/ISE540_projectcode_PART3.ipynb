{
 "cells": [
  {
   "cell_type": "code",
   "execution_count": 1,
   "metadata": {},
   "outputs": [],
   "source": [
    "import pandas as pd\n",
    "import numpy as np\n",
    "import json"
   ]
  },
  {
   "cell_type": "markdown",
   "metadata": {},
   "source": [
    "# Loading the Data into Pandas DataFrame"
   ]
  },
  {
   "cell_type": "code",
   "execution_count": 2,
   "metadata": {},
   "outputs": [],
   "source": [
    "offering_df_dic = dict()\n",
    "for colum_l in ['hotel_class', 'region_id', 'url', 'phone', 'details', 'address', 'type', 'id', 'name']:\n",
    "    offering_df_dic[colum_l] = []\n",
    "\n",
    "f = open(\"offering.txt\", \"r\")\n",
    "for line in f.readlines():\n",
    "    temp_dic = json.loads(line)\n",
    "    for i in ['hotel_class', 'region_id', 'url', 'phone', 'details', 'address', 'type', 'id', 'name']:\n",
    "        if 'hotel_class' not in list(temp_dic.keys()) and i == 'hotel_class':\n",
    "            value = np.nan\n",
    "        else:\n",
    "            value = temp_dic[i]\n",
    "        offering_df_dic[i].append(value)\n",
    "f.close()"
   ]
  },
  {
   "cell_type": "code",
   "execution_count": 3,
   "metadata": {},
   "outputs": [],
   "source": [
    "offering_df = pd.DataFrame.from_dict(offering_df_dic)"
   ]
  },
  {
   "cell_type": "code",
   "execution_count": 4,
   "metadata": {},
   "outputs": [],
   "source": [
    "for i in range(len(offering_df)):\n",
    "    temp_dic = dict(offering_df.iloc[i]['address'])\n",
    "    for key in ['region', 'street-address', 'postal-code', 'locality']:\n",
    "        try:\n",
    "            offering_df.loc[i,key] = temp_dic[key]\n",
    "        except KeyError:\n",
    "            offering_df.loc[i,key] = np.nan"
   ]
  },
  {
   "cell_type": "code",
   "execution_count": 5,
   "metadata": {},
   "outputs": [],
   "source": [
    "f = open(\"review.txt\", \"r\")\n",
    "count = 0\n",
    "for line in f.readlines():\n",
    "    temp_dic = json.loads(line)\n",
    "    temp_dic = temp_dic['ratings']\n",
    "    count +=1 "
   ]
  },
  {
   "cell_type": "code",
   "execution_count": 6,
   "metadata": {},
   "outputs": [
    {
     "data": {
      "text/plain": [
       "878561"
      ]
     },
     "execution_count": 6,
     "metadata": {},
     "output_type": "execute_result"
    }
   ],
   "source": [
    "count"
   ]
  },
  {
   "cell_type": "code",
   "execution_count": 7,
   "metadata": {},
   "outputs": [],
   "source": [
    "rating_dict = {}\n",
    "for i in ['service', 'cleanliness', 'overall', 'value', 'location', 'sleep_quality', 'rooms']:\n",
    "    rating_dict[i] = []"
   ]
  },
  {
   "cell_type": "code",
   "execution_count": 8,
   "metadata": {},
   "outputs": [],
   "source": [
    "f = open(\"review.txt\", \"r\")\n",
    "for line in f.readlines():\n",
    "    temp_dic = json.loads(line)\n",
    "    temp_dic = temp_dic['ratings']\n",
    "    for rating_key in ['service', 'cleanliness', 'overall', 'value', 'location', 'sleep_quality', 'rooms']:\n",
    "        try:\n",
    "            value = temp_dic[rating_key]\n",
    "            rating_dict[rating_key].append(value)\n",
    "        except KeyError:\n",
    "            rating_dict[rating_key].append(np.nan)\n",
    "f.close()"
   ]
  },
  {
   "cell_type": "code",
   "execution_count": 9,
   "metadata": {},
   "outputs": [],
   "source": [
    "author_dict = {}\n",
    "for i in ['username', 'num_cities', 'num_helpful_votes', 'num_reviews', 'num_type_reviews', 'id']:\n",
    "    author_dict[i] = []"
   ]
  },
  {
   "cell_type": "code",
   "execution_count": 10,
   "metadata": {},
   "outputs": [],
   "source": [
    "f = open(\"review.txt\", \"r\")\n",
    "for line in f.readlines():\n",
    "    temp_dic = json.loads(line)\n",
    "    temp_dic = temp_dic['author']\n",
    "    for author_key in ['username', 'num_cities', 'num_helpful_votes',\n",
    "                       'num_reviews', 'num_type_reviews', 'id']:\n",
    "        try:\n",
    "            value = temp_dic[author_key]\n",
    "            author_dict[author_key].append(value)\n",
    "        except KeyError:\n",
    "            author_dict[author_key].append(np.nan)\n",
    "f.close()"
   ]
  },
  {
   "cell_type": "code",
   "execution_count": 11,
   "metadata": {},
   "outputs": [],
   "source": [
    "review_dict = {}\n",
    "for i in ['title', 'text', 'date_stayed', 'offering_id',\n",
    "          'num_helpful_votes', 'date', 'id', 'via_mobile']:\n",
    "    review_dict[i] = []"
   ]
  },
  {
   "cell_type": "code",
   "execution_count": 12,
   "metadata": {},
   "outputs": [],
   "source": [
    "f = open(\"review.txt\", \"r\")\n",
    "for line in f.readlines():\n",
    "    temp_dic = json.loads(line)\n",
    "    for review_key in ['title', 'text', 'date_stayed', 'offering_id',\n",
    "          'num_helpful_votes', 'date', 'id', 'via_mobile']:\n",
    "        try:\n",
    "            value = temp_dic[review_key]\n",
    "            review_dict[review_key].append(value)\n",
    "        except KeyError:\n",
    "            review_dict[review_key].append(np.nan)\n",
    "f.close()"
   ]
  },
  {
   "cell_type": "code",
   "execution_count": 13,
   "metadata": {},
   "outputs": [
    {
     "name": "stdout",
     "output_type": "stream",
     "text": [
      "title 878561\n",
      "text 878561\n",
      "date_stayed 878561\n",
      "offering_id 878561\n",
      "num_helpful_votes 878561\n",
      "date 878561\n",
      "id 878561\n",
      "via_mobile 878561\n"
     ]
    }
   ],
   "source": [
    "for i in list(review_dict.keys()):\n",
    "    print(i,len(review_dict[i]))"
   ]
  },
  {
   "cell_type": "code",
   "execution_count": 14,
   "metadata": {},
   "outputs": [],
   "source": [
    "# change the name of dictionary \n",
    "author_dict['author_num_helpful_votes'] = author_dict.pop('num_helpful_votes')\n",
    "author_dict['author_id'] = author_dict.pop('id')"
   ]
  },
  {
   "cell_type": "code",
   "execution_count": 15,
   "metadata": {},
   "outputs": [],
   "source": [
    "# merge the three dictionaries\n",
    "def Merge(dict1, dict2):\n",
    "    return(dict2.update(dict1))"
   ]
  },
  {
   "cell_type": "code",
   "execution_count": 16,
   "metadata": {},
   "outputs": [],
   "source": [
    "Merge(author_dict, review_dict)"
   ]
  },
  {
   "cell_type": "code",
   "execution_count": 17,
   "metadata": {},
   "outputs": [],
   "source": [
    "Merge(rating_dict, review_dict)"
   ]
  },
  {
   "cell_type": "code",
   "execution_count": 18,
   "metadata": {},
   "outputs": [],
   "source": [
    "review_df = pd.DataFrame.from_dict(review_dict)"
   ]
  },
  {
   "cell_type": "code",
   "execution_count": 19,
   "metadata": {},
   "outputs": [],
   "source": [
    "df = review_df.merge(offering_df,left_on='offering_id', right_on='id')"
   ]
  },
  {
   "cell_type": "markdown",
   "metadata": {},
   "source": [
    "Note: used `offering_id` and `id` in offering to merge the two. There is another `id` in review_df, see below:"
   ]
  },
  {
   "cell_type": "code",
   "execution_count": 20,
   "metadata": {},
   "outputs": [
    {
     "data": {
      "text/html": [
       "<div>\n",
       "<style scoped>\n",
       "    .dataframe tbody tr th:only-of-type {\n",
       "        vertical-align: middle;\n",
       "    }\n",
       "\n",
       "    .dataframe tbody tr th {\n",
       "        vertical-align: top;\n",
       "    }\n",
       "\n",
       "    .dataframe thead th {\n",
       "        text-align: right;\n",
       "    }\n",
       "</style>\n",
       "<table border=\"1\" class=\"dataframe\">\n",
       "  <thead>\n",
       "    <tr style=\"text-align: right;\">\n",
       "      <th></th>\n",
       "      <th>title</th>\n",
       "      <th>text</th>\n",
       "      <th>date_stayed</th>\n",
       "      <th>offering_id</th>\n",
       "      <th>num_helpful_votes</th>\n",
       "      <th>date</th>\n",
       "      <th>id_x</th>\n",
       "      <th>via_mobile</th>\n",
       "      <th>username</th>\n",
       "      <th>num_cities</th>\n",
       "      <th>...</th>\n",
       "      <th>phone</th>\n",
       "      <th>details</th>\n",
       "      <th>address</th>\n",
       "      <th>type</th>\n",
       "      <th>id_y</th>\n",
       "      <th>name</th>\n",
       "      <th>region</th>\n",
       "      <th>street-address</th>\n",
       "      <th>postal-code</th>\n",
       "      <th>locality</th>\n",
       "    </tr>\n",
       "  </thead>\n",
       "  <tbody>\n",
       "    <tr>\n",
       "      <th>0</th>\n",
       "      <td>“Truly is \"Jewel of the Upper Wets Side\"”</td>\n",
       "      <td>Stayed in a king suite for 11 nights and yes i...</td>\n",
       "      <td>December 2012</td>\n",
       "      <td>93338</td>\n",
       "      <td>0</td>\n",
       "      <td>December 17, 2012</td>\n",
       "      <td>147643103</td>\n",
       "      <td>False</td>\n",
       "      <td>Papa_Panda</td>\n",
       "      <td>22.0</td>\n",
       "      <td>...</td>\n",
       "      <td></td>\n",
       "      <td>None</td>\n",
       "      <td>{'region': 'NY', 'street-address': '2130 Broad...</td>\n",
       "      <td>hotel</td>\n",
       "      <td>93338</td>\n",
       "      <td>Hotel Beacon</td>\n",
       "      <td>NY</td>\n",
       "      <td>2130 Broadway at 75th Street</td>\n",
       "      <td>10023</td>\n",
       "      <td>New York City</td>\n",
       "    </tr>\n",
       "    <tr>\n",
       "      <th>1</th>\n",
       "      <td>“My home away from home!”</td>\n",
       "      <td>On every visit to NYC, the Hotel Beacon is the...</td>\n",
       "      <td>December 2012</td>\n",
       "      <td>93338</td>\n",
       "      <td>0</td>\n",
       "      <td>December 17, 2012</td>\n",
       "      <td>147639004</td>\n",
       "      <td>False</td>\n",
       "      <td>Maureen V</td>\n",
       "      <td>2.0</td>\n",
       "      <td>...</td>\n",
       "      <td></td>\n",
       "      <td>None</td>\n",
       "      <td>{'region': 'NY', 'street-address': '2130 Broad...</td>\n",
       "      <td>hotel</td>\n",
       "      <td>93338</td>\n",
       "      <td>Hotel Beacon</td>\n",
       "      <td>NY</td>\n",
       "      <td>2130 Broadway at 75th Street</td>\n",
       "      <td>10023</td>\n",
       "      <td>New York City</td>\n",
       "    </tr>\n",
       "    <tr>\n",
       "      <th>2</th>\n",
       "      <td>“Excellent location”</td>\n",
       "      <td>Loved the hotel. Great location - only 2 block...</td>\n",
       "      <td>December 2012</td>\n",
       "      <td>93338</td>\n",
       "      <td>0</td>\n",
       "      <td>December 17, 2012</td>\n",
       "      <td>147634248</td>\n",
       "      <td>False</td>\n",
       "      <td>Erica1103</td>\n",
       "      <td>2.0</td>\n",
       "      <td>...</td>\n",
       "      <td></td>\n",
       "      <td>None</td>\n",
       "      <td>{'region': 'NY', 'street-address': '2130 Broad...</td>\n",
       "      <td>hotel</td>\n",
       "      <td>93338</td>\n",
       "      <td>Hotel Beacon</td>\n",
       "      <td>NY</td>\n",
       "      <td>2130 Broadway at 75th Street</td>\n",
       "      <td>10023</td>\n",
       "      <td>New York City</td>\n",
       "    </tr>\n",
       "    <tr>\n",
       "      <th>3</th>\n",
       "      <td>“All-round fantastic NYC hotel”</td>\n",
       "      <td>Our first stay on the upper west side and can'...</td>\n",
       "      <td>December 2012</td>\n",
       "      <td>93338</td>\n",
       "      <td>0</td>\n",
       "      <td>December 17, 2012</td>\n",
       "      <td>147625002</td>\n",
       "      <td>False</td>\n",
       "      <td>rmfindc</td>\n",
       "      <td>2.0</td>\n",
       "      <td>...</td>\n",
       "      <td></td>\n",
       "      <td>None</td>\n",
       "      <td>{'region': 'NY', 'street-address': '2130 Broad...</td>\n",
       "      <td>hotel</td>\n",
       "      <td>93338</td>\n",
       "      <td>Hotel Beacon</td>\n",
       "      <td>NY</td>\n",
       "      <td>2130 Broadway at 75th Street</td>\n",
       "      <td>10023</td>\n",
       "      <td>New York City</td>\n",
       "    </tr>\n",
       "    <tr>\n",
       "      <th>4</th>\n",
       "      <td>“Great hotel in nice area”</td>\n",
       "      <td>Great room, very big with huge bed! Great loca...</td>\n",
       "      <td>December 2012</td>\n",
       "      <td>93338</td>\n",
       "      <td>0</td>\n",
       "      <td>December 17, 2012</td>\n",
       "      <td>147623184</td>\n",
       "      <td>False</td>\n",
       "      <td>MiloandMaya</td>\n",
       "      <td>2.0</td>\n",
       "      <td>...</td>\n",
       "      <td></td>\n",
       "      <td>None</td>\n",
       "      <td>{'region': 'NY', 'street-address': '2130 Broad...</td>\n",
       "      <td>hotel</td>\n",
       "      <td>93338</td>\n",
       "      <td>Hotel Beacon</td>\n",
       "      <td>NY</td>\n",
       "      <td>2130 Broadway at 75th Street</td>\n",
       "      <td>10023</td>\n",
       "      <td>New York City</td>\n",
       "    </tr>\n",
       "  </tbody>\n",
       "</table>\n",
       "<p>5 rows × 34 columns</p>\n",
       "</div>"
      ],
      "text/plain": [
       "                                       title  \\\n",
       "0  “Truly is \"Jewel of the Upper Wets Side\"”   \n",
       "1                  “My home away from home!”   \n",
       "2                       “Excellent location”   \n",
       "3            “All-round fantastic NYC hotel”   \n",
       "4                 “Great hotel in nice area”   \n",
       "\n",
       "                                                text    date_stayed  \\\n",
       "0  Stayed in a king suite for 11 nights and yes i...  December 2012   \n",
       "1  On every visit to NYC, the Hotel Beacon is the...  December 2012   \n",
       "2  Loved the hotel. Great location - only 2 block...  December 2012   \n",
       "3  Our first stay on the upper west side and can'...  December 2012   \n",
       "4  Great room, very big with huge bed! Great loca...  December 2012   \n",
       "\n",
       "   offering_id  num_helpful_votes               date       id_x  via_mobile  \\\n",
       "0        93338                  0  December 17, 2012  147643103       False   \n",
       "1        93338                  0  December 17, 2012  147639004       False   \n",
       "2        93338                  0  December 17, 2012  147634248       False   \n",
       "3        93338                  0  December 17, 2012  147625002       False   \n",
       "4        93338                  0  December 17, 2012  147623184       False   \n",
       "\n",
       "      username  num_cities  ...  phone  details  \\\n",
       "0   Papa_Panda        22.0  ...            None   \n",
       "1    Maureen V         2.0  ...            None   \n",
       "2    Erica1103         2.0  ...            None   \n",
       "3      rmfindc         2.0  ...            None   \n",
       "4  MiloandMaya         2.0  ...            None   \n",
       "\n",
       "                                             address   type   id_y  \\\n",
       "0  {'region': 'NY', 'street-address': '2130 Broad...  hotel  93338   \n",
       "1  {'region': 'NY', 'street-address': '2130 Broad...  hotel  93338   \n",
       "2  {'region': 'NY', 'street-address': '2130 Broad...  hotel  93338   \n",
       "3  {'region': 'NY', 'street-address': '2130 Broad...  hotel  93338   \n",
       "4  {'region': 'NY', 'street-address': '2130 Broad...  hotel  93338   \n",
       "\n",
       "           name  region                street-address  postal-code  \\\n",
       "0  Hotel Beacon      NY  2130 Broadway at 75th Street        10023   \n",
       "1  Hotel Beacon      NY  2130 Broadway at 75th Street        10023   \n",
       "2  Hotel Beacon      NY  2130 Broadway at 75th Street        10023   \n",
       "3  Hotel Beacon      NY  2130 Broadway at 75th Street        10023   \n",
       "4  Hotel Beacon      NY  2130 Broadway at 75th Street        10023   \n",
       "\n",
       "        locality  \n",
       "0  New York City  \n",
       "1  New York City  \n",
       "2  New York City  \n",
       "3  New York City  \n",
       "4  New York City  \n",
       "\n",
       "[5 rows x 34 columns]"
      ]
     },
     "execution_count": 20,
     "metadata": {},
     "output_type": "execute_result"
    }
   ],
   "source": [
    "df.head(5)"
   ]
  },
  {
   "cell_type": "markdown",
   "metadata": {},
   "source": [
    "# read in csv file after fill in NA value"
   ]
  },
  {
   "cell_type": "markdown",
   "metadata": {},
   "source": [
    "## Note: code for fill in NA value is in: ISE540_projectcode_PART3"
   ]
  },
  {
   "cell_type": "code",
   "execution_count": 171,
   "metadata": {},
   "outputs": [
    {
     "name": "stderr",
     "output_type": "stream",
     "text": [
      "/Users/siyuan/opt/anaconda3/lib/python3.8/site-packages/IPython/core/interactiveshell.py:3071: DtypeWarning: Columns (30) have mixed types.Specify dtype option on import or set low_memory=False.\n",
      "  has_raised = await self.run_ast_nodes(code_ast.body, cell_name,\n"
     ]
    }
   ],
   "source": [
    "df1 = pd.read_csv('review_offer_combined.csv')"
   ]
  },
  {
   "cell_type": "code",
   "execution_count": 172,
   "metadata": {},
   "outputs": [],
   "source": [
    "df1 = df1.drop('address',axis=1)"
   ]
  },
  {
   "cell_type": "code",
   "execution_count": 173,
   "metadata": {},
   "outputs": [
    {
     "data": {
      "text/plain": [
       "Unnamed: 0                  0\n",
       "title                       0\n",
       "text                        0\n",
       "offering_id                 0\n",
       "num_helpful_votes           0\n",
       "date                        0\n",
       "id_x                        0\n",
       "via_mobile                  0\n",
       "username                    0\n",
       "num_cities                  0\n",
       "num_reviews                 0\n",
       "num_type_reviews            0\n",
       "author_num_helpful_votes    0\n",
       "author_id                   0\n",
       "service                     0\n",
       "cleanliness                 0\n",
       "overall                     0\n",
       "value                       0\n",
       "location                    0\n",
       "sleep_quality               0\n",
       "rooms                       0\n",
       "hotel_class                 0\n",
       "region_id                   0\n",
       "url                         0\n",
       "type                        0\n",
       "id_y                        0\n",
       "name                        0\n",
       "region                      0\n",
       "street-address              1\n",
       "postal-code                 0\n",
       "locality                    0\n",
       "dtype: int64"
      ]
     },
     "execution_count": 173,
     "metadata": {},
     "output_type": "execute_result"
    }
   ],
   "source": [
    "df1.isna().sum()"
   ]
  },
  {
   "cell_type": "markdown",
   "metadata": {},
   "source": [
    "# Text Preprocessing & Cleaning Part 1"
   ]
  },
  {
   "cell_type": "code",
   "execution_count": 174,
   "metadata": {},
   "outputs": [],
   "source": [
    "def check_any_letter(txt):\n",
    "    return any(c.isalpha() for c in txt)"
   ]
  },
  {
   "cell_type": "code",
   "execution_count": 175,
   "metadata": {
    "scrolled": true
   },
   "outputs": [
    {
     "data": {
      "text/html": [
       "<div>\n",
       "<style scoped>\n",
       "    .dataframe tbody tr th:only-of-type {\n",
       "        vertical-align: middle;\n",
       "    }\n",
       "\n",
       "    .dataframe tbody tr th {\n",
       "        vertical-align: top;\n",
       "    }\n",
       "\n",
       "    .dataframe thead th {\n",
       "        text-align: right;\n",
       "    }\n",
       "</style>\n",
       "<table border=\"1\" class=\"dataframe\">\n",
       "  <thead>\n",
       "    <tr style=\"text-align: right;\">\n",
       "      <th></th>\n",
       "      <th>Unnamed: 0</th>\n",
       "      <th>title</th>\n",
       "      <th>text</th>\n",
       "      <th>offering_id</th>\n",
       "      <th>num_helpful_votes</th>\n",
       "      <th>date</th>\n",
       "      <th>id_x</th>\n",
       "      <th>via_mobile</th>\n",
       "      <th>username</th>\n",
       "      <th>num_cities</th>\n",
       "      <th>...</th>\n",
       "      <th>hotel_class</th>\n",
       "      <th>region_id</th>\n",
       "      <th>url</th>\n",
       "      <th>type</th>\n",
       "      <th>id_y</th>\n",
       "      <th>name</th>\n",
       "      <th>region</th>\n",
       "      <th>street-address</th>\n",
       "      <th>postal-code</th>\n",
       "      <th>locality</th>\n",
       "    </tr>\n",
       "  </thead>\n",
       "  <tbody>\n",
       "    <tr>\n",
       "      <th>91932</th>\n",
       "      <td>94660</td>\n",
       "      <td>“Ottima posizione, buono per dormirci”</td>\n",
       "      <td>.................................................</td>\n",
       "      <td>93520</td>\n",
       "      <td>0</td>\n",
       "      <td>September 10, 2009</td>\n",
       "      <td>40598063</td>\n",
       "      <td>False</td>\n",
       "      <td>volmay</td>\n",
       "      <td>4.0</td>\n",
       "      <td>...</td>\n",
       "      <td>4.0</td>\n",
       "      <td>60763</td>\n",
       "      <td>http://www.tripadvisor.com/Hotel_Review-g60763...</td>\n",
       "      <td>hotel</td>\n",
       "      <td>93520</td>\n",
       "      <td>Park Central</td>\n",
       "      <td>NY</td>\n",
       "      <td>870 Seventh Avenue at 56th Street</td>\n",
       "      <td>10019</td>\n",
       "      <td>New York City</td>\n",
       "    </tr>\n",
       "    <tr>\n",
       "      <th>341324</th>\n",
       "      <td>353321</td>\n",
       "      <td>“hotel tres chouette, personnel serviable”</td>\n",
       "      <td>9/10</td>\n",
       "      <td>502971</td>\n",
       "      <td>0</td>\n",
       "      <td>April 14, 2008</td>\n",
       "      <td>15570208</td>\n",
       "      <td>False</td>\n",
       "      <td>353321</td>\n",
       "      <td>0.0</td>\n",
       "      <td>...</td>\n",
       "      <td>2.0</td>\n",
       "      <td>32655</td>\n",
       "      <td>http://www.tripadvisor.com/Hotel_Review-g32655...</td>\n",
       "      <td>hotel</td>\n",
       "      <td>502971</td>\n",
       "      <td>Hollywood City Inn</td>\n",
       "      <td>CA</td>\n",
       "      <td>1615 N. Western Ave.</td>\n",
       "      <td>90027-4807</td>\n",
       "      <td>Los Angeles</td>\n",
       "    </tr>\n",
       "  </tbody>\n",
       "</table>\n",
       "<p>2 rows × 31 columns</p>\n",
       "</div>"
      ],
      "text/plain": [
       "        Unnamed: 0                                       title  \\\n",
       "91932        94660      “Ottima posizione, buono per dormirci”   \n",
       "341324      353321  “hotel tres chouette, personnel serviable”   \n",
       "\n",
       "                                                     text  offering_id  \\\n",
       "91932   .................................................        93520   \n",
       "341324                                               9/10       502971   \n",
       "\n",
       "        num_helpful_votes                date      id_x  via_mobile username  \\\n",
       "91932                   0  September 10, 2009  40598063       False   volmay   \n",
       "341324                  0      April 14, 2008  15570208       False   353321   \n",
       "\n",
       "        num_cities  ...  hotel_class  region_id  \\\n",
       "91932          4.0  ...          4.0      60763   \n",
       "341324         0.0  ...          2.0      32655   \n",
       "\n",
       "                                                      url   type    id_y  \\\n",
       "91932   http://www.tripadvisor.com/Hotel_Review-g60763...  hotel   93520   \n",
       "341324  http://www.tripadvisor.com/Hotel_Review-g32655...  hotel  502971   \n",
       "\n",
       "                      name  region                     street-address  \\\n",
       "91932         Park Central      NY  870 Seventh Avenue at 56th Street   \n",
       "341324  Hollywood City Inn      CA               1615 N. Western Ave.   \n",
       "\n",
       "        postal-code       locality  \n",
       "91932         10019  New York City  \n",
       "341324   90027-4807    Los Angeles  \n",
       "\n",
       "[2 rows x 31 columns]"
      ]
     },
     "execution_count": 175,
     "metadata": {},
     "output_type": "execute_result"
    }
   ],
   "source": [
    "df1[-df1['text'].apply(check_any_letter)]"
   ]
  },
  {
   "cell_type": "code",
   "execution_count": 176,
   "metadata": {},
   "outputs": [],
   "source": [
    "# just replace the text with the title\n",
    "df1.loc[353321,'text'] = df1.loc[353321,'title']\n",
    "df1.loc[94660,'text'] = df1.loc[94660,'title']"
   ]
  },
  {
   "cell_type": "code",
   "execution_count": 177,
   "metadata": {},
   "outputs": [
    {
     "data": {
      "text/html": [
       "<div>\n",
       "<style scoped>\n",
       "    .dataframe tbody tr th:only-of-type {\n",
       "        vertical-align: middle;\n",
       "    }\n",
       "\n",
       "    .dataframe tbody tr th {\n",
       "        vertical-align: top;\n",
       "    }\n",
       "\n",
       "    .dataframe thead th {\n",
       "        text-align: right;\n",
       "    }\n",
       "</style>\n",
       "<table border=\"1\" class=\"dataframe\">\n",
       "  <thead>\n",
       "    <tr style=\"text-align: right;\">\n",
       "      <th></th>\n",
       "      <th>Unnamed: 0</th>\n",
       "      <th>title</th>\n",
       "      <th>text</th>\n",
       "      <th>offering_id</th>\n",
       "      <th>num_helpful_votes</th>\n",
       "      <th>date</th>\n",
       "      <th>id_x</th>\n",
       "      <th>via_mobile</th>\n",
       "      <th>username</th>\n",
       "      <th>num_cities</th>\n",
       "      <th>...</th>\n",
       "      <th>hotel_class</th>\n",
       "      <th>region_id</th>\n",
       "      <th>url</th>\n",
       "      <th>type</th>\n",
       "      <th>id_y</th>\n",
       "      <th>name</th>\n",
       "      <th>region</th>\n",
       "      <th>street-address</th>\n",
       "      <th>postal-code</th>\n",
       "      <th>locality</th>\n",
       "    </tr>\n",
       "  </thead>\n",
       "  <tbody>\n",
       "    <tr>\n",
       "      <th>91932</th>\n",
       "      <td>94660</td>\n",
       "      <td>“Ottima posizione, buono per dormirci”</td>\n",
       "      <td>.................................................</td>\n",
       "      <td>93520</td>\n",
       "      <td>0</td>\n",
       "      <td>September 10, 2009</td>\n",
       "      <td>40598063</td>\n",
       "      <td>False</td>\n",
       "      <td>volmay</td>\n",
       "      <td>4.0</td>\n",
       "      <td>...</td>\n",
       "      <td>4.0</td>\n",
       "      <td>60763</td>\n",
       "      <td>http://www.tripadvisor.com/Hotel_Review-g60763...</td>\n",
       "      <td>hotel</td>\n",
       "      <td>93520</td>\n",
       "      <td>Park Central</td>\n",
       "      <td>NY</td>\n",
       "      <td>870 Seventh Avenue at 56th Street</td>\n",
       "      <td>10019</td>\n",
       "      <td>New York City</td>\n",
       "    </tr>\n",
       "    <tr>\n",
       "      <th>341324</th>\n",
       "      <td>353321</td>\n",
       "      <td>“hotel tres chouette, personnel serviable”</td>\n",
       "      <td>9/10</td>\n",
       "      <td>502971</td>\n",
       "      <td>0</td>\n",
       "      <td>April 14, 2008</td>\n",
       "      <td>15570208</td>\n",
       "      <td>False</td>\n",
       "      <td>353321</td>\n",
       "      <td>0.0</td>\n",
       "      <td>...</td>\n",
       "      <td>2.0</td>\n",
       "      <td>32655</td>\n",
       "      <td>http://www.tripadvisor.com/Hotel_Review-g32655...</td>\n",
       "      <td>hotel</td>\n",
       "      <td>502971</td>\n",
       "      <td>Hollywood City Inn</td>\n",
       "      <td>CA</td>\n",
       "      <td>1615 N. Western Ave.</td>\n",
       "      <td>90027-4807</td>\n",
       "      <td>Los Angeles</td>\n",
       "    </tr>\n",
       "  </tbody>\n",
       "</table>\n",
       "<p>2 rows × 31 columns</p>\n",
       "</div>"
      ],
      "text/plain": [
       "        Unnamed: 0                                       title  \\\n",
       "91932        94660      “Ottima posizione, buono per dormirci”   \n",
       "341324      353321  “hotel tres chouette, personnel serviable”   \n",
       "\n",
       "                                                     text  offering_id  \\\n",
       "91932   .................................................        93520   \n",
       "341324                                               9/10       502971   \n",
       "\n",
       "        num_helpful_votes                date      id_x  via_mobile username  \\\n",
       "91932                   0  September 10, 2009  40598063       False   volmay   \n",
       "341324                  0      April 14, 2008  15570208       False   353321   \n",
       "\n",
       "        num_cities  ...  hotel_class  region_id  \\\n",
       "91932          4.0  ...          4.0      60763   \n",
       "341324         0.0  ...          2.0      32655   \n",
       "\n",
       "                                                      url   type    id_y  \\\n",
       "91932   http://www.tripadvisor.com/Hotel_Review-g60763...  hotel   93520   \n",
       "341324  http://www.tripadvisor.com/Hotel_Review-g32655...  hotel  502971   \n",
       "\n",
       "                      name  region                     street-address  \\\n",
       "91932         Park Central      NY  870 Seventh Avenue at 56th Street   \n",
       "341324  Hollywood City Inn      CA               1615 N. Western Ave.   \n",
       "\n",
       "        postal-code       locality  \n",
       "91932         10019  New York City  \n",
       "341324   90027-4807    Los Angeles  \n",
       "\n",
       "[2 rows x 31 columns]"
      ]
     },
     "execution_count": 177,
     "metadata": {},
     "output_type": "execute_result"
    }
   ],
   "source": [
    "# all cleaned\n",
    "df1[-df1['text'].apply(check_any_letter)]"
   ]
  },
  {
   "cell_type": "code",
   "execution_count": 178,
   "metadata": {},
   "outputs": [
    {
     "data": {
      "text/html": [
       "<div>\n",
       "<style scoped>\n",
       "    .dataframe tbody tr th:only-of-type {\n",
       "        vertical-align: middle;\n",
       "    }\n",
       "\n",
       "    .dataframe tbody tr th {\n",
       "        vertical-align: top;\n",
       "    }\n",
       "\n",
       "    .dataframe thead th {\n",
       "        text-align: right;\n",
       "    }\n",
       "</style>\n",
       "<table border=\"1\" class=\"dataframe\">\n",
       "  <thead>\n",
       "    <tr style=\"text-align: right;\">\n",
       "      <th></th>\n",
       "      <th>Unnamed: 0</th>\n",
       "      <th>title</th>\n",
       "      <th>text</th>\n",
       "      <th>offering_id</th>\n",
       "      <th>num_helpful_votes</th>\n",
       "      <th>date</th>\n",
       "      <th>id_x</th>\n",
       "      <th>via_mobile</th>\n",
       "      <th>username</th>\n",
       "      <th>num_cities</th>\n",
       "      <th>...</th>\n",
       "      <th>hotel_class</th>\n",
       "      <th>region_id</th>\n",
       "      <th>url</th>\n",
       "      <th>type</th>\n",
       "      <th>id_y</th>\n",
       "      <th>name</th>\n",
       "      <th>region</th>\n",
       "      <th>street-address</th>\n",
       "      <th>postal-code</th>\n",
       "      <th>locality</th>\n",
       "    </tr>\n",
       "  </thead>\n",
       "  <tbody>\n",
       "    <tr>\n",
       "      <th>3125</th>\n",
       "      <td>3125</td>\n",
       "      <td>“♥♥♥”</td>\n",
       "      <td>Loved this place. I was at the Eventi for four...</td>\n",
       "      <td>1456560</td>\n",
       "      <td>2</td>\n",
       "      <td>July 12, 2012</td>\n",
       "      <td>134178655</td>\n",
       "      <td>False</td>\n",
       "      <td>backpacker3667</td>\n",
       "      <td>6.0</td>\n",
       "      <td>...</td>\n",
       "      <td>4.0</td>\n",
       "      <td>60763</td>\n",
       "      <td>http://www.tripadvisor.com/Hotel_Review-g60763...</td>\n",
       "      <td>hotel</td>\n",
       "      <td>1456560</td>\n",
       "      <td>Eventi - a Kimpton Hotel</td>\n",
       "      <td>NY</td>\n",
       "      <td>851 Avenue of the Americas (Sixth Avenue)</td>\n",
       "      <td>10001</td>\n",
       "      <td>New York City</td>\n",
       "    </tr>\n",
       "    <tr>\n",
       "      <th>7908</th>\n",
       "      <td>7916</td>\n",
       "      <td>“=)”</td>\n",
       "      <td>Staff is very friendly , convinience of kitche...</td>\n",
       "      <td>240436</td>\n",
       "      <td>0</td>\n",
       "      <td>November 16, 2011</td>\n",
       "      <td>120672297</td>\n",
       "      <td>False</td>\n",
       "      <td>acu644</td>\n",
       "      <td>2.0</td>\n",
       "      <td>...</td>\n",
       "      <td>2.0</td>\n",
       "      <td>56003</td>\n",
       "      <td>http://www.tripadvisor.com/Hotel_Review-g56003...</td>\n",
       "      <td>hotel</td>\n",
       "      <td>240436</td>\n",
       "      <td>Carefree Inn Medical Center</td>\n",
       "      <td>TX</td>\n",
       "      <td>10015 South Main Street</td>\n",
       "      <td>77025-5209</td>\n",
       "      <td>Houston</td>\n",
       "    </tr>\n",
       "    <tr>\n",
       "      <th>23333</th>\n",
       "      <td>24017</td>\n",
       "      <td>“2422”</td>\n",
       "      <td>The Sofitel in New York is everything that you...</td>\n",
       "      <td>208454</td>\n",
       "      <td>4</td>\n",
       "      <td>August 10, 2011</td>\n",
       "      <td>116517243</td>\n",
       "      <td>False</td>\n",
       "      <td>Getting0ut0fDC</td>\n",
       "      <td>2.0</td>\n",
       "      <td>...</td>\n",
       "      <td>4.5</td>\n",
       "      <td>60763</td>\n",
       "      <td>http://www.tripadvisor.com/Hotel_Review-g60763...</td>\n",
       "      <td>hotel</td>\n",
       "      <td>208454</td>\n",
       "      <td>Sofitel New York</td>\n",
       "      <td>NY</td>\n",
       "      <td>45 West 44th Street</td>\n",
       "      <td>10036</td>\n",
       "      <td>New York City</td>\n",
       "    </tr>\n",
       "    <tr>\n",
       "      <th>31333</th>\n",
       "      <td>32017</td>\n",
       "      <td>“10”</td>\n",
       "      <td>Nice rooms, very good breakfast and the best.....</td>\n",
       "      <td>578305</td>\n",
       "      <td>0</td>\n",
       "      <td>April 12, 2010</td>\n",
       "      <td>61107894</td>\n",
       "      <td>False</td>\n",
       "      <td>MSmith42</td>\n",
       "      <td>3.0</td>\n",
       "      <td>...</td>\n",
       "      <td>3.0</td>\n",
       "      <td>60763</td>\n",
       "      <td>http://www.tripadvisor.com/Hotel_Review-g60763...</td>\n",
       "      <td>hotel</td>\n",
       "      <td>578305</td>\n",
       "      <td>Residence Inn by Marriott Times Square New York</td>\n",
       "      <td>NY</td>\n",
       "      <td>1033 Avenue of the Americas</td>\n",
       "      <td>10018</td>\n",
       "      <td>New York City</td>\n",
       "    </tr>\n",
       "    <tr>\n",
       "      <th>37264</th>\n",
       "      <td>38169</td>\n",
       "      <td>“10/10”</td>\n",
       "      <td>Well done to whoever choose the staff. You hav...</td>\n",
       "      <td>93543</td>\n",
       "      <td>1</td>\n",
       "      <td>December 7, 2010</td>\n",
       "      <td>89288829</td>\n",
       "      <td>False</td>\n",
       "      <td>MonikaHalwaxSherry</td>\n",
       "      <td>5.0</td>\n",
       "      <td>...</td>\n",
       "      <td>4.0</td>\n",
       "      <td>60763</td>\n",
       "      <td>http://www.tripadvisor.com/Hotel_Review-g60763...</td>\n",
       "      <td>hotel</td>\n",
       "      <td>93543</td>\n",
       "      <td>Affinia Shelburne</td>\n",
       "      <td>NY</td>\n",
       "      <td>303 Lexington Ave</td>\n",
       "      <td>10016</td>\n",
       "      <td>New York City</td>\n",
       "    </tr>\n",
       "    <tr>\n",
       "      <th>...</th>\n",
       "      <td>...</td>\n",
       "      <td>...</td>\n",
       "      <td>...</td>\n",
       "      <td>...</td>\n",
       "      <td>...</td>\n",
       "      <td>...</td>\n",
       "      <td>...</td>\n",
       "      <td>...</td>\n",
       "      <td>...</td>\n",
       "      <td>...</td>\n",
       "      <td>...</td>\n",
       "      <td>...</td>\n",
       "      <td>...</td>\n",
       "      <td>...</td>\n",
       "      <td>...</td>\n",
       "      <td>...</td>\n",
       "      <td>...</td>\n",
       "      <td>...</td>\n",
       "      <td>...</td>\n",
       "      <td>...</td>\n",
       "      <td>...</td>\n",
       "    </tr>\n",
       "    <tr>\n",
       "      <th>815996</th>\n",
       "      <td>850892</td>\n",
       "      <td>“:)”</td>\n",
       "      <td>Un 10! en todo :) Aparcacoches, Situado a 0 de...</td>\n",
       "      <td>120614</td>\n",
       "      <td>0</td>\n",
       "      <td>July 21, 2010</td>\n",
       "      <td>71812394</td>\n",
       "      <td>False</td>\n",
       "      <td>CristinaA7</td>\n",
       "      <td>4.0</td>\n",
       "      <td>...</td>\n",
       "      <td>3.5</td>\n",
       "      <td>28970</td>\n",
       "      <td>http://www.tripadvisor.com/Hotel_Review-g28970...</td>\n",
       "      <td>hotel</td>\n",
       "      <td>120614</td>\n",
       "      <td>Hamilton Crowne Plaza Hotel</td>\n",
       "      <td>DC</td>\n",
       "      <td>1001 14th St. NW</td>\n",
       "      <td>20005</td>\n",
       "      <td>Washington DC</td>\n",
       "    </tr>\n",
       "    <tr>\n",
       "      <th>822760</th>\n",
       "      <td>857713</td>\n",
       "      <td>“10/10”</td>\n",
       "      <td>We recently visited Washington for the 1st tim...</td>\n",
       "      <td>84098</td>\n",
       "      <td>5</td>\n",
       "      <td>August 5, 2007</td>\n",
       "      <td>8355409</td>\n",
       "      <td>False</td>\n",
       "      <td>alexstevenjenn</td>\n",
       "      <td>4.0</td>\n",
       "      <td>...</td>\n",
       "      <td>3.5</td>\n",
       "      <td>28970</td>\n",
       "      <td>http://www.tripadvisor.com/Hotel_Review-g28970...</td>\n",
       "      <td>hotel</td>\n",
       "      <td>84098</td>\n",
       "      <td>Renaissance Washington, DC Hotel</td>\n",
       "      <td>DC</td>\n",
       "      <td>999 Ninth St NW</td>\n",
       "      <td>20001</td>\n",
       "      <td>Washington DC</td>\n",
       "    </tr>\n",
       "    <tr>\n",
       "      <th>825056</th>\n",
       "      <td>860009</td>\n",
       "      <td>“3 1/2*”</td>\n",
       "      <td>I have stayed at this hotel twice in the past ...</td>\n",
       "      <td>84079</td>\n",
       "      <td>0</td>\n",
       "      <td>January 15, 2012</td>\n",
       "      <td>123117843</td>\n",
       "      <td>False</td>\n",
       "      <td>new63berry</td>\n",
       "      <td>3.0</td>\n",
       "      <td>...</td>\n",
       "      <td>4.0</td>\n",
       "      <td>28970</td>\n",
       "      <td>http://www.tripadvisor.com/Hotel_Review-g28970...</td>\n",
       "      <td>hotel</td>\n",
       "      <td>84079</td>\n",
       "      <td>JW Marriott Washington DC</td>\n",
       "      <td>DC</td>\n",
       "      <td>1331 Pennsylvania Ave NW</td>\n",
       "      <td>20004</td>\n",
       "      <td>Washington DC</td>\n",
       "    </tr>\n",
       "    <tr>\n",
       "      <th>840939</th>\n",
       "      <td>875892</td>\n",
       "      <td>“9-12”</td>\n",
       "      <td>The best they do is the attention, is personal...</td>\n",
       "      <td>235513</td>\n",
       "      <td>0</td>\n",
       "      <td>March 7, 2010</td>\n",
       "      <td>57914061</td>\n",
       "      <td>False</td>\n",
       "      <td>mcarrera7</td>\n",
       "      <td>2.0</td>\n",
       "      <td>...</td>\n",
       "      <td>4.5</td>\n",
       "      <td>28970</td>\n",
       "      <td>http://www.tripadvisor.com/Hotel_Review-g28970...</td>\n",
       "      <td>hotel</td>\n",
       "      <td>235513</td>\n",
       "      <td>Sofitel Washington DC</td>\n",
       "      <td>DC</td>\n",
       "      <td>806 15th Street NW</td>\n",
       "      <td>20005</td>\n",
       "      <td>Washington DC</td>\n",
       "    </tr>\n",
       "    <tr>\n",
       "      <th>841230</th>\n",
       "      <td>876183</td>\n",
       "      <td>“# 1?”</td>\n",
       "      <td>I stayed at this hotel with high expecations s...</td>\n",
       "      <td>235513</td>\n",
       "      <td>7</td>\n",
       "      <td>September 13, 2006</td>\n",
       "      <td>5799030</td>\n",
       "      <td>False</td>\n",
       "      <td>love2trabel</td>\n",
       "      <td>3.0</td>\n",
       "      <td>...</td>\n",
       "      <td>4.5</td>\n",
       "      <td>28970</td>\n",
       "      <td>http://www.tripadvisor.com/Hotel_Review-g28970...</td>\n",
       "      <td>hotel</td>\n",
       "      <td>235513</td>\n",
       "      <td>Sofitel Washington DC</td>\n",
       "      <td>DC</td>\n",
       "      <td>806 15th Street NW</td>\n",
       "      <td>20005</td>\n",
       "      <td>Washington DC</td>\n",
       "    </tr>\n",
       "  </tbody>\n",
       "</table>\n",
       "<p>111 rows × 31 columns</p>\n",
       "</div>"
      ],
      "text/plain": [
       "        Unnamed: 0     title  \\\n",
       "3125          3125     “♥♥♥”   \n",
       "7908          7916      “=)”   \n",
       "23333        24017    “2422”   \n",
       "31333        32017      “10”   \n",
       "37264        38169   “10/10”   \n",
       "...            ...       ...   \n",
       "815996      850892      “:)”   \n",
       "822760      857713   “10/10”   \n",
       "825056      860009  “3 1/2*”   \n",
       "840939      875892    “9-12”   \n",
       "841230      876183    “# 1?”   \n",
       "\n",
       "                                                     text  offering_id  \\\n",
       "3125    Loved this place. I was at the Eventi for four...      1456560   \n",
       "7908    Staff is very friendly , convinience of kitche...       240436   \n",
       "23333   The Sofitel in New York is everything that you...       208454   \n",
       "31333   Nice rooms, very good breakfast and the best.....       578305   \n",
       "37264   Well done to whoever choose the staff. You hav...        93543   \n",
       "...                                                   ...          ...   \n",
       "815996  Un 10! en todo :) Aparcacoches, Situado a 0 de...       120614   \n",
       "822760  We recently visited Washington for the 1st tim...        84098   \n",
       "825056  I have stayed at this hotel twice in the past ...        84079   \n",
       "840939  The best they do is the attention, is personal...       235513   \n",
       "841230  I stayed at this hotel with high expecations s...       235513   \n",
       "\n",
       "        num_helpful_votes                date       id_x  via_mobile  \\\n",
       "3125                    2       July 12, 2012  134178655       False   \n",
       "7908                    0   November 16, 2011  120672297       False   \n",
       "23333                   4     August 10, 2011  116517243       False   \n",
       "31333                   0      April 12, 2010   61107894       False   \n",
       "37264                   1    December 7, 2010   89288829       False   \n",
       "...                   ...                 ...        ...         ...   \n",
       "815996                  0       July 21, 2010   71812394       False   \n",
       "822760                  5      August 5, 2007    8355409       False   \n",
       "825056                  0    January 15, 2012  123117843       False   \n",
       "840939                  0       March 7, 2010   57914061       False   \n",
       "841230                  7  September 13, 2006    5799030       False   \n",
       "\n",
       "                  username  num_cities  ...  hotel_class  region_id  \\\n",
       "3125        backpacker3667         6.0  ...          4.0      60763   \n",
       "7908                acu644         2.0  ...          2.0      56003   \n",
       "23333       Getting0ut0fDC         2.0  ...          4.5      60763   \n",
       "31333             MSmith42         3.0  ...          3.0      60763   \n",
       "37264   MonikaHalwaxSherry         5.0  ...          4.0      60763   \n",
       "...                    ...         ...  ...          ...        ...   \n",
       "815996          CristinaA7         4.0  ...          3.5      28970   \n",
       "822760      alexstevenjenn         4.0  ...          3.5      28970   \n",
       "825056          new63berry         3.0  ...          4.0      28970   \n",
       "840939           mcarrera7         2.0  ...          4.5      28970   \n",
       "841230         love2trabel         3.0  ...          4.5      28970   \n",
       "\n",
       "                                                      url   type     id_y  \\\n",
       "3125    http://www.tripadvisor.com/Hotel_Review-g60763...  hotel  1456560   \n",
       "7908    http://www.tripadvisor.com/Hotel_Review-g56003...  hotel   240436   \n",
       "23333   http://www.tripadvisor.com/Hotel_Review-g60763...  hotel   208454   \n",
       "31333   http://www.tripadvisor.com/Hotel_Review-g60763...  hotel   578305   \n",
       "37264   http://www.tripadvisor.com/Hotel_Review-g60763...  hotel    93543   \n",
       "...                                                   ...    ...      ...   \n",
       "815996  http://www.tripadvisor.com/Hotel_Review-g28970...  hotel   120614   \n",
       "822760  http://www.tripadvisor.com/Hotel_Review-g28970...  hotel    84098   \n",
       "825056  http://www.tripadvisor.com/Hotel_Review-g28970...  hotel    84079   \n",
       "840939  http://www.tripadvisor.com/Hotel_Review-g28970...  hotel   235513   \n",
       "841230  http://www.tripadvisor.com/Hotel_Review-g28970...  hotel   235513   \n",
       "\n",
       "                                                   name  region  \\\n",
       "3125                           Eventi - a Kimpton Hotel      NY   \n",
       "7908                        Carefree Inn Medical Center      TX   \n",
       "23333                                  Sofitel New York      NY   \n",
       "31333   Residence Inn by Marriott Times Square New York      NY   \n",
       "37264                                 Affinia Shelburne      NY   \n",
       "...                                                 ...     ...   \n",
       "815996                      Hamilton Crowne Plaza Hotel      DC   \n",
       "822760                 Renaissance Washington, DC Hotel      DC   \n",
       "825056                        JW Marriott Washington DC      DC   \n",
       "840939                            Sofitel Washington DC      DC   \n",
       "841230                            Sofitel Washington DC      DC   \n",
       "\n",
       "                                   street-address  postal-code       locality  \n",
       "3125    851 Avenue of the Americas (Sixth Avenue)        10001  New York City  \n",
       "7908                      10015 South Main Street   77025-5209        Houston  \n",
       "23333                         45 West 44th Street        10036  New York City  \n",
       "31333                 1033 Avenue of the Americas        10018  New York City  \n",
       "37264                           303 Lexington Ave        10016  New York City  \n",
       "...                                           ...          ...            ...  \n",
       "815996                           1001 14th St. NW        20005  Washington DC  \n",
       "822760                            999 Ninth St NW        20001  Washington DC  \n",
       "825056                   1331 Pennsylvania Ave NW        20004  Washington DC  \n",
       "840939                         806 15th Street NW        20005  Washington DC  \n",
       "841230                         806 15th Street NW        20005  Washington DC  \n",
       "\n",
       "[111 rows x 31 columns]"
      ]
     },
     "execution_count": 178,
     "metadata": {},
     "output_type": "execute_result"
    }
   ],
   "source": [
    "df1[-df1['title'].apply(check_any_letter)]"
   ]
  },
  {
   "cell_type": "code",
   "execution_count": 179,
   "metadata": {},
   "outputs": [],
   "source": [
    "non_letter_title_index = list(df1[-df1['title'].apply(check_any_letter)].index)"
   ]
  },
  {
   "cell_type": "code",
   "execution_count": 180,
   "metadata": {},
   "outputs": [],
   "source": [
    "# just replace the title with the text\n",
    "for i in non_letter_title_index:\n",
    "    df1.loc[i,'title'] = df1.loc[i,'text']"
   ]
  },
  {
   "cell_type": "code",
   "execution_count": 181,
   "metadata": {},
   "outputs": [
    {
     "data": {
      "text/html": [
       "<div>\n",
       "<style scoped>\n",
       "    .dataframe tbody tr th:only-of-type {\n",
       "        vertical-align: middle;\n",
       "    }\n",
       "\n",
       "    .dataframe tbody tr th {\n",
       "        vertical-align: top;\n",
       "    }\n",
       "\n",
       "    .dataframe thead th {\n",
       "        text-align: right;\n",
       "    }\n",
       "</style>\n",
       "<table border=\"1\" class=\"dataframe\">\n",
       "  <thead>\n",
       "    <tr style=\"text-align: right;\">\n",
       "      <th></th>\n",
       "      <th>Unnamed: 0</th>\n",
       "      <th>title</th>\n",
       "      <th>text</th>\n",
       "      <th>offering_id</th>\n",
       "      <th>num_helpful_votes</th>\n",
       "      <th>date</th>\n",
       "      <th>id_x</th>\n",
       "      <th>via_mobile</th>\n",
       "      <th>username</th>\n",
       "      <th>num_cities</th>\n",
       "      <th>...</th>\n",
       "      <th>hotel_class</th>\n",
       "      <th>region_id</th>\n",
       "      <th>url</th>\n",
       "      <th>type</th>\n",
       "      <th>id_y</th>\n",
       "      <th>name</th>\n",
       "      <th>region</th>\n",
       "      <th>street-address</th>\n",
       "      <th>postal-code</th>\n",
       "      <th>locality</th>\n",
       "    </tr>\n",
       "  </thead>\n",
       "  <tbody>\n",
       "  </tbody>\n",
       "</table>\n",
       "<p>0 rows × 31 columns</p>\n",
       "</div>"
      ],
      "text/plain": [
       "Empty DataFrame\n",
       "Columns: [Unnamed: 0, title, text, offering_id, num_helpful_votes, date, id_x, via_mobile, username, num_cities, num_reviews, num_type_reviews, author_num_helpful_votes, author_id, service, cleanliness, overall, value, location, sleep_quality, rooms, hotel_class, region_id, url, type, id_y, name, region, street-address, postal-code, locality]\n",
       "Index: []\n",
       "\n",
       "[0 rows x 31 columns]"
      ]
     },
     "execution_count": 181,
     "metadata": {},
     "output_type": "execute_result"
    }
   ],
   "source": [
    "# all cleaned\n",
    "df1[-df1['title'].apply(check_any_letter)]"
   ]
  },
  {
   "cell_type": "markdown",
   "metadata": {},
   "source": [
    "# Text Preprocessing & Cleaning Part 2"
   ]
  },
  {
   "cell_type": "markdown",
   "metadata": {},
   "source": [
    "### Note: this is directly imported csv file, the code for this section is in file \"ISE540_projectcode_PART1.ipynb\""
   ]
  },
  {
   "cell_type": "code",
   "execution_count": 182,
   "metadata": {},
   "outputs": [
    {
     "name": "stderr",
     "output_type": "stream",
     "text": [
      "/Users/siyuan/opt/anaconda3/lib/python3.8/site-packages/IPython/core/interactiveshell.py:3071: DtypeWarning: Columns (21) have mixed types.Specify dtype option on import or set low_memory=False.\n",
      "  has_raised = await self.run_ast_nodes(code_ast.body, cell_name,\n"
     ]
    }
   ],
   "source": [
    "df2 = pd.read_csv('converted_text.csv')"
   ]
  },
  {
   "cell_type": "markdown",
   "metadata": {},
   "source": [
    "# Merge the two read-in CSVs into One "
   ]
  },
  {
   "cell_type": "code",
   "execution_count": 188,
   "metadata": {},
   "outputs": [],
   "source": [
    "df_merge = df2.merge(df1,on = 'Unnamed: 0',how = 'inner')"
   ]
  },
  {
   "cell_type": "code",
   "execution_count": 193,
   "metadata": {},
   "outputs": [
    {
     "data": {
      "text/plain": [
       "Index(['Unnamed: 0', 'title', 'text', 'offering_id', 'num_helpful_votes',\n",
       "       'date', 'id_x', 'via_mobile', 'username', 'num_cities', 'num_reviews',\n",
       "       'num_type_reviews', 'author_num_helpful_votes', 'author_id', 'service',\n",
       "       'cleanliness', 'overall', 'value', 'location', 'sleep_quality', 'rooms',\n",
       "       'hotel_class', 'region_id', 'url', 'type', 'id_y', 'name', 'region',\n",
       "       'street-address', 'postal-code', 'locality'],\n",
       "      dtype='object')"
      ]
     },
     "execution_count": 193,
     "metadata": {},
     "output_type": "execute_result"
    }
   ],
   "source": [
    "df1.columns"
   ]
  },
  {
   "cell_type": "code",
   "execution_count": 195,
   "metadata": {},
   "outputs": [],
   "source": [
    "selected_columns = ['title_x', 'text_x','type_x', 'offering_id_y', 'num_helpful_votes_y',\n",
    "'date_y', 'id_x_y', 'username_y', 'num_cities_y', 'num_reviews_y',\n",
    "       'num_type_reviews_y', 'author_num_helpful_votes_y', 'author_id_y', 'service_y',\n",
    "       'cleanliness_y', 'overall_y', 'value_y', 'location_y', 'sleep_quality_y', 'rooms_y',\n",
    "       'hotel_class_y', 'region_id_y', 'type_y', 'name_y', 'region_y',\n",
    "       'street-address_y', 'postal-code_y', 'locality_y']"
   ]
  },
  {
   "cell_type": "code",
   "execution_count": 199,
   "metadata": {},
   "outputs": [],
   "source": [
    "rename_col = ['title', 'text','type', 'offering_id', 'num_helpful_votes',\n",
    "              'date', 'id', 'username', 'num_cities', 'num_reviews','num_type_reviews', \n",
    "              'author_num_helpful_votes', 'author_id', 'service',\n",
    "              'cleanliness', 'overall', 'value', 'location', 'sleep_quality', 'rooms',\n",
    "              'hotel_class', 'region_id', 'type', 'name', 'region',\n",
    "              'street-address', 'postal-code', 'locality']\n",
    "df_merge = df_merge[selected_columns]\n",
    "df_merge.columns = rename_col"
   ]
  },
  {
   "cell_type": "markdown",
   "metadata": {},
   "source": [
    "## Stopwords, punctuation"
   ]
  },
  {
   "cell_type": "code",
   "execution_count": 203,
   "metadata": {},
   "outputs": [],
   "source": [
    "from nltk.corpus import stopwords \n",
    "from nltk.tokenize import word_tokenize\n",
    "import string\n",
    "# nltk.download('stopwords')\n",
    "# nltk.download('punkt')"
   ]
  },
  {
   "cell_type": "code",
   "execution_count": 205,
   "metadata": {},
   "outputs": [],
   "source": [
    "stop_words = set(stopwords.words('english')) \n",
    "word_tokens_list = []\n",
    "for s in list(df_merge.text):\n",
    "    s= s.replace('.',\"\")\n",
    "    s = s.replace(',', '')\n",
    "    s = s.replace('\\n', ' ')\n",
    "    s = s.replace('-', '')\n",
    "    s = s.replace('(', '')\n",
    "    s = s.replace(')', '')\n",
    "    s = s.replace('!', ' exclamation')\n",
    "    s = s.replace('?', ' questionmark')\n",
    "    s = s.replace('/', ' or ')\n",
    "    s = s.replace('&', ' and ')\n",
    "    s = s.replace('\\\\', \" \")\n",
    "    word_tokens_list.append(word_tokenize(s))"
   ]
  },
  {
   "cell_type": "code",
   "execution_count": 211,
   "metadata": {},
   "outputs": [],
   "source": [
    "filtered_sentence_list = [] \n",
    "\n",
    "for word_tokens in word_tokens_list:\n",
    "    filtered_sentence = []\n",
    "    for w in word_tokens:\n",
    "        if w not in stop_words: \n",
    "            filtered_sentence.append(w)\n",
    "    filtered_sentence_list.append(filtered_sentence)"
   ]
  },
  {
   "cell_type": "code",
   "execution_count": 222,
   "metadata": {},
   "outputs": [],
   "source": [
    "text_list_new = []\n",
    "for i in filtered_sentence_list:\n",
    "    text_list_new.append(' '.join(i))"
   ]
  },
  {
   "cell_type": "code",
   "execution_count": 230,
   "metadata": {},
   "outputs": [],
   "source": [
    "stop_words = set(stopwords.words('english')) \n",
    "word_tokens_list1 = []\n",
    "for s in list(df_merge.title):\n",
    "    s= s.replace('.',\"\")\n",
    "    s = s.replace(',', '')\n",
    "    s = s.replace('\\n', ' ')\n",
    "    s = s.replace('-', '')\n",
    "    s = s.replace('(', '')\n",
    "    s = s.replace(')', '')\n",
    "    s = s.replace('!', ' exclamation')\n",
    "    s = s.replace('?', ' questionmark')\n",
    "    s = s.replace('/', ' or ')\n",
    "    s = s.replace('&', ' and ')\n",
    "    s = s.replace('\\\\', \" \")\n",
    "    s = s.replace(\"'\", \" \")\n",
    "    s = s.replace('`', \" \")\n",
    "    \n",
    "    word_tokens_list1.append(word_tokenize(s))"
   ]
  },
  {
   "cell_type": "code",
   "execution_count": 231,
   "metadata": {},
   "outputs": [],
   "source": [
    "filtered_sentence_list1 = [] \n",
    "\n",
    "for word_tokens in word_tokens_list1:\n",
    "    filtered_sentence = []\n",
    "    for w in word_tokens:\n",
    "        if w not in stop_words: \n",
    "            filtered_sentence.append(w)\n",
    "    filtered_sentence_list1.append(filtered_sentence)"
   ]
  },
  {
   "cell_type": "code",
   "execution_count": 232,
   "metadata": {},
   "outputs": [],
   "source": [
    "title_list_new = []\n",
    "for i in filtered_sentence_list1:\n",
    "    \n",
    "    title_list_new.append(' '.join(i))"
   ]
  },
  {
   "cell_type": "code",
   "execution_count": 235,
   "metadata": {},
   "outputs": [],
   "source": [
    "import re"
   ]
  },
  {
   "cell_type": "code",
   "execution_count": 241,
   "metadata": {},
   "outputs": [],
   "source": [
    "title_list_new1 = []\n",
    "for i in title_list_new:\n",
    "    title_list_new1.append(re.sub(r'[^\\w\\s]','',i))"
   ]
  },
  {
   "cell_type": "code",
   "execution_count": 243,
   "metadata": {},
   "outputs": [],
   "source": [
    "text_list_new1 = []\n",
    "for i in text_list_new:\n",
    "    text_list_new1.append(re.sub(r'[^\\w\\s]','',i))"
   ]
  },
  {
   "cell_type": "code",
   "execution_count": 249,
   "metadata": {},
   "outputs": [
    {
     "name": "stderr",
     "output_type": "stream",
     "text": [
      "<ipython-input-249-dfb95f163886>:2: SettingWithCopyWarning: \n",
      "A value is trying to be set on a copy of a slice from a DataFrame.\n",
      "Try using .loc[row_indexer,col_indexer] = value instead\n",
      "\n",
      "See the caveats in the documentation: https://pandas.pydata.org/pandas-docs/stable/user_guide/indexing.html#returning-a-view-versus-a-copy\n",
      "  df_merge['text'] = text_list_new1\n",
      "<ipython-input-249-dfb95f163886>:3: SettingWithCopyWarning: \n",
      "A value is trying to be set on a copy of a slice from a DataFrame.\n",
      "Try using .loc[row_indexer,col_indexer] = value instead\n",
      "\n",
      "See the caveats in the documentation: https://pandas.pydata.org/pandas-docs/stable/user_guide/indexing.html#returning-a-view-versus-a-copy\n",
      "  df_merge['title'] = title_list_new1\n"
     ]
    }
   ],
   "source": [
    "# change the title & review with cleaned strings \n",
    "df_merge['text'] = text_list_new1\n",
    "df_merge['title'] = title_list_new1"
   ]
  },
  {
   "cell_type": "markdown",
   "metadata": {},
   "source": [
    "# Variable Creation"
   ]
  },
  {
   "cell_type": "markdown",
   "metadata": {},
   "source": [
    "## Quantify the reviewers stats"
   ]
  },
  {
   "cell_type": "code",
   "execution_count": 254,
   "metadata": {},
   "outputs": [
    {
     "data": {
      "text/plain": [
       "Index(['title', 'text', 'type', 'offering_id', 'num_helpful_votes', 'date',\n",
       "       'id', 'username', 'num_cities', 'num_reviews', 'num_type_reviews',\n",
       "       'author_num_helpful_votes', 'author_id', 'service', 'cleanliness',\n",
       "       'overall', 'value', 'location', 'sleep_quality', 'rooms', 'hotel_class',\n",
       "       'region_id', 'type', 'name', 'region', 'street-address', 'postal-code',\n",
       "       'locality'],\n",
       "      dtype='object')"
      ]
     },
     "execution_count": 254,
     "metadata": {},
     "output_type": "execute_result"
    }
   ],
   "source": [
    "df_merge.columns"
   ]
  },
  {
   "cell_type": "code",
   "execution_count": 407,
   "metadata": {},
   "outputs": [],
   "source": [
    "df_merge1= df_merge.copy()"
   ]
  },
  {
   "cell_type": "code",
   "execution_count": 408,
   "metadata": {},
   "outputs": [],
   "source": [
    "# total number of reviews posted by a user\n",
    "user_count = pd.DataFrame(df_merge.author_id.value_counts().reset_index())\n",
    "user_count.columns=['author_id','total_number_reviews_posted']"
   ]
  },
  {
   "cell_type": "code",
   "execution_count": 409,
   "metadata": {},
   "outputs": [],
   "source": [
    "df_merge1 = df_merge1.merge(user_count,on='author_id',how ='left')"
   ]
  },
  {
   "cell_type": "code",
   "execution_count": 410,
   "metadata": {},
   "outputs": [],
   "source": [
    "# total number of helpful reviews posted by a user\n",
    "user_count1 = df_merge1.groupby('author_id').author_num_helpful_votes.sum().reset_index()\n",
    "user_count1.columns=['author_id','total_number_helpful_reviews_posted']"
   ]
  },
  {
   "cell_type": "code",
   "execution_count": 411,
   "metadata": {},
   "outputs": [],
   "source": [
    "df_merge1 = df_merge1.merge(user_count1,on='author_id',how ='left')"
   ]
  },
  {
   "cell_type": "code",
   "execution_count": 412,
   "metadata": {},
   "outputs": [],
   "source": [
    "# total number of hotel visited by a user\n",
    "user_count2 = df_merge1.groupby(['author_id','street-address']).author_num_helpful_votes.count().reset_index()\n",
    "user_count2.columns=['author_id','street-address','number_of_visited_hotel']"
   ]
  },
  {
   "cell_type": "code",
   "execution_count": 413,
   "metadata": {},
   "outputs": [],
   "source": [
    "df_merge1 = df_merge1.merge(user_count2,on=['author_id','street-address'],how ='left')"
   ]
  },
  {
   "cell_type": "code",
   "execution_count": 414,
   "metadata": {},
   "outputs": [],
   "source": [
    "# total number of city visited by a user\n",
    "user_count3 = df_merge1.groupby(['author_id','locality']).author_num_helpful_votes.count().reset_index()\n",
    "user_count3.columns=['author_id','locality','number_of_visited_city']"
   ]
  },
  {
   "cell_type": "code",
   "execution_count": 415,
   "metadata": {},
   "outputs": [],
   "source": [
    "df_merge1 = df_merge1.merge(user_count3,on=['author_id','locality'],how ='left')"
   ]
  },
  {
   "cell_type": "code",
   "execution_count": 416,
   "metadata": {},
   "outputs": [],
   "source": [
    "# average_rating by a user \n",
    "for i in ['service', 'cleanliness','overall', 'value', 'location', 'sleep_quality', 'rooms']:\n",
    "    rating = df_merge1.groupby('author_id')[i].mean().reset_index()\n",
    "    rating.columns=['author_id','average_'+i+'_rating']\n",
    "    df_merge1 = df_merge1.merge(rating,on=['author_id'],how ='left')"
   ]
  },
  {
   "cell_type": "code",
   "execution_count": 417,
   "metadata": {},
   "outputs": [],
   "source": [
    "# minimum_rating by a user \n",
    "for i in ['service', 'cleanliness','overall', 'value', 'location', 'sleep_quality', 'rooms']:\n",
    "    rating = df_merge1.groupby('author_id')[i].min().reset_index()\n",
    "    rating.columns=['author_id','min_'+i+'_rating']\n",
    "    df_merge1 = df_merge1.merge(rating,on=['author_id'],how ='left')"
   ]
  },
  {
   "cell_type": "code",
   "execution_count": 418,
   "metadata": {},
   "outputs": [],
   "source": [
    "# max_rating by a user \n",
    "for i in ['service', 'cleanliness','overall', 'value', 'location', 'sleep_quality', 'rooms']:\n",
    "    rating = df_merge1.groupby('author_id')[i].max().reset_index()\n",
    "    rating.columns=['author_id','max_'+i+'_rating']\n",
    "    df_merge1 = df_merge1.merge(rating,on=['author_id'],how ='left')"
   ]
  },
  {
   "cell_type": "code",
   "execution_count": 419,
   "metadata": {},
   "outputs": [],
   "source": [
    "# average hotel class\n",
    "hotel_class = df_merge1.groupby('author_id')['hotel_class'].mean().reset_index()\n",
    "hotel_class.columns=['author_id','avergae_hotel_class']\n",
    "df_merge1 = df_merge1.merge(hotel_class,on=['author_id'],how ='left')"
   ]
  },
  {
   "cell_type": "markdown",
   "metadata": {},
   "source": [
    "# Quantify the reviews&title"
   ]
  },
  {
   "cell_type": "markdown",
   "metadata": {},
   "source": [
    "## Count the number of exclaimations & questionmark"
   ]
  },
  {
   "cell_type": "code",
   "execution_count": 358,
   "metadata": {},
   "outputs": [],
   "source": [
    "title_exclamation_count = []\n",
    "title_questionmark_count = []\n",
    "review_exclamation_count = []\n",
    "review_questionmark_count = []\n",
    "\n",
    "\n",
    "for j in list(df_merge1.title):\n",
    "    title_exclamation_count.append(j.split().count('exclamation'))\n",
    "    title_questionmark_count.append(j.split().count('questionmark'))\n",
    "    \n",
    "for j in list(df_merge1.text):\n",
    "    review_exclamation_count.append(j.split().count('exclamation'))\n",
    "    review_questionmark_count.append(j.split().count('questionmark'))\n",
    "    "
   ]
  },
  {
   "cell_type": "code",
   "execution_count": 420,
   "metadata": {},
   "outputs": [],
   "source": [
    "df_merge1['title_exclamation_count'] = title_exclamation_count\n",
    "df_merge1['title_questionmark_count'] = title_questionmark_count\n",
    "df_merge1['review_exclamation_count'] = review_exclamation_count\n",
    "df_merge1['review_questionmark_count'] = review_questionmark_count"
   ]
  },
  {
   "cell_type": "markdown",
   "metadata": {},
   "source": [
    "## identify adv"
   ]
  },
  {
   "cell_type": "code",
   "execution_count": 347,
   "metadata": {},
   "outputs": [],
   "source": [
    "# pip install spacy\n",
    "import spacy"
   ]
  },
  {
   "cell_type": "code",
   "execution_count": 387,
   "metadata": {},
   "outputs": [],
   "source": [
    "import spacy\n",
    "nlp = spacy.load('en')\n",
    "\n",
    "title_adv_count = []\n",
    "\n",
    "for title_i in list(df_merge1.title):\n",
    "    doc = nlp(title_i)\n",
    "    count = 0\n",
    "    for i in range(len(doc)):\n",
    "        if doc[i].pos_ == 'ADV':\n",
    "            count += 1\n",
    "    title_adv_count.append(count)\n",
    "    "
   ]
  },
  {
   "cell_type": "code",
   "execution_count": 421,
   "metadata": {},
   "outputs": [],
   "source": [
    "df_merge1['title_adv_count'] = title_adv_count"
   ]
  },
  {
   "cell_type": "markdown",
   "metadata": {},
   "source": [
    "## identify the adj"
   ]
  },
  {
   "cell_type": "code",
   "execution_count": 445,
   "metadata": {},
   "outputs": [],
   "source": [
    "import spacy\n",
    "nlp = spacy.load('en')\n",
    "\n",
    "title_adj_word = []\n",
    "title_adj_count = []\n",
    "\n",
    "for title_i in list(df_merge1.title):\n",
    "    doc = nlp(title_i)\n",
    "    count = 0\n",
    "    title_adj_word_i = []\n",
    "    for i in range(len(doc)):\n",
    "        if doc[i].pos_ == 'ADJ':\n",
    "            title_adj_word_i.append(doc[i])\n",
    "            count += 1\n",
    "    title_adj_word.append(title_adj_word_i)\n",
    "    title_adj_count.append(count)"
   ]
  },
  {
   "cell_type": "code",
   "execution_count": 473,
   "metadata": {},
   "outputs": [],
   "source": [
    "title_adj_word_new = []\n",
    "for i in title_adj_word:\n",
    "    if len(i) == 0:\n",
    "        title_adj_word_new.append('')\n",
    "    else:\n",
    "        title_adj_word_new.append(' '.join(str(v) for v in i))"
   ]
  },
  {
   "cell_type": "code",
   "execution_count": 474,
   "metadata": {},
   "outputs": [],
   "source": [
    "df_merge1['title_adj_word'] = title_adj_word_new\n",
    "df_merge1['title_adj_count'] = title_adj_count"
   ]
  },
  {
   "cell_type": "code",
   "execution_count": 508,
   "metadata": {},
   "outputs": [],
   "source": [
    "import nltk\n",
    "from textblob import TextBlob"
   ]
  },
  {
   "cell_type": "code",
   "execution_count": 509,
   "metadata": {},
   "outputs": [],
   "source": [
    "def get_adjectives(text):\n",
    "    blob = TextBlob(text)\n",
    "    return [ word for (word,tag) in blob.tags if tag == \"JJ\"]"
   ]
  },
  {
   "cell_type": "code",
   "execution_count": 510,
   "metadata": {},
   "outputs": [],
   "source": [
    "df_merge1['adjectives_text'] = df_merge1['text'].apply(get_adjectives)\n",
    "df_merge1['adjectives_text'] = [','.join(map(str, l)) for l in df_merge1['adjectives_text']]"
   ]
  },
  {
   "cell_type": "markdown",
   "metadata": {},
   "source": [
    "## Quantify the hotel stats "
   ]
  },
  {
   "cell_type": "code",
   "execution_count": 422,
   "metadata": {},
   "outputs": [],
   "source": [
    "# total number of reviews a hotel has\n",
    "hotel_count = pd.DataFrame(df_merge1.name.value_counts().reset_index())\n",
    "hotel_count.columns=['name','total_number_hotel_reviews']"
   ]
  },
  {
   "cell_type": "code",
   "execution_count": 423,
   "metadata": {},
   "outputs": [],
   "source": [
    "df_merge1 = df_merge1.merge(hotel_count,on='name',how ='left')"
   ]
  },
  {
   "cell_type": "code",
   "execution_count": 424,
   "metadata": {},
   "outputs": [],
   "source": [
    "# total number of helpful reviews received by a hotel\n",
    "hotel_count1 = df_merge1.groupby('name').num_helpful_votes.sum().reset_index()\n",
    "hotel_count1.columns=['name','total_number_helpful_reviews_hotel_got']"
   ]
  },
  {
   "cell_type": "code",
   "execution_count": 425,
   "metadata": {},
   "outputs": [],
   "source": [
    "df_merge1 = df_merge1.merge(hotel_count1,on='name',how ='left')"
   ]
  },
  {
   "cell_type": "code",
   "execution_count": 426,
   "metadata": {},
   "outputs": [],
   "source": [
    "# average_rating of a hotel\n",
    "for i in ['service', 'cleanliness','overall', 'value', 'location', 'sleep_quality', 'rooms']:\n",
    "    rating = df_merge1.groupby('name')[i].mean().reset_index()\n",
    "    rating.columns=['name','average_'+i+'_rating_for_hotel']\n",
    "    df_merge1 = df_merge1.merge(rating,on=['name'],how ='left')"
   ]
  },
  {
   "cell_type": "code",
   "execution_count": 427,
   "metadata": {},
   "outputs": [],
   "source": [
    "# min_rating of a hotel\n",
    "for i in ['service', 'cleanliness','overall', 'value', 'location', 'sleep_quality', 'rooms']:\n",
    "    rating = df_merge1.groupby('name')[i].min().reset_index()\n",
    "    rating.columns=['name','min_'+i+'_rating_for_hotel']\n",
    "    df_merge1 = df_merge1.merge(rating,on=['name'],how ='left')"
   ]
  },
  {
   "cell_type": "code",
   "execution_count": 428,
   "metadata": {},
   "outputs": [],
   "source": [
    "# max_rating of a hotel\n",
    "for i in ['service', 'cleanliness','overall', 'value', 'location', 'sleep_quality', 'rooms']:\n",
    "    rating = df_merge1.groupby('name')[i].max().reset_index()\n",
    "    rating.columns=['name','max_'+i+'_rating_for_hotel']\n",
    "    df_merge1 = df_merge1.merge(rating,on=['name'],how ='left')"
   ]
  },
  {
   "cell_type": "code",
   "execution_count": 435,
   "metadata": {},
   "outputs": [],
   "source": [
    "# number of different hotel class distribution around region\n",
    "hotel_regions = df_merge1.groupby('region').offering_id.count().reset_index()\n",
    "hotel_regions.columns=['region','number_of_hotels_in_region']"
   ]
  },
  {
   "cell_type": "code",
   "execution_count": 436,
   "metadata": {},
   "outputs": [],
   "source": [
    "df2_temp = pd.DataFrame()\n",
    "hotel_class_region_count = df_merge1.groupby(['region', 'hotel_class']).offering_id.count().reset_index()\n",
    "\n",
    "for i in hotel_class_region_count['region'].unique():\n",
    "    temp_df = hotel_class_region_count[hotel_class_region_count['region'] == i].drop('region', axis=1).T\n",
    "    # temp_df = hotel_class_region_count[hotel_class_region_count['region'] == 'AZ'].drop('region', axis=1).T\n",
    "    temp_df.index = ['hotel_class', i]\n",
    "    temp_df.columns = list(temp_df.loc['hotel_class'])\n",
    "    temp_df = temp_df.drop('hotel_class')\n",
    "    df2_temp = pd.concat([df2_temp, temp_df])\n",
    "\n",
    "df2_temp = df2_temp.fillna(0)\n",
    "df2_temp = df2_temp.reset_index(drop=True)"
   ]
  },
  {
   "cell_type": "code",
   "execution_count": 437,
   "metadata": {},
   "outputs": [],
   "source": [
    "hotel_regions = pd.concat([hotel_regions, df2_temp], axis=1, ignore_index=True)\n",
    "hotel_regions.columns = ['region', 'number_of_hotels_in_region',\n",
    "                         'number_of_hotels_in_class_1', 'number_of_hotels_in_class_1.5',\n",
    "                         'number_of_hotels_in_class_2', 'number_of_hotels_in_class_2.5',\n",
    "                         'number_of_hotels_in_class_3', 'number_of_hotels_in_class_3.5',\n",
    "                         'number_of_hotels_in_class_4', 'number_of_hotels_in_class_4.5', \n",
    "                         'number_of_hotels_in_class_5']"
   ]
  },
  {
   "cell_type": "code",
   "execution_count": 439,
   "metadata": {},
   "outputs": [],
   "source": [
    "df_merge1 = df_merge1.merge(hotel_regions,on=['region'],how ='left')"
   ]
  },
  {
   "cell_type": "code",
   "execution_count": 536,
   "metadata": {},
   "outputs": [],
   "source": [
    "# df_merge1.to_csv('final_df.csv')"
   ]
  }
 ],
 "metadata": {
  "kernelspec": {
   "display_name": "Python 3",
   "language": "python",
   "name": "python3"
  },
  "language_info": {
   "codemirror_mode": {
    "name": "ipython",
    "version": 3
   },
   "file_extension": ".py",
   "mimetype": "text/x-python",
   "name": "python",
   "nbconvert_exporter": "python",
   "pygments_lexer": "ipython3",
   "version": "3.8.3"
  }
 },
 "nbformat": 4,
 "nbformat_minor": 4
}
