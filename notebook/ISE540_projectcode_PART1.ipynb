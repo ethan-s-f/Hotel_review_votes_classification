{
 "cells": [
  {
   "cell_type": "code",
   "execution_count": 6,
   "metadata": {},
   "outputs": [],
   "source": [
    "import pandas as pd\n",
    "import numpy as np\n",
    "import json"
   ]
  },
  {
   "cell_type": "code",
   "execution_count": 7,
   "metadata": {},
   "outputs": [],
   "source": [
    "offering_df_dic = dict()\n",
    "for colum_l in ['hotel_class', 'region_id', 'url', 'phone', 'details', 'address', 'type', 'id', 'name']:\n",
    "    offering_df_dic[colum_l] = []\n",
    "\n",
    "f = open(\"offering.txt\", \"r\")\n",
    "for line in f.readlines():\n",
    "    temp_dic = json.loads(line)\n",
    "    for i in ['hotel_class', 'region_id', 'url', 'phone', 'details', 'address', 'type', 'id', 'name']:\n",
    "        if 'hotel_class' not in list(temp_dic.keys()) and i == 'hotel_class':\n",
    "            value = np.nan\n",
    "        else:\n",
    "            value = temp_dic[i]\n",
    "        offering_df_dic[i].append(value)\n",
    "f.close()"
   ]
  },
  {
   "cell_type": "code",
   "execution_count": 8,
   "metadata": {},
   "outputs": [],
   "source": [
    "offering_df = pd.DataFrame.from_dict(offering_df_dic)"
   ]
  },
  {
   "cell_type": "code",
   "execution_count": 9,
   "metadata": {},
   "outputs": [],
   "source": [
    "for i in range(len(offering_df)):\n",
    "    temp_dic = dict(offering_df.iloc[i]['address'])\n",
    "    for key in ['region', 'street-address', 'postal-code', 'locality']:\n",
    "        try:\n",
    "            offering_df.loc[i,key] = temp_dic[key]\n",
    "        except KeyError:\n",
    "            offering_df.loc[i,key] = np.nan"
   ]
  },
  {
   "cell_type": "code",
   "execution_count": 10,
   "metadata": {},
   "outputs": [],
   "source": [
    "f = open(\"review.txt\", \"r\")\n",
    "count = 0\n",
    "for line in f.readlines():\n",
    "    temp_dic = json.loads(line)\n",
    "    temp_dic = temp_dic['ratings']\n",
    "    count +=1 "
   ]
  },
  {
   "cell_type": "code",
   "execution_count": 11,
   "metadata": {},
   "outputs": [
    {
     "data": {
      "text/plain": [
       "878561"
      ]
     },
     "execution_count": 11,
     "metadata": {},
     "output_type": "execute_result"
    }
   ],
   "source": [
    "count"
   ]
  },
  {
   "cell_type": "code",
   "execution_count": 12,
   "metadata": {},
   "outputs": [],
   "source": [
    "rating_dict = {}\n",
    "for i in ['service', 'cleanliness', 'overall', 'value', 'location', 'sleep_quality', 'rooms']:\n",
    "    rating_dict[i] = []"
   ]
  },
  {
   "cell_type": "code",
   "execution_count": 13,
   "metadata": {},
   "outputs": [],
   "source": [
    "f = open(\"review.txt\", \"r\")\n",
    "for line in f.readlines():\n",
    "    temp_dic = json.loads(line)\n",
    "    temp_dic = temp_dic['ratings']\n",
    "    for rating_key in ['service', 'cleanliness', 'overall', 'value', 'location', 'sleep_quality', 'rooms']:\n",
    "        try:\n",
    "            value = temp_dic[rating_key]\n",
    "            rating_dict[rating_key].append(value)\n",
    "        except KeyError:\n",
    "            rating_dict[rating_key].append(np.nan)\n",
    "f.close()"
   ]
  },
  {
   "cell_type": "code",
   "execution_count": 14,
   "metadata": {},
   "outputs": [],
   "source": [
    "author_dict = {}\n",
    "for i in ['username', 'num_cities', 'num_helpful_votes', 'num_reviews', 'num_type_reviews', 'id']:\n",
    "    author_dict[i] = []"
   ]
  },
  {
   "cell_type": "code",
   "execution_count": 15,
   "metadata": {},
   "outputs": [],
   "source": [
    "f = open(\"review.txt\", \"r\")\n",
    "for line in f.readlines():\n",
    "    temp_dic = json.loads(line)\n",
    "    temp_dic = temp_dic['author']\n",
    "    for author_key in ['username', 'num_cities', 'num_helpful_votes',\n",
    "                       'num_reviews', 'num_type_reviews', 'id']:\n",
    "        try:\n",
    "            value = temp_dic[author_key]\n",
    "            author_dict[author_key].append(value)\n",
    "        except KeyError:\n",
    "            author_dict[author_key].append(np.nan)\n",
    "f.close()"
   ]
  },
  {
   "cell_type": "code",
   "execution_count": 16,
   "metadata": {},
   "outputs": [],
   "source": [
    "review_dict = {}\n",
    "for i in ['title', 'text', 'date_stayed', 'offering_id',\n",
    "          'num_helpful_votes', 'date', 'id', 'via_mobile']:\n",
    "    review_dict[i] = []"
   ]
  },
  {
   "cell_type": "code",
   "execution_count": 17,
   "metadata": {},
   "outputs": [],
   "source": [
    "f = open(\"review.txt\", \"r\")\n",
    "for line in f.readlines():\n",
    "    temp_dic = json.loads(line)\n",
    "    for review_key in ['title', 'text', 'date_stayed', 'offering_id',\n",
    "          'num_helpful_votes', 'date', 'id', 'via_mobile']:\n",
    "        try:\n",
    "            value = temp_dic[review_key]\n",
    "            review_dict[review_key].append(value)\n",
    "        except KeyError:\n",
    "            review_dict[review_key].append(np.nan)\n",
    "f.close()"
   ]
  },
  {
   "cell_type": "code",
   "execution_count": 18,
   "metadata": {},
   "outputs": [
    {
     "name": "stdout",
     "output_type": "stream",
     "text": [
      "title 878561\n",
      "text 878561\n",
      "date_stayed 878561\n",
      "offering_id 878561\n",
      "num_helpful_votes 878561\n",
      "date 878561\n",
      "id 878561\n",
      "via_mobile 878561\n"
     ]
    }
   ],
   "source": [
    "for i in list(review_dict.keys()):\n",
    "    print(i,len(review_dict[i]))"
   ]
  },
  {
   "cell_type": "code",
   "execution_count": 19,
   "metadata": {},
   "outputs": [],
   "source": [
    "# change the name of dictionary \n",
    "author_dict['author_num_helpful_votes'] = author_dict.pop('num_helpful_votes')\n",
    "author_dict['author_id'] = author_dict.pop('id')"
   ]
  },
  {
   "cell_type": "code",
   "execution_count": 20,
   "metadata": {},
   "outputs": [],
   "source": [
    "# merge the three dictionaries\n",
    "def Merge(dict1, dict2):\n",
    "    return(dict2.update(dict1))"
   ]
  },
  {
   "cell_type": "code",
   "execution_count": 21,
   "metadata": {},
   "outputs": [],
   "source": [
    "Merge(author_dict, review_dict)"
   ]
  },
  {
   "cell_type": "code",
   "execution_count": 22,
   "metadata": {},
   "outputs": [],
   "source": [
    "Merge(rating_dict, review_dict)"
   ]
  },
  {
   "cell_type": "code",
   "execution_count": 23,
   "metadata": {},
   "outputs": [],
   "source": [
    "review_df = pd.DataFrame.from_dict(review_dict)"
   ]
  },
  {
   "cell_type": "code",
   "execution_count": 24,
   "metadata": {},
   "outputs": [],
   "source": [
    "df = review_df.merge(offering_df,left_on='offering_id', right_on='id')"
   ]
  },
  {
   "cell_type": "markdown",
   "metadata": {},
   "source": [
    "Note: used `offering_id` and `id` in offering to merge the two. There is another `id` in review_df, see below:"
   ]
  },
  {
   "cell_type": "code",
   "execution_count": 25,
   "metadata": {},
   "outputs": [
    {
     "data": {
      "text/html": [
       "<div>\n",
       "<style scoped>\n",
       "    .dataframe tbody tr th:only-of-type {\n",
       "        vertical-align: middle;\n",
       "    }\n",
       "\n",
       "    .dataframe tbody tr th {\n",
       "        vertical-align: top;\n",
       "    }\n",
       "\n",
       "    .dataframe thead th {\n",
       "        text-align: right;\n",
       "    }\n",
       "</style>\n",
       "<table border=\"1\" class=\"dataframe\">\n",
       "  <thead>\n",
       "    <tr style=\"text-align: right;\">\n",
       "      <th></th>\n",
       "      <th>offering_id</th>\n",
       "      <th>id_x</th>\n",
       "      <th>id_y</th>\n",
       "    </tr>\n",
       "  </thead>\n",
       "  <tbody>\n",
       "    <tr>\n",
       "      <td>0</td>\n",
       "      <td>93338</td>\n",
       "      <td>147643103</td>\n",
       "      <td>93338</td>\n",
       "    </tr>\n",
       "    <tr>\n",
       "      <td>1</td>\n",
       "      <td>93338</td>\n",
       "      <td>147639004</td>\n",
       "      <td>93338</td>\n",
       "    </tr>\n",
       "    <tr>\n",
       "      <td>2</td>\n",
       "      <td>93338</td>\n",
       "      <td>147634248</td>\n",
       "      <td>93338</td>\n",
       "    </tr>\n",
       "    <tr>\n",
       "      <td>3</td>\n",
       "      <td>93338</td>\n",
       "      <td>147625002</td>\n",
       "      <td>93338</td>\n",
       "    </tr>\n",
       "    <tr>\n",
       "      <td>4</td>\n",
       "      <td>93338</td>\n",
       "      <td>147623184</td>\n",
       "      <td>93338</td>\n",
       "    </tr>\n",
       "    <tr>\n",
       "      <td>...</td>\n",
       "      <td>...</td>\n",
       "      <td>...</td>\n",
       "      <td>...</td>\n",
       "    </tr>\n",
       "    <tr>\n",
       "      <td>878556</td>\n",
       "      <td>84117</td>\n",
       "      <td>19646666</td>\n",
       "      <td>84117</td>\n",
       "    </tr>\n",
       "    <tr>\n",
       "      <td>878557</td>\n",
       "      <td>84117</td>\n",
       "      <td>19646665</td>\n",
       "      <td>84117</td>\n",
       "    </tr>\n",
       "    <tr>\n",
       "      <td>878558</td>\n",
       "      <td>84117</td>\n",
       "      <td>51443903</td>\n",
       "      <td>84117</td>\n",
       "    </tr>\n",
       "    <tr>\n",
       "      <td>878559</td>\n",
       "      <td>84117</td>\n",
       "      <td>53345783</td>\n",
       "      <td>84117</td>\n",
       "    </tr>\n",
       "    <tr>\n",
       "      <td>878560</td>\n",
       "      <td>84117</td>\n",
       "      <td>136657255</td>\n",
       "      <td>84117</td>\n",
       "    </tr>\n",
       "  </tbody>\n",
       "</table>\n",
       "<p>878561 rows × 3 columns</p>\n",
       "</div>"
      ],
      "text/plain": [
       "        offering_id       id_x   id_y\n",
       "0             93338  147643103  93338\n",
       "1             93338  147639004  93338\n",
       "2             93338  147634248  93338\n",
       "3             93338  147625002  93338\n",
       "4             93338  147623184  93338\n",
       "...             ...        ...    ...\n",
       "878556        84117   19646666  84117\n",
       "878557        84117   19646665  84117\n",
       "878558        84117   51443903  84117\n",
       "878559        84117   53345783  84117\n",
       "878560        84117  136657255  84117\n",
       "\n",
       "[878561 rows x 3 columns]"
      ]
     },
     "execution_count": 25,
     "metadata": {},
     "output_type": "execute_result"
    }
   ],
   "source": [
    "df[['offering_id','id_x','id_y']]"
   ]
  },
  {
   "cell_type": "code",
   "execution_count": 26,
   "metadata": {},
   "outputs": [
    {
     "data": {
      "text/html": [
       "<div>\n",
       "<style scoped>\n",
       "    .dataframe tbody tr th:only-of-type {\n",
       "        vertical-align: middle;\n",
       "    }\n",
       "\n",
       "    .dataframe tbody tr th {\n",
       "        vertical-align: top;\n",
       "    }\n",
       "\n",
       "    .dataframe thead th {\n",
       "        text-align: right;\n",
       "    }\n",
       "</style>\n",
       "<table border=\"1\" class=\"dataframe\">\n",
       "  <thead>\n",
       "    <tr style=\"text-align: right;\">\n",
       "      <th></th>\n",
       "      <th>title</th>\n",
       "      <th>text</th>\n",
       "      <th>date_stayed</th>\n",
       "      <th>offering_id</th>\n",
       "      <th>num_helpful_votes</th>\n",
       "      <th>date</th>\n",
       "      <th>id_x</th>\n",
       "      <th>via_mobile</th>\n",
       "      <th>username</th>\n",
       "      <th>num_cities</th>\n",
       "      <th>...</th>\n",
       "      <th>phone</th>\n",
       "      <th>details</th>\n",
       "      <th>address</th>\n",
       "      <th>type</th>\n",
       "      <th>id_y</th>\n",
       "      <th>name</th>\n",
       "      <th>region</th>\n",
       "      <th>street-address</th>\n",
       "      <th>postal-code</th>\n",
       "      <th>locality</th>\n",
       "    </tr>\n",
       "  </thead>\n",
       "  <tbody>\n",
       "    <tr>\n",
       "      <td>0</td>\n",
       "      <td>“Truly is \"Jewel of the Upper Wets Side\"”</td>\n",
       "      <td>Stayed in a king suite for 11 nights and yes i...</td>\n",
       "      <td>December 2012</td>\n",
       "      <td>93338</td>\n",
       "      <td>0</td>\n",
       "      <td>December 17, 2012</td>\n",
       "      <td>147643103</td>\n",
       "      <td>False</td>\n",
       "      <td>Papa_Panda</td>\n",
       "      <td>22.0</td>\n",
       "      <td>...</td>\n",
       "      <td></td>\n",
       "      <td>None</td>\n",
       "      <td>{'region': 'NY', 'street-address': '2130 Broad...</td>\n",
       "      <td>hotel</td>\n",
       "      <td>93338</td>\n",
       "      <td>Hotel Beacon</td>\n",
       "      <td>NY</td>\n",
       "      <td>2130 Broadway at 75th Street</td>\n",
       "      <td>10023</td>\n",
       "      <td>New York City</td>\n",
       "    </tr>\n",
       "    <tr>\n",
       "      <td>1</td>\n",
       "      <td>“My home away from home!”</td>\n",
       "      <td>On every visit to NYC, the Hotel Beacon is the...</td>\n",
       "      <td>December 2012</td>\n",
       "      <td>93338</td>\n",
       "      <td>0</td>\n",
       "      <td>December 17, 2012</td>\n",
       "      <td>147639004</td>\n",
       "      <td>False</td>\n",
       "      <td>Maureen V</td>\n",
       "      <td>2.0</td>\n",
       "      <td>...</td>\n",
       "      <td></td>\n",
       "      <td>None</td>\n",
       "      <td>{'region': 'NY', 'street-address': '2130 Broad...</td>\n",
       "      <td>hotel</td>\n",
       "      <td>93338</td>\n",
       "      <td>Hotel Beacon</td>\n",
       "      <td>NY</td>\n",
       "      <td>2130 Broadway at 75th Street</td>\n",
       "      <td>10023</td>\n",
       "      <td>New York City</td>\n",
       "    </tr>\n",
       "    <tr>\n",
       "      <td>2</td>\n",
       "      <td>“Excellent location”</td>\n",
       "      <td>Loved the hotel. Great location - only 2 block...</td>\n",
       "      <td>December 2012</td>\n",
       "      <td>93338</td>\n",
       "      <td>0</td>\n",
       "      <td>December 17, 2012</td>\n",
       "      <td>147634248</td>\n",
       "      <td>False</td>\n",
       "      <td>Erica1103</td>\n",
       "      <td>2.0</td>\n",
       "      <td>...</td>\n",
       "      <td></td>\n",
       "      <td>None</td>\n",
       "      <td>{'region': 'NY', 'street-address': '2130 Broad...</td>\n",
       "      <td>hotel</td>\n",
       "      <td>93338</td>\n",
       "      <td>Hotel Beacon</td>\n",
       "      <td>NY</td>\n",
       "      <td>2130 Broadway at 75th Street</td>\n",
       "      <td>10023</td>\n",
       "      <td>New York City</td>\n",
       "    </tr>\n",
       "    <tr>\n",
       "      <td>3</td>\n",
       "      <td>“All-round fantastic NYC hotel”</td>\n",
       "      <td>Our first stay on the upper west side and can'...</td>\n",
       "      <td>December 2012</td>\n",
       "      <td>93338</td>\n",
       "      <td>0</td>\n",
       "      <td>December 17, 2012</td>\n",
       "      <td>147625002</td>\n",
       "      <td>False</td>\n",
       "      <td>rmfindc</td>\n",
       "      <td>2.0</td>\n",
       "      <td>...</td>\n",
       "      <td></td>\n",
       "      <td>None</td>\n",
       "      <td>{'region': 'NY', 'street-address': '2130 Broad...</td>\n",
       "      <td>hotel</td>\n",
       "      <td>93338</td>\n",
       "      <td>Hotel Beacon</td>\n",
       "      <td>NY</td>\n",
       "      <td>2130 Broadway at 75th Street</td>\n",
       "      <td>10023</td>\n",
       "      <td>New York City</td>\n",
       "    </tr>\n",
       "    <tr>\n",
       "      <td>4</td>\n",
       "      <td>“Great hotel in nice area”</td>\n",
       "      <td>Great room, very big with huge bed! Great loca...</td>\n",
       "      <td>December 2012</td>\n",
       "      <td>93338</td>\n",
       "      <td>0</td>\n",
       "      <td>December 17, 2012</td>\n",
       "      <td>147623184</td>\n",
       "      <td>False</td>\n",
       "      <td>MiloandMaya</td>\n",
       "      <td>2.0</td>\n",
       "      <td>...</td>\n",
       "      <td></td>\n",
       "      <td>None</td>\n",
       "      <td>{'region': 'NY', 'street-address': '2130 Broad...</td>\n",
       "      <td>hotel</td>\n",
       "      <td>93338</td>\n",
       "      <td>Hotel Beacon</td>\n",
       "      <td>NY</td>\n",
       "      <td>2130 Broadway at 75th Street</td>\n",
       "      <td>10023</td>\n",
       "      <td>New York City</td>\n",
       "    </tr>\n",
       "  </tbody>\n",
       "</table>\n",
       "<p>5 rows × 34 columns</p>\n",
       "</div>"
      ],
      "text/plain": [
       "                                       title  \\\n",
       "0  “Truly is \"Jewel of the Upper Wets Side\"”   \n",
       "1                  “My home away from home!”   \n",
       "2                       “Excellent location”   \n",
       "3            “All-round fantastic NYC hotel”   \n",
       "4                 “Great hotel in nice area”   \n",
       "\n",
       "                                                text    date_stayed  \\\n",
       "0  Stayed in a king suite for 11 nights and yes i...  December 2012   \n",
       "1  On every visit to NYC, the Hotel Beacon is the...  December 2012   \n",
       "2  Loved the hotel. Great location - only 2 block...  December 2012   \n",
       "3  Our first stay on the upper west side and can'...  December 2012   \n",
       "4  Great room, very big with huge bed! Great loca...  December 2012   \n",
       "\n",
       "   offering_id  num_helpful_votes               date       id_x  via_mobile  \\\n",
       "0        93338                  0  December 17, 2012  147643103       False   \n",
       "1        93338                  0  December 17, 2012  147639004       False   \n",
       "2        93338                  0  December 17, 2012  147634248       False   \n",
       "3        93338                  0  December 17, 2012  147625002       False   \n",
       "4        93338                  0  December 17, 2012  147623184       False   \n",
       "\n",
       "      username  num_cities  ...  phone  details  \\\n",
       "0   Papa_Panda        22.0  ...            None   \n",
       "1    Maureen V         2.0  ...            None   \n",
       "2    Erica1103         2.0  ...            None   \n",
       "3      rmfindc         2.0  ...            None   \n",
       "4  MiloandMaya         2.0  ...            None   \n",
       "\n",
       "                                             address   type   id_y  \\\n",
       "0  {'region': 'NY', 'street-address': '2130 Broad...  hotel  93338   \n",
       "1  {'region': 'NY', 'street-address': '2130 Broad...  hotel  93338   \n",
       "2  {'region': 'NY', 'street-address': '2130 Broad...  hotel  93338   \n",
       "3  {'region': 'NY', 'street-address': '2130 Broad...  hotel  93338   \n",
       "4  {'region': 'NY', 'street-address': '2130 Broad...  hotel  93338   \n",
       "\n",
       "           name  region                street-address  postal-code  \\\n",
       "0  Hotel Beacon      NY  2130 Broadway at 75th Street        10023   \n",
       "1  Hotel Beacon      NY  2130 Broadway at 75th Street        10023   \n",
       "2  Hotel Beacon      NY  2130 Broadway at 75th Street        10023   \n",
       "3  Hotel Beacon      NY  2130 Broadway at 75th Street        10023   \n",
       "4  Hotel Beacon      NY  2130 Broadway at 75th Street        10023   \n",
       "\n",
       "        locality  \n",
       "0  New York City  \n",
       "1  New York City  \n",
       "2  New York City  \n",
       "3  New York City  \n",
       "4  New York City  \n",
       "\n",
       "[5 rows x 34 columns]"
      ]
     },
     "execution_count": 26,
     "metadata": {},
     "output_type": "execute_result"
    }
   ],
   "source": [
    "df.head()"
   ]
  },
  {
   "cell_type": "code",
   "execution_count": 27,
   "metadata": {},
   "outputs": [],
   "source": [
    "from nltk.corpus import wordnet"
   ]
  },
  {
   "cell_type": "code",
   "execution_count": 49,
   "metadata": {},
   "outputs": [],
   "source": [
    "from googletrans import Translator\n",
    "translator = Translator()\n",
    "from deep_translator import (GoogleTranslator,\n",
    "                             PonsTranslator,\n",
    "                             LingueeTranslator,\n",
    "                             MyMemoryTranslator,\n",
    "                             YandexTranslator,\n",
    "                             DeepL,\n",
    "                             QCRI,\n",
    "                             single_detection,\n",
    "                             batch_detection)\n"
   ]
  },
  {
   "cell_type": "code",
   "execution_count": 29,
   "metadata": {},
   "outputs": [
    {
     "data": {
      "text/plain": [
       "0         Stayed in a king suite for 11 nights and yes i...\n",
       "1         On every visit to NYC, the Hotel Beacon is the...\n",
       "2         Loved the hotel. Great location - only 2 block...\n",
       "3         Our first stay on the upper west side and can'...\n",
       "4         Great room, very big with huge bed! Great loca...\n",
       "                                ...                        \n",
       "878556    ottima posizione, vicino alla casa bianca e co...\n",
       "878557    credo che questo albergo riassuma più che posi...\n",
       "878558    The Hay Adams Across from the White House er e...\n",
       "878559    Unik beliggenhed overfor Det Hvide Hus. Overst...\n",
       "878560    De plek is natuurlijk helemaal oké: recht tege...\n",
       "Name: text, Length: 878561, dtype: object"
      ]
     },
     "execution_count": 29,
     "metadata": {},
     "output_type": "execute_result"
    }
   ],
   "source": [
    "df.text"
   ]
  },
  {
   "cell_type": "code",
   "execution_count": 30,
   "metadata": {},
   "outputs": [],
   "source": [
    "from textblob import TextBlob"
   ]
  },
  {
   "cell_type": "code",
   "execution_count": 29,
   "metadata": {},
   "outputs": [
    {
     "name": "stdout",
     "output_type": "stream",
     "text": [
      "Collecting langdetect\n",
      "  Downloading langdetect-1.0.8.tar.gz (981 kB)\n",
      "\u001b[K     |████████████████████████████████| 981 kB 2.1 MB/s eta 0:00:01\n",
      "\u001b[?25hRequirement already satisfied: six in /opt/anaconda3/lib/python3.7/site-packages (from langdetect) (1.12.0)\n",
      "Building wheels for collected packages: langdetect\n",
      "  Building wheel for langdetect (setup.py) ... \u001b[?25ldone\n",
      "\u001b[?25h  Created wheel for langdetect: filename=langdetect-1.0.8-py3-none-any.whl size=993190 sha256=1fca81348e7a209b9f1d0ab137f31e0bd1a1e5c966b8ffbe4ff5711de3071891\n",
      "  Stored in directory: /Users/smitabhat/Library/Caches/pip/wheels/59/f6/9d/85068904dba861c0b9af74e286265a08da438748ee5ae56067\n",
      "Successfully built langdetect\n",
      "Installing collected packages: langdetect\n",
      "Successfully installed langdetect-1.0.8\n",
      "Note: you may need to restart the kernel to use updated packages.\n"
     ]
    }
   ],
   "source": [
    "pip install langdetect"
   ]
  },
  {
   "cell_type": "code",
   "execution_count": 31,
   "metadata": {},
   "outputs": [],
   "source": [
    "import langdetect"
   ]
  },
  {
   "cell_type": "code",
   "execution_count": 35,
   "metadata": {},
   "outputs": [
    {
     "name": "stderr",
     "output_type": "stream",
     "text": [
      "/opt/anaconda3/lib/python3.7/site-packages/ipykernel_launcher.py:1: SettingWithCopyWarning: \n",
      "A value is trying to be set on a copy of a slice from a DataFrame.\n",
      "Try using .loc[row_indexer,col_indexer] = value instead\n",
      "\n",
      "See the caveats in the documentation: http://pandas.pydata.org/pandas-docs/stable/user_guide/indexing.html#returning-a-view-versus-a-copy\n",
      "  \"\"\"Entry point for launching an IPython kernel.\n"
     ]
    }
   ],
   "source": [
    "df1['Language'] = df1['text'].apply(lambda x: langdetect.detect(x))"
   ]
  },
  {
   "cell_type": "code",
   "execution_count": 33,
   "metadata": {},
   "outputs": [
    {
     "data": {
      "text/plain": [
       "title                            0\n",
       "text                             0\n",
       "date_stayed                  67588\n",
       "offering_id                      0\n",
       "num_helpful_votes                0\n",
       "date                             0\n",
       "id_x                             0\n",
       "via_mobile                       0\n",
       "username                         0\n",
       "num_cities                  264593\n",
       "num_reviews                  77123\n",
       "num_type_reviews            362951\n",
       "author_num_helpful_votes    224581\n",
       "author_id                        0\n",
       "service                     117643\n",
       "cleanliness                 118726\n",
       "overall                          0\n",
       "value                       124866\n",
       "location                    213657\n",
       "sleep_quality               377658\n",
       "rooms                       173157\n",
       "hotel_class                  34937\n",
       "region_id                        0\n",
       "url                              0\n",
       "phone                            0\n",
       "details                     878561\n",
       "address                          0\n",
       "type                             0\n",
       "id_y                             0\n",
       "name                             0\n",
       "region                           0\n",
       "street-address                   9\n",
       "postal-code                   1859\n",
       "locality                         0\n",
       "dtype: int64"
      ]
     },
     "execution_count": 33,
     "metadata": {},
     "output_type": "execute_result"
    }
   ],
   "source": [
    "df.isnull().sum()"
   ]
  },
  {
   "cell_type": "code",
   "execution_count": 34,
   "metadata": {},
   "outputs": [],
   "source": [
    "from langdetect import detect "
   ]
  },
  {
   "cell_type": "code",
   "execution_count": 35,
   "metadata": {},
   "outputs": [
    {
     "name": "stdout",
     "output_type": "stream",
     "text": [
      "This row throws error: .........................................................................\n",
      "This row throws error: 9/10\n"
     ]
    }
   ],
   "source": [
    "texl70 = df['text']\n",
    "langdet = []                                                    \n",
    "\n",
    "for i in range(len(df)):\n",
    "    try:\n",
    "        \n",
    "        lang=detect(texl70[i])                                      \n",
    "    except:                                                       \n",
    "        lang='no'                                                  \n",
    "        print(\"This row throws error:\", texl70[i])                 \n",
    "    langdet.append(lang)                "
   ]
  },
  {
   "cell_type": "code",
   "execution_count": 36,
   "metadata": {},
   "outputs": [],
   "source": [
    "df['language'] = langdet"
   ]
  },
  {
   "cell_type": "code",
   "execution_count": 37,
   "metadata": {},
   "outputs": [],
   "source": [
    "df_conversion = df[['text','language']]"
   ]
  },
  {
   "cell_type": "code",
   "execution_count": 38,
   "metadata": {},
   "outputs": [
    {
     "data": {
      "text/html": [
       "<div>\n",
       "<style scoped>\n",
       "    .dataframe tbody tr th:only-of-type {\n",
       "        vertical-align: middle;\n",
       "    }\n",
       "\n",
       "    .dataframe tbody tr th {\n",
       "        vertical-align: top;\n",
       "    }\n",
       "\n",
       "    .dataframe thead th {\n",
       "        text-align: right;\n",
       "    }\n",
       "</style>\n",
       "<table border=\"1\" class=\"dataframe\">\n",
       "  <thead>\n",
       "    <tr style=\"text-align: right;\">\n",
       "      <th></th>\n",
       "      <th>text</th>\n",
       "      <th>language</th>\n",
       "    </tr>\n",
       "  </thead>\n",
       "  <tbody>\n",
       "    <tr>\n",
       "      <td>0</td>\n",
       "      <td>Stayed in a king suite for 11 nights and yes i...</td>\n",
       "      <td>en</td>\n",
       "    </tr>\n",
       "    <tr>\n",
       "      <td>1</td>\n",
       "      <td>On every visit to NYC, the Hotel Beacon is the...</td>\n",
       "      <td>en</td>\n",
       "    </tr>\n",
       "    <tr>\n",
       "      <td>2</td>\n",
       "      <td>Loved the hotel. Great location - only 2 block...</td>\n",
       "      <td>en</td>\n",
       "    </tr>\n",
       "    <tr>\n",
       "      <td>3</td>\n",
       "      <td>Our first stay on the upper west side and can'...</td>\n",
       "      <td>en</td>\n",
       "    </tr>\n",
       "    <tr>\n",
       "      <td>4</td>\n",
       "      <td>Great room, very big with huge bed! Great loca...</td>\n",
       "      <td>en</td>\n",
       "    </tr>\n",
       "  </tbody>\n",
       "</table>\n",
       "</div>"
      ],
      "text/plain": [
       "                                                text language\n",
       "0  Stayed in a king suite for 11 nights and yes i...       en\n",
       "1  On every visit to NYC, the Hotel Beacon is the...       en\n",
       "2  Loved the hotel. Great location - only 2 block...       en\n",
       "3  Our first stay on the upper west side and can'...       en\n",
       "4  Great room, very big with huge bed! Great loca...       en"
      ]
     },
     "execution_count": 38,
     "metadata": {},
     "output_type": "execute_result"
    }
   ],
   "source": [
    "df_conversion.head()"
   ]
  },
  {
   "cell_type": "code",
   "execution_count": 39,
   "metadata": {},
   "outputs": [
    {
     "data": {
      "text/plain": [
       "array(['en', 'de', 'fr', 'es', 'sv', 'it', 'nl', 'da', 'pt', 'ja', 'no',\n",
       "       'ru', 'tr', 'th', 'zh-cn', 'ko', 'zh-tw', 'pl', 'sq', 'el', 'af',\n",
       "       'tl', 'ro', 'ca', 'ar', 'vi', 'so', 'sl', 'fi', 'id', 'hu'],\n",
       "      dtype=object)"
      ]
     },
     "execution_count": 39,
     "metadata": {},
     "output_type": "execute_result"
    }
   ],
   "source": [
    "df_conversion.language.unique()"
   ]
  },
  {
   "cell_type": "code",
   "execution_count": 40,
   "metadata": {},
   "outputs": [],
   "source": [
    "df_not_english = df_conversion[df_conversion['language'] != 'en']"
   ]
  },
  {
   "cell_type": "code",
   "execution_count": 41,
   "metadata": {},
   "outputs": [
    {
     "data": {
      "text/plain": [
       "(107492, 2)"
      ]
     },
     "execution_count": 41,
     "metadata": {},
     "output_type": "execute_result"
    }
   ],
   "source": [
    "df_not_english.shape"
   ]
  },
  {
   "cell_type": "code",
   "execution_count": 42,
   "metadata": {},
   "outputs": [
    {
     "data": {
      "text/plain": [
       "array(['de', 'fr', 'es', 'sv', 'it', 'nl', 'da', 'pt', 'ja', 'no', 'ru',\n",
       "       'tr', 'th', 'zh-cn', 'ko', 'zh-tw', 'pl', 'sq', 'el', 'af', 'tl',\n",
       "       'ro', 'ca', 'ar', 'vi', 'so', 'sl', 'fi', 'id', 'hu'], dtype=object)"
      ]
     },
     "execution_count": 42,
     "metadata": {},
     "output_type": "execute_result"
    }
   ],
   "source": [
    "df_not_english.language.unique()"
   ]
  },
  {
   "cell_type": "code",
   "execution_count": 45,
   "metadata": {},
   "outputs": [],
   "source": [
    "df_1 = df_not_english[df_not_english['language']== 'de']"
   ]
  },
  {
   "cell_type": "code",
   "execution_count": 46,
   "metadata": {},
   "outputs": [
    {
     "data": {
      "text/html": [
       "<div>\n",
       "<style scoped>\n",
       "    .dataframe tbody tr th:only-of-type {\n",
       "        vertical-align: middle;\n",
       "    }\n",
       "\n",
       "    .dataframe tbody tr th {\n",
       "        vertical-align: top;\n",
       "    }\n",
       "\n",
       "    .dataframe thead th {\n",
       "        text-align: right;\n",
       "    }\n",
       "</style>\n",
       "<table border=\"1\" class=\"dataframe\">\n",
       "  <thead>\n",
       "    <tr style=\"text-align: right;\">\n",
       "      <th></th>\n",
       "      <th>text</th>\n",
       "      <th>language</th>\n",
       "    </tr>\n",
       "  </thead>\n",
       "  <tbody>\n",
       "    <tr>\n",
       "      <td>1191</td>\n",
       "      <td>Das Beacon ist ein angenehmes, sauberes Hotel ...</td>\n",
       "      <td>de</td>\n",
       "    </tr>\n",
       "    <tr>\n",
       "      <td>1199</td>\n",
       "      <td>Schönes, sauberes Hotel an der Upper West Side...</td>\n",
       "      <td>de</td>\n",
       "    </tr>\n",
       "    <tr>\n",
       "      <td>1223</td>\n",
       "      <td>Große und helle Zimmer, bei denen sich Eltern ...</td>\n",
       "      <td>de</td>\n",
       "    </tr>\n",
       "    <tr>\n",
       "      <td>1230</td>\n",
       "      <td>Ich habe extra meine Reisedaten für NY geänder...</td>\n",
       "      <td>de</td>\n",
       "    </tr>\n",
       "    <tr>\n",
       "      <td>1234</td>\n",
       "      <td>Super Preis-/leistungsverhältnis, große Zimmer...</td>\n",
       "      <td>de</td>\n",
       "    </tr>\n",
       "    <tr>\n",
       "      <td>...</td>\n",
       "      <td>...</td>\n",
       "      <td>...</td>\n",
       "    </tr>\n",
       "    <tr>\n",
       "      <td>878542</td>\n",
       "      <td>Die gute Lage des Hotels war ausschlaggebend f...</td>\n",
       "      <td>de</td>\n",
       "    </tr>\n",
       "    <tr>\n",
       "      <td>878545</td>\n",
       "      <td>Das Hay Adams liegt direkt gegenueber vom Weis...</td>\n",
       "      <td>de</td>\n",
       "    </tr>\n",
       "    <tr>\n",
       "      <td>878547</td>\n",
       "      <td>Das Hotel liegt direkt gegenüber dem Weißen Ha...</td>\n",
       "      <td>de</td>\n",
       "    </tr>\n",
       "    <tr>\n",
       "      <td>878548</td>\n",
       "      <td>das hotel liegt direkt gegenüber dem weissen h...</td>\n",
       "      <td>de</td>\n",
       "    </tr>\n",
       "    <tr>\n",
       "      <td>878551</td>\n",
       "      <td>Ich war in vielen alten Leadinghotels,Hay Adam...</td>\n",
       "      <td>de</td>\n",
       "    </tr>\n",
       "  </tbody>\n",
       "</table>\n",
       "<p>27055 rows × 2 columns</p>\n",
       "</div>"
      ],
      "text/plain": [
       "                                                     text language\n",
       "1191    Das Beacon ist ein angenehmes, sauberes Hotel ...       de\n",
       "1199    Schönes, sauberes Hotel an der Upper West Side...       de\n",
       "1223    Große und helle Zimmer, bei denen sich Eltern ...       de\n",
       "1230    Ich habe extra meine Reisedaten für NY geänder...       de\n",
       "1234    Super Preis-/leistungsverhältnis, große Zimmer...       de\n",
       "...                                                   ...      ...\n",
       "878542  Die gute Lage des Hotels war ausschlaggebend f...       de\n",
       "878545  Das Hay Adams liegt direkt gegenueber vom Weis...       de\n",
       "878547  Das Hotel liegt direkt gegenüber dem Weißen Ha...       de\n",
       "878548  das hotel liegt direkt gegenüber dem weissen h...       de\n",
       "878551  Ich war in vielen alten Leadinghotels,Hay Adam...       de\n",
       "\n",
       "[27055 rows x 2 columns]"
      ]
     },
     "execution_count": 46,
     "metadata": {},
     "output_type": "execute_result"
    }
   ],
   "source": [
    "df_1"
   ]
  },
  {
   "cell_type": "code",
   "execution_count": 50,
   "metadata": {},
   "outputs": [
    {
     "name": "stdout",
     "output_type": "stream",
     "text": [
      "                                                   text language\n",
      "1192  Très bon séjour au BEACON, à proximité de Cent...       fr\n",
      "1194  De retour de New York . Effectivement, l'hôtel...       fr\n",
      "1198  Nous avons séjourné une semaine. il nous à été...       fr\n",
      "1203  Situé dans le \"Upper West Side\", à deux pas du...       fr\n",
      "1204  Je recommande fortement cet hotel ou nous avon...       fr\n",
      "1209  Nous avons passé 8 jours dans cet hôtel aux ch...       fr\n",
      "1211  Appart hôtel ,idéal pour la famille ,situé a 1...       fr\n",
      "1217  C'est un hôtel génial à choisir absolument . N...       fr\n",
      "1218  Comme écrit dans les autres commentaires, il s...       fr\n",
      "1219  Idéal pour les familles : On économise grace à...       fr\n",
      "fr\n",
      "                                                   text language\n",
      "1193  Elegimos el hotel por recomendacion de la agen...       es\n",
      "1205  Hemos estado en octubre 4 personas en una habi...       es\n",
      "1207  Alquilamos un departamento de dos habitaciones...       es\n",
      "1244  Durante doce dias de Febrero, y de vacaciones ...       es\n",
      "1255  hotel ubicado cerca de comercios y supermercad...       es\n",
      "1264  Cuando uno elige visitar Nueva York debe elegi...       es\n",
      "1268  Un hotel en donde la esencia de los antiguos d...       es\n",
      "1271  Limpio, bonito, cerca de la parada del metro, ...       es\n",
      "1285  El hotel esta muy bien ubicado a dos calles de...       es\n",
      "1295  El mejor hotel y una de las mejores ciudades d...       es\n",
      "es\n",
      "                                                   text language\n",
      "1195  Jättefint hotell. Har inget att klaga på än at...       sv\n",
      "1201  Min man och jag bodde fem nätter på detta unde...       sv\n",
      "1246  Vi var i New York i 5 dagar och bodde på Hotel...       sv\n",
      "1959  En fantastisk hotellupplevelse på alla sätt oc...       sv\n",
      "1971  Jag och frugan var i New York i slutet av maj ...       sv\n",
      "1973  Läget låg bra, bra service, fresha rum. Kan va...       sv\n",
      "2004  Höstlov med \"family four\" i New York. Hotellet...       sv\n",
      "2444  Nybyggt hotell så det är frächt och snyggt. Vi...       sv\n",
      "2483  Fantastiskt hotell. Helt otrolig service, bra ...       sv\n",
      "2879  Hotellet var toppen! Nytt och fräscht. Det end...       sv\n",
      "sv\n",
      "                                                   text language\n",
      "1196  Siamo stati durante il fine estate in questo a...       it\n",
      "1206  Sono stata in questo albergo dal 2 al 7 ottobr...       it\n",
      "1208  Le indicazioni positive trovate su Tripadvisor...       it\n",
      "1210  ottimo hotel in cui soggiornare... eravamo in ...       it\n",
      "1213  Hotel in posizione ottima, soprattutto per fam...       it\n",
      "1222  Bellissimo hotel a Broadway, posizione central...       it\n",
      "1228  Ho alloggiato al Beacon 5 gg durante il mio vi...       it\n",
      "1233  All'inizio non eravamo del tutto convinti vist...       it\n",
      "1237  Siamo stati a New York per 10 giorni nel lugli...       it\n",
      "1238  Abbiamo scelto quest'hotel soprattutto per la ...       it\n",
      "it\n",
      "                                                   text language\n",
      "1197  Groot hotel boven de Beacon Theatre concertzaa...       nl\n",
      "1200  Een geweldige plaats om te verblijven. Een moo...       nl\n",
      "1212  Het hotel ligt vlak bij het metrostation 72 St...       nl\n",
      "1214  Ney terug van een weekje New York in het Beaco...       nl\n",
      "1215  Net trg uit New York @beacon hotel naast beaco...       nl\n",
      "1216  Een mooi en goed hotel. Locatie is wat minder ...       nl\n",
      "1220  Prima hotel, ligging is perfect. Door de kitch...       nl\n",
      "1227  Heerlijk ruime Royal hotelkamer met aparte sla...       nl\n",
      "1240  mijn dochter en ik zijn net terug uit New York...       nl\n",
      "1253  Superior dubbelkamer aanrader. Elke dag lekker...       nl\n",
      "nl\n",
      "                                                    text language\n",
      "1202   Lidt dyrt, men skøn beliggenhed. Tæt på Centra...       da\n",
      "1279   Det har en fortræffelig beliggenhed på Broadva...       da\n",
      "2007   Beliggenheden er central, f.eks. lige over for...       da\n",
      "4982   Luksuriøst mindre boutique hotel med god belig...       da\n",
      "5013   Vi har været glade for vores ophold på Iroquoi...       da\n",
      "5030   Dette hotellet er en liten perle, midt i teate...       da\n",
      "5047   Jeg har før været i New York og været skuffet ...       da\n",
      "9012   Beliggenhed og service er i top på dette hotel...       da\n",
      "11710  Skraldespanden ikke tømt\\nFangede den største ...       da\n",
      "14495  Dejligt hotel med søde mennesker i receptionen...       da\n",
      "da\n",
      "                                                   text language\n",
      "1232  É um apart longe das áreas mais barulhentas de...       pt\n",
      "1236  Com supermercado em frente, metro a duas quadr...       pt\n",
      "1249  Apart hotel bem localizado, muito confortável,...       pt\n",
      "1299  O hotel é muito bom, bem localizado distando a...       pt\n",
      "2017  Uma incrivel estada no coração de NYC.Gente le...       pt\n",
      "2029  Fiquei 11 dias nesse hotel e recomendo a todos...       pt\n",
      "2054  Simplesmente perfeito! Amei o hotel! Além de b...       pt\n",
      "2062  Sinceramente, em Nova York, prefiro e sempre i...       pt\n",
      "2849  Estive hospedada no The Chatwal Hotel em agost...       pt\n",
      "2858  Estivemos em NYC em abril/2012 e tivemos a fel...       pt\n",
      "pt\n",
      "                                                   text language\n",
      "1250  ニューヨークでようやく巡り合えたバランスのよいホテルです。ここ5年くらい毎年NYに行っていま...       ja\n",
      "1256  私（母親）、１５歳と５歳の息子３人で初めてのニューヨーク。いろいろ調べたけどここにして良かっ...       ja\n",
      "1258  アッパーウエストの雰囲気やスーパーが好きなのでリピしています。\\nリノベーションして高くなっ...       ja\n",
      "1260  向かい側には、朝6時から夜中迄開いているスーパー『fairway 』と、お惣菜が美味しい高級...       ja\n",
      "1272  一人旅で利用しました。やや宿泊料金は高いです。場所の治安が良い点、部屋が清潔な点、あとは一人...       ja\n",
      "1288  滞在中自炊をしたくて。キッチン付きであるこちらのホテルを選びました。\\n場所はブロードウェイ...       ja\n",
      "1298  グルメスーパーに徒歩圏内のキッチン付きホテルという条件で、ウーゴーと悩みましたが、投稿写真で...       ja\n",
      "1301  小さい子供同伴だったので、キッチン付きの部屋と思い、予約。\\n結論的には、ホテルの値段がその...       ja\n",
      "1303  部屋は狭いものの、綺麗に保たれております。\\nテレビは液晶で、iPod用のスピーカもありまし...       ja\n",
      "1305  地下鉄1,2,3線のどれも通る駅から近く、PENN STATIONから往復だったので便利でし...       ja\n",
      "ja\n",
      "                                                   text language\n",
      "1254  Likte meg meget godt på Hotellet, bra rom, rol...       no\n",
      "1345  Vi var 2 venner som reiste hit i romjula 2010 ...       no\n",
      "1962  Vi var 5 netter i NYC med to barn, og var veld...       no\n",
      "2012  Vi kan anbefale dette hotellet på det varmeste...       no\n",
      "2863  Fantastisk hotell, midt på Manhatten. Ca 100 m...       no\n",
      "2876  Super beliggenhet rett ved Times Square. God s...       no\n",
      "3885  Vi ble tatt imot med et vennlig smil da vi ank...       no\n",
      "3913  Et deilig hotell, hvor mørk (men moderne) innr...       no\n",
      "3956  Fire overnattinger med 3 ungdoms-/voksne barn....       no\n",
      "4970  Flott beliggenhet nært til Times Square, 5th A...       no\n",
      "no\n",
      "                                                    text language\n",
      "1992   ХОРОШ!\\nХороший отель в хорошем районе, на 5-й...       ru\n",
      "2474   Была идея найти отель с террасой на Манхэттене...       ru\n",
      "4945   Чисто - да. Место центровое - да. На этом все ...       ru\n",
      "7670   Мы посетили Omni Houston Hotel летом 2012 года...       ru\n",
      "11023  Отель превзошел все наши ожидания. Очень чиста...       ru\n",
      "11255  Отель удобно расположен.Рядом остановка автобу...       ru\n",
      "13127  Отель очень приличный. Номера убирают хорошо, ...       ru\n",
      "19464  Останавливался на несколько дней. Отличное рас...       ru\n",
      "23261  я останавливался в этой гостинице в октябре эт...       ru\n",
      "31279  Очень удобное расположение отеля – Times Squar...       ru\n",
      "ru\n",
      "                                                    text language\n",
      "3894   İs gezisinde kaldım, cok iyi bir otel. Lokasyo...       tr\n",
      "31239  Konum olarak cok iyi bir secim yapmisiz.Temiz ...       tr\n",
      "32338  Newyork a yaptigim uc uzun seyahatimdede bu ot...       tr\n",
      "45182  New York'ta kalacak yer bakanlar bu oteli düşü...       tr\n",
      "51939  bu otel anılarımda hem güzel, hem de feci olar...       tr\n",
      "61271  Her yere ozelliklede metroya yakinligi temiz v...       tr\n",
      "63422  İki blok otede metro istasyonu mevcut. O neden...       tr\n",
      "63431  Yeri çok güzel her yere yakın otel temiz kesin...       tr\n",
      "65132  Manhattan'ın orta yerinde, birçok yere yürüme ...       tr\n",
      "66676  Konumu çok iyi , midtown da. temizlik ve güven...       tr\n",
      "tr\n",
      "                                                     text language\n",
      "23073   用PCR积分20000分可以换一天 直接定的话貌似要300多美金\\n房间带有简单的厨房 很干...       ko\n",
      "33763   출장으로 묵었는데 corporate rate로 뉴욕호텔로는 저렴하게 묵었습니다.\\n...       ko\n",
      "76518   除了飯店價格便宜外, 坐落位置也很好, 就在中央公園旁邊, 到大都會博物館及古根漢博物館也非...       ko\n",
      "83066   세계 곳곳을 돌아다니면서 가격대비 최악의 호텔이였습니다\\nThis hotel was...       ko\n",
      "86437   我所住的房間在四樓,乾淨整齊。但我的朋友分到七樓的房間, 骯髒細小，洗手盤還佈滿漬。水管關...       ko\n",
      "140029  힐튼이라는 이름답게 좋은 서비스와 음식 객실또한 편안하고 좋았습니다. 직원들은 항상...       ko\n",
      "146108  基本上都很好!如果可以改進燈光和廁所的問題就太棒了!\\n還有,客服部的處理問題希望可以積極一...       ko\n",
      "227529  브로드웨이 중심에 위치하고 있어서 교통편이나 전망이 탁월합니다.\\n그 외의 것들은 ...       ko\n",
      "255503  힐튼가든인 35st 에는 호텔에 남들이 다있는 도어맨이 없습니다\\n고객의 편의를 많...       ko\n",
      "286012  Magnificient Mile 에 있어 Chicago 어느 곳이나 가기에 교통도 ...       ko\n",
      "ko\n",
      "                                                     text language\n",
      "34405   這是我第一次上網去訂酒店。可以找到這間酒店實在是幸運。酒店的職員服務及態度良好，特別自己在b...    zh-tw\n",
      "67078   heater太大聲，剛好我們的房間又在靠路邊，晚上到深夜街上喝完酒的人路過講話很大聲，所以有...    zh-tw\n",
      "339307  第一次入住 Comfort inn passadena。一到停車廠覺得很整齊舒服的感覺。到了...    zh-tw\n",
      "347152  這家旅店像國內的招待所。在LA的市中心，距離最近的地鐵站只要5分鐘步行時長。房間整潔乾淨。衛...    zh-tw\n",
      "364148  這回住在Westin是因為馬航班機延誤的關係，由馬航買單的。\\n我要分享的倒不是現場的服務，...    zh-tw\n",
      "558064  不錯的服務，\\n不能夠說無微不至但是服務人員態度讓人滿意，\\n同一個街區就有餐廳，\\n不怕會...    zh-tw\n",
      "585310  Motel, 有車位。有一個很大的泳池。\\n兩層樓，房間不多。Counter提供免費的果汁和...    zh-tw\n",
      "606557  請您在訂這家旅館以前，先聽聽我以下遭遇：\\n我在2012年一月31日到二月3日入住Villa...    zh-tw\n",
      "739898  相較其他飯店位置，silvercloud比較在郊區，就在水手巨蛋旁邊。\\n如果是喜歡看棒球的...    zh-tw\n",
      "754941  房間很舒適 最棒的是含自助早餐 及24小時的飲料提供 早餐雖然菜色不是很多樣 但該有的都有 ...    zh-tw\n",
      "zh-tw\n",
      "             text language\n",
      "42036  i like it!       sq\n",
      "sq\n",
      "                                                     text language\n",
      "55185   Στην αρχή είχαμε δωμάτιο στον τρίτο όροφο (ουσ...       el\n",
      "68829   εξαιρετική θέση,άνετοι χώροι καλό σέρβις !!\\nΧ...       el\n",
      "74068   Τ ξενοδοχειο ειναι σε πολυ καλο σημειο στην Ma...       el\n",
      "74265   Βολικότατη τοποθεσία, καθαρό, ανεπαρκής απόδοσ...       el\n",
      "74282   Η τοποθεσία είναι ιδανική για να δεις ολο το Μ...       el\n",
      "74459   Φοβερό το σημείο που βρίσκεται το ξενοδοχείο, ...       el\n",
      "93863   Η τοποθεσία του ξενοδοχείου εξαιρετική!!!! Κον...       el\n",
      "106959  μια απογοητευση.μειναμε σε 2κλινο.χρειαστηκαμε...       el\n",
      "163116  Το 4 points by Sheraton Midtown - Times Square...       el\n",
      "183505  πολυ καλο σερβις στο ξενοδοχειο αλλα και στο τ...       el\n",
      "el\n",
      "                                                     text language\n",
      "80093   Dirty towels\\nDirty walls\\nDirty rugs\\nDirty b...       af\n",
      "134617  Vies roestig bad (kmr 808) vies matje in bad g...       af\n",
      "183541  Goed hotel, midden in NY, op loopafstand van T...       af\n",
      "362787  veel lawaai van gasten( veel komende en vertre...       af\n",
      "372302  Big hotel very close to LAX. Large room and go...       af\n",
      "418707  Horrible stay... slamming doors disturbed my s...       af\n",
      "436851  Big bucks but it does make you feel like a roc...       af\n",
      "461007  wonderful view from our bedroom sunsets were a...       af\n",
      "486898  Nice! I like it a lot. Staff is awesome! Ggggg...       af\n",
      "493666  pool was dirty, door on 2 nd. floor would not ...       af\n",
      "af\n",
      "                                                     text language\n",
      "141960  room too small, no parking and no standing for...       tl\n",
      "tl\n",
      "                                                     text language\n",
      "189930                                   Excellent lodge.       ca\n",
      "267500  Un hotel encantador, el personal molt amable, ...       ca\n",
      "311038  Elegant! A nd so close to many graet restauran...       ca\n",
      "349346  MUY BUEN HOTEL SI DESEAS IR AL CENTRO DE LOS Á...       ca\n",
      "370634                    Beautiful hotel, delicious food       ca\n",
      "572139  出差到San Francisco，开始住intercontinental,后来转到这家wes...       ca\n",
      "672498      Excellant, comfortable stay. Got a good deal.       ca\n",
      "716233  Excellent hotel, excellent rooms, excellent st...       ca\n",
      "722566  Excellent rooms, excellent staff, excellent ho...       ca\n",
      "746409  Perfect location. Great restaurants adjacent. ...       ca\n",
      "ca\n",
      "                                                     text language\n",
      "219990  موقع الفندق الافضل بنيو يورك مانهاتن \\nولكن ال...       ar\n",
      "ar\n",
      "                                                     text language\n",
      "253096  第二次来纽约，还是选择了这家精品酒店。房间还不错，只是这次给了低楼房间，有LCD电视，走大概...       vi\n",
      "299044  去chicago住过两次，交通很方便，可以从地铁口直接进building走到酒店，大概要走五...       vi\n",
      "671345  虽然是Express, 但由于是 Holiday Inn 管理, 所以也不会令人失望.\\n酒...       vi\n",
      "725003  还不错的房间。在Holiday入住所以稍微贵一点，价格是美金200，双人房。\\n就在down...       vi\n",
      "vi\n",
      "                                                     text language\n",
      "519618  Ebben a szállodában május végén voltunk, a szo...       hu\n",
      "hu\n"
     ]
    }
   ],
   "source": [
    "lang_list =['fr','es', 'sv', 'it', 'nl', 'da', 'pt', 'ja', 'no', 'ru',\n",
    "       'tr','ko', 'zh-tw', 'sq', 'el', 'af', 'tl',\n",
    "       'ca', 'ar', 'vi','hu']\n",
    "final_df=pd.DataFrame()\n",
    "for i in lang_list:\n",
    "    df_1 = df_not_english[df_not_english['language']==i]\n",
    "    df_1 = df_1[:10]\n",
    "    print(df_1)\n",
    "    df_1['English'] = df_1['text'].apply(translator.translate, src='auto', dest='en').apply(getattr, args=('text',))\n",
    "    print(i)\n",
    "    final_df = final_df.append(df_1)"
   ]
  },
  {
   "cell_type": "code",
   "execution_count": 51,
   "metadata": {},
   "outputs": [
    {
     "data": {
      "text/html": [
       "<div>\n",
       "<style scoped>\n",
       "    .dataframe tbody tr th:only-of-type {\n",
       "        vertical-align: middle;\n",
       "    }\n",
       "\n",
       "    .dataframe tbody tr th {\n",
       "        vertical-align: top;\n",
       "    }\n",
       "\n",
       "    .dataframe thead th {\n",
       "        text-align: right;\n",
       "    }\n",
       "</style>\n",
       "<table border=\"1\" class=\"dataframe\">\n",
       "  <thead>\n",
       "    <tr style=\"text-align: right;\">\n",
       "      <th></th>\n",
       "      <th>text</th>\n",
       "      <th>language</th>\n",
       "      <th>English</th>\n",
       "    </tr>\n",
       "  </thead>\n",
       "  <tbody>\n",
       "    <tr>\n",
       "      <td>1192</td>\n",
       "      <td>Très bon séjour au BEACON, à proximité de Cent...</td>\n",
       "      <td>fr</td>\n",
       "      <td>Very good experience at BEACON, near Central P...</td>\n",
       "    </tr>\n",
       "    <tr>\n",
       "      <td>1194</td>\n",
       "      <td>De retour de New York . Effectivement, l'hôtel...</td>\n",
       "      <td>fr</td>\n",
       "      <td>New York return. Indeed, the hotel is very com...</td>\n",
       "    </tr>\n",
       "    <tr>\n",
       "      <td>1198</td>\n",
       "      <td>Nous avons séjourné une semaine. il nous à été...</td>\n",
       "      <td>fr</td>\n",
       "      <td>We stayed one week. it was recommended to us b...</td>\n",
       "    </tr>\n",
       "    <tr>\n",
       "      <td>1203</td>\n",
       "      <td>Situé dans le \"Upper West Side\", à deux pas du...</td>\n",
       "      <td>fr</td>\n",
       "      <td>Located in the \"Upper West Side\", close to the...</td>\n",
       "    </tr>\n",
       "    <tr>\n",
       "      <td>1204</td>\n",
       "      <td>Je recommande fortement cet hotel ou nous avon...</td>\n",
       "      <td>fr</td>\n",
       "      <td>I highly recommend this hotel where we stayed ...</td>\n",
       "    </tr>\n",
       "    <tr>\n",
       "      <td>...</td>\n",
       "      <td>...</td>\n",
       "      <td>...</td>\n",
       "      <td>...</td>\n",
       "    </tr>\n",
       "    <tr>\n",
       "      <td>253096</td>\n",
       "      <td>第二次来纽约，还是选择了这家精品酒店。房间还不错，只是这次给了低楼房间，有LCD电视，走大概...</td>\n",
       "      <td>vi</td>\n",
       "      <td>The second in New York, chose this boutique ho...</td>\n",
       "    </tr>\n",
       "    <tr>\n",
       "      <td>299044</td>\n",
       "      <td>去chicago住过两次，交通很方便，可以从地铁口直接进building走到酒店，大概要走五...</td>\n",
       "      <td>vi</td>\n",
       "      <td>Go to chicago stayed twice, transportation is ...</td>\n",
       "    </tr>\n",
       "    <tr>\n",
       "      <td>671345</td>\n",
       "      <td>虽然是Express, 但由于是 Holiday Inn 管理, 所以也不会令人失望.\\n酒...</td>\n",
       "      <td>vi</td>\n",
       "      <td>Although the Express, but the management is Ho...</td>\n",
       "    </tr>\n",
       "    <tr>\n",
       "      <td>725003</td>\n",
       "      <td>还不错的房间。在Holiday入住所以稍微贵一点，价格是美金200，双人房。\\n就在down...</td>\n",
       "      <td>vi</td>\n",
       "      <td>Pretty good room. Holiday stay in it a little ...</td>\n",
       "    </tr>\n",
       "    <tr>\n",
       "      <td>519618</td>\n",
       "      <td>Ebben a szállodában május végén voltunk, a szo...</td>\n",
       "      <td>hu</td>\n",
       "      <td>In late May, we were in the hotel, the rooms a...</td>\n",
       "    </tr>\n",
       "  </tbody>\n",
       "</table>\n",
       "<p>168 rows × 3 columns</p>\n",
       "</div>"
      ],
      "text/plain": [
       "                                                     text language  \\\n",
       "1192    Très bon séjour au BEACON, à proximité de Cent...       fr   \n",
       "1194    De retour de New York . Effectivement, l'hôtel...       fr   \n",
       "1198    Nous avons séjourné une semaine. il nous à été...       fr   \n",
       "1203    Situé dans le \"Upper West Side\", à deux pas du...       fr   \n",
       "1204    Je recommande fortement cet hotel ou nous avon...       fr   \n",
       "...                                                   ...      ...   \n",
       "253096  第二次来纽约，还是选择了这家精品酒店。房间还不错，只是这次给了低楼房间，有LCD电视，走大概...       vi   \n",
       "299044  去chicago住过两次，交通很方便，可以从地铁口直接进building走到酒店，大概要走五...       vi   \n",
       "671345  虽然是Express, 但由于是 Holiday Inn 管理, 所以也不会令人失望.\\n酒...       vi   \n",
       "725003  还不错的房间。在Holiday入住所以稍微贵一点，价格是美金200，双人房。\\n就在down...       vi   \n",
       "519618  Ebben a szállodában május végén voltunk, a szo...       hu   \n",
       "\n",
       "                                                  English  \n",
       "1192    Very good experience at BEACON, near Central P...  \n",
       "1194    New York return. Indeed, the hotel is very com...  \n",
       "1198    We stayed one week. it was recommended to us b...  \n",
       "1203    Located in the \"Upper West Side\", close to the...  \n",
       "1204    I highly recommend this hotel where we stayed ...  \n",
       "...                                                   ...  \n",
       "253096  The second in New York, chose this boutique ho...  \n",
       "299044  Go to chicago stayed twice, transportation is ...  \n",
       "671345  Although the Express, but the management is Ho...  \n",
       "725003  Pretty good room. Holiday stay in it a little ...  \n",
       "519618  In late May, we were in the hotel, the rooms a...  \n",
       "\n",
       "[168 rows x 3 columns]"
      ]
     },
     "execution_count": 51,
     "metadata": {},
     "output_type": "execute_result"
    }
   ],
   "source": [
    "final_df"
   ]
  },
  {
   "cell_type": "code",
   "execution_count": 52,
   "metadata": {},
   "outputs": [],
   "source": [
    "df_converted = final_df['English']"
   ]
  },
  {
   "cell_type": "code",
   "execution_count": 53,
   "metadata": {},
   "outputs": [
    {
     "data": {
      "text/plain": [
       "1192      Very good experience at BEACON, near Central P...\n",
       "1194      New York return. Indeed, the hotel is very com...\n",
       "1198      We stayed one week. it was recommended to us b...\n",
       "1203      Located in the \"Upper West Side\", close to the...\n",
       "1204      I highly recommend this hotel where we stayed ...\n",
       "                                ...                        \n",
       "253096    The second in New York, chose this boutique ho...\n",
       "299044    Go to chicago stayed twice, transportation is ...\n",
       "671345    Although the Express, but the management is Ho...\n",
       "725003    Pretty good room. Holiday stay in it a little ...\n",
       "519618    In late May, we were in the hotel, the rooms a...\n",
       "Name: English, Length: 168, dtype: object"
      ]
     },
     "execution_count": 53,
     "metadata": {},
     "output_type": "execute_result"
    }
   ],
   "source": [
    "df_converted"
   ]
  },
  {
   "cell_type": "code",
   "execution_count": 54,
   "metadata": {},
   "outputs": [],
   "source": [
    "df = review_df.merge(offering_df,left_on='offering_id', right_on='id')"
   ]
  },
  {
   "cell_type": "code",
   "execution_count": 55,
   "metadata": {},
   "outputs": [],
   "source": [
    "df = pd.concat([df, df_converted], axis=1)"
   ]
  },
  {
   "cell_type": "code",
   "execution_count": 56,
   "metadata": {
    "scrolled": true
   },
   "outputs": [
    {
     "data": {
      "text/html": [
       "<div>\n",
       "<style scoped>\n",
       "    .dataframe tbody tr th:only-of-type {\n",
       "        vertical-align: middle;\n",
       "    }\n",
       "\n",
       "    .dataframe tbody tr th {\n",
       "        vertical-align: top;\n",
       "    }\n",
       "\n",
       "    .dataframe thead th {\n",
       "        text-align: right;\n",
       "    }\n",
       "</style>\n",
       "<table border=\"1\" class=\"dataframe\">\n",
       "  <thead>\n",
       "    <tr style=\"text-align: right;\">\n",
       "      <th></th>\n",
       "      <th>title</th>\n",
       "      <th>text</th>\n",
       "      <th>date_stayed</th>\n",
       "      <th>offering_id</th>\n",
       "      <th>num_helpful_votes</th>\n",
       "      <th>date</th>\n",
       "      <th>id_x</th>\n",
       "      <th>via_mobile</th>\n",
       "      <th>username</th>\n",
       "      <th>num_cities</th>\n",
       "      <th>...</th>\n",
       "      <th>details</th>\n",
       "      <th>address</th>\n",
       "      <th>type</th>\n",
       "      <th>id_y</th>\n",
       "      <th>name</th>\n",
       "      <th>region</th>\n",
       "      <th>street-address</th>\n",
       "      <th>postal-code</th>\n",
       "      <th>locality</th>\n",
       "      <th>English</th>\n",
       "    </tr>\n",
       "  </thead>\n",
       "  <tbody>\n",
       "    <tr>\n",
       "      <td>0</td>\n",
       "      <td>“Truly is \"Jewel of the Upper Wets Side\"”</td>\n",
       "      <td>Stayed in a king suite for 11 nights and yes i...</td>\n",
       "      <td>December 2012</td>\n",
       "      <td>93338</td>\n",
       "      <td>0</td>\n",
       "      <td>December 17, 2012</td>\n",
       "      <td>147643103</td>\n",
       "      <td>False</td>\n",
       "      <td>Papa_Panda</td>\n",
       "      <td>22.0</td>\n",
       "      <td>...</td>\n",
       "      <td>None</td>\n",
       "      <td>{'region': 'NY', 'street-address': '2130 Broad...</td>\n",
       "      <td>hotel</td>\n",
       "      <td>93338</td>\n",
       "      <td>Hotel Beacon</td>\n",
       "      <td>NY</td>\n",
       "      <td>2130 Broadway at 75th Street</td>\n",
       "      <td>10023</td>\n",
       "      <td>New York City</td>\n",
       "      <td>NaN</td>\n",
       "    </tr>\n",
       "    <tr>\n",
       "      <td>1</td>\n",
       "      <td>“My home away from home!”</td>\n",
       "      <td>On every visit to NYC, the Hotel Beacon is the...</td>\n",
       "      <td>December 2012</td>\n",
       "      <td>93338</td>\n",
       "      <td>0</td>\n",
       "      <td>December 17, 2012</td>\n",
       "      <td>147639004</td>\n",
       "      <td>False</td>\n",
       "      <td>Maureen V</td>\n",
       "      <td>2.0</td>\n",
       "      <td>...</td>\n",
       "      <td>None</td>\n",
       "      <td>{'region': 'NY', 'street-address': '2130 Broad...</td>\n",
       "      <td>hotel</td>\n",
       "      <td>93338</td>\n",
       "      <td>Hotel Beacon</td>\n",
       "      <td>NY</td>\n",
       "      <td>2130 Broadway at 75th Street</td>\n",
       "      <td>10023</td>\n",
       "      <td>New York City</td>\n",
       "      <td>NaN</td>\n",
       "    </tr>\n",
       "    <tr>\n",
       "      <td>2</td>\n",
       "      <td>“Excellent location”</td>\n",
       "      <td>Loved the hotel. Great location - only 2 block...</td>\n",
       "      <td>December 2012</td>\n",
       "      <td>93338</td>\n",
       "      <td>0</td>\n",
       "      <td>December 17, 2012</td>\n",
       "      <td>147634248</td>\n",
       "      <td>False</td>\n",
       "      <td>Erica1103</td>\n",
       "      <td>2.0</td>\n",
       "      <td>...</td>\n",
       "      <td>None</td>\n",
       "      <td>{'region': 'NY', 'street-address': '2130 Broad...</td>\n",
       "      <td>hotel</td>\n",
       "      <td>93338</td>\n",
       "      <td>Hotel Beacon</td>\n",
       "      <td>NY</td>\n",
       "      <td>2130 Broadway at 75th Street</td>\n",
       "      <td>10023</td>\n",
       "      <td>New York City</td>\n",
       "      <td>NaN</td>\n",
       "    </tr>\n",
       "    <tr>\n",
       "      <td>3</td>\n",
       "      <td>“All-round fantastic NYC hotel”</td>\n",
       "      <td>Our first stay on the upper west side and can'...</td>\n",
       "      <td>December 2012</td>\n",
       "      <td>93338</td>\n",
       "      <td>0</td>\n",
       "      <td>December 17, 2012</td>\n",
       "      <td>147625002</td>\n",
       "      <td>False</td>\n",
       "      <td>rmfindc</td>\n",
       "      <td>2.0</td>\n",
       "      <td>...</td>\n",
       "      <td>None</td>\n",
       "      <td>{'region': 'NY', 'street-address': '2130 Broad...</td>\n",
       "      <td>hotel</td>\n",
       "      <td>93338</td>\n",
       "      <td>Hotel Beacon</td>\n",
       "      <td>NY</td>\n",
       "      <td>2130 Broadway at 75th Street</td>\n",
       "      <td>10023</td>\n",
       "      <td>New York City</td>\n",
       "      <td>NaN</td>\n",
       "    </tr>\n",
       "    <tr>\n",
       "      <td>4</td>\n",
       "      <td>“Great hotel in nice area”</td>\n",
       "      <td>Great room, very big with huge bed! Great loca...</td>\n",
       "      <td>December 2012</td>\n",
       "      <td>93338</td>\n",
       "      <td>0</td>\n",
       "      <td>December 17, 2012</td>\n",
       "      <td>147623184</td>\n",
       "      <td>False</td>\n",
       "      <td>MiloandMaya</td>\n",
       "      <td>2.0</td>\n",
       "      <td>...</td>\n",
       "      <td>None</td>\n",
       "      <td>{'region': 'NY', 'street-address': '2130 Broad...</td>\n",
       "      <td>hotel</td>\n",
       "      <td>93338</td>\n",
       "      <td>Hotel Beacon</td>\n",
       "      <td>NY</td>\n",
       "      <td>2130 Broadway at 75th Street</td>\n",
       "      <td>10023</td>\n",
       "      <td>New York City</td>\n",
       "      <td>NaN</td>\n",
       "    </tr>\n",
       "  </tbody>\n",
       "</table>\n",
       "<p>5 rows × 35 columns</p>\n",
       "</div>"
      ],
      "text/plain": [
       "                                       title  \\\n",
       "0  “Truly is \"Jewel of the Upper Wets Side\"”   \n",
       "1                  “My home away from home!”   \n",
       "2                       “Excellent location”   \n",
       "3            “All-round fantastic NYC hotel”   \n",
       "4                 “Great hotel in nice area”   \n",
       "\n",
       "                                                text    date_stayed  \\\n",
       "0  Stayed in a king suite for 11 nights and yes i...  December 2012   \n",
       "1  On every visit to NYC, the Hotel Beacon is the...  December 2012   \n",
       "2  Loved the hotel. Great location - only 2 block...  December 2012   \n",
       "3  Our first stay on the upper west side and can'...  December 2012   \n",
       "4  Great room, very big with huge bed! Great loca...  December 2012   \n",
       "\n",
       "   offering_id  num_helpful_votes               date       id_x  via_mobile  \\\n",
       "0        93338                  0  December 17, 2012  147643103       False   \n",
       "1        93338                  0  December 17, 2012  147639004       False   \n",
       "2        93338                  0  December 17, 2012  147634248       False   \n",
       "3        93338                  0  December 17, 2012  147625002       False   \n",
       "4        93338                  0  December 17, 2012  147623184       False   \n",
       "\n",
       "      username  num_cities  ...  details  \\\n",
       "0   Papa_Panda        22.0  ...     None   \n",
       "1    Maureen V         2.0  ...     None   \n",
       "2    Erica1103         2.0  ...     None   \n",
       "3      rmfindc         2.0  ...     None   \n",
       "4  MiloandMaya         2.0  ...     None   \n",
       "\n",
       "                                             address   type   id_y  \\\n",
       "0  {'region': 'NY', 'street-address': '2130 Broad...  hotel  93338   \n",
       "1  {'region': 'NY', 'street-address': '2130 Broad...  hotel  93338   \n",
       "2  {'region': 'NY', 'street-address': '2130 Broad...  hotel  93338   \n",
       "3  {'region': 'NY', 'street-address': '2130 Broad...  hotel  93338   \n",
       "4  {'region': 'NY', 'street-address': '2130 Broad...  hotel  93338   \n",
       "\n",
       "           name  region                street-address  postal-code  \\\n",
       "0  Hotel Beacon      NY  2130 Broadway at 75th Street        10023   \n",
       "1  Hotel Beacon      NY  2130 Broadway at 75th Street        10023   \n",
       "2  Hotel Beacon      NY  2130 Broadway at 75th Street        10023   \n",
       "3  Hotel Beacon      NY  2130 Broadway at 75th Street        10023   \n",
       "4  Hotel Beacon      NY  2130 Broadway at 75th Street        10023   \n",
       "\n",
       "        locality  English  \n",
       "0  New York City      NaN  \n",
       "1  New York City      NaN  \n",
       "2  New York City      NaN  \n",
       "3  New York City      NaN  \n",
       "4  New York City      NaN  \n",
       "\n",
       "[5 rows x 35 columns]"
      ]
     },
     "execution_count": 56,
     "metadata": {},
     "output_type": "execute_result"
    }
   ],
   "source": [
    "df.head()"
   ]
  },
  {
   "cell_type": "code",
   "execution_count": 57,
   "metadata": {},
   "outputs": [
    {
     "data": {
      "text/plain": [
       "(878561, 35)"
      ]
     },
     "execution_count": 57,
     "metadata": {},
     "output_type": "execute_result"
    }
   ],
   "source": [
    "df.shape"
   ]
  },
  {
   "cell_type": "code",
   "execution_count": 59,
   "metadata": {},
   "outputs": [],
   "source": [
    "\n",
    "df.loc[df['English'].notnull(),'text']= df['English']"
   ]
  },
  {
   "cell_type": "code",
   "execution_count": 60,
   "metadata": {},
   "outputs": [],
   "source": [
    "df_2 = df[df['English'].notnull()]"
   ]
  },
  {
   "cell_type": "code",
   "execution_count": 62,
   "metadata": {},
   "outputs": [],
   "source": [
    "df['language'] = df_conversion['language']"
   ]
  },
  {
   "cell_type": "code",
   "execution_count": 63,
   "metadata": {},
   "outputs": [],
   "source": [
    "df_eng = df[df['language'] =='en']"
   ]
  },
  {
   "cell_type": "code",
   "execution_count": 64,
   "metadata": {},
   "outputs": [
    {
     "name": "stderr",
     "output_type": "stream",
     "text": [
      "/opt/anaconda3/lib/python3.7/site-packages/ipykernel_launcher.py:1: FutureWarning: Sorting because non-concatenation axis is not aligned. A future version\n",
      "of pandas will change to not sort by default.\n",
      "\n",
      "To accept the future behavior, pass 'sort=False'.\n",
      "\n",
      "To retain the current behavior and silence the warning, pass 'sort=True'.\n",
      "\n",
      "  \"\"\"Entry point for launching an IPython kernel.\n"
     ]
    }
   ],
   "source": [
    "df_final = pd.concat([df_eng,df_2],axis=0)"
   ]
  },
  {
   "cell_type": "code",
   "execution_count": 90,
   "metadata": {},
   "outputs": [
    {
     "data": {
      "text/plain": [
       "(771237, 34)"
      ]
     },
     "execution_count": 90,
     "metadata": {},
     "output_type": "execute_result"
    }
   ],
   "source": [
    "df_final.shape"
   ]
  },
  {
   "cell_type": "code",
   "execution_count": 66,
   "metadata": {},
   "outputs": [],
   "source": [
    "del df_final['language']"
   ]
  },
  {
   "cell_type": "code",
   "execution_count": 67,
   "metadata": {},
   "outputs": [],
   "source": [
    "del df_final['English']"
   ]
  },
  {
   "cell_type": "code",
   "execution_count": 70,
   "metadata": {},
   "outputs": [
    {
     "name": "stdout",
     "output_type": "stream",
     "text": [
      "<class 'pandas.core.frame.DataFrame'>\n",
      "Int64Index: 771237 entries, 0 to 754941\n",
      "Data columns (total 34 columns):\n",
      "address                     771237 non-null object\n",
      "author_id                   771237 non-null object\n",
      "author_num_helpful_votes    603797 non-null float64\n",
      "cleanliness                 691691 non-null float64\n",
      "date                        771237 non-null object\n",
      "date_stayed                 739948 non-null object\n",
      "details                     0 non-null object\n",
      "hotel_class                 740198 non-null float64\n",
      "id_x                        771237 non-null int64\n",
      "id_y                        771237 non-null int64\n",
      "locality                    771237 non-null object\n",
      "location                    607660 non-null float64\n",
      "name                        771237 non-null object\n",
      "num_cities                  559325 non-null float64\n",
      "num_helpful_votes           771237 non-null int64\n",
      "num_reviews                 736307 non-null float64\n",
      "num_type_reviews            468293 non-null float64\n",
      "offering_id                 771237 non-null int64\n",
      "overall                     771237 non-null float64\n",
      "phone                       771237 non-null object\n",
      "postal-code                 769549 non-null object\n",
      "region                      771237 non-null object\n",
      "region_id                   771237 non-null int64\n",
      "rooms                       640461 non-null float64\n",
      "service                     691661 non-null float64\n",
      "sleep_quality               453499 non-null float64\n",
      "street-address              771237 non-null object\n",
      "text                        771237 non-null object\n",
      "title                       771237 non-null object\n",
      "type                        771237 non-null object\n",
      "url                         771237 non-null object\n",
      "username                    771237 non-null object\n",
      "value                       692059 non-null float64\n",
      "via_mobile                  771237 non-null bool\n",
      "dtypes: bool(1), float64(12), int64(5), object(16)\n",
      "memory usage: 200.8+ MB\n"
     ]
    }
   ],
   "source": [
    "df_final.info()"
   ]
  },
  {
   "cell_type": "code",
   "execution_count": 72,
   "metadata": {},
   "outputs": [],
   "source": [
    "df_final.to_csv('converted_text.csv')"
   ]
  },
  {
   "cell_type": "code",
   "execution_count": 71,
   "metadata": {},
   "outputs": [
    {
     "data": {
      "text/plain": [
       "Index(['title', 'text', 'date_stayed', 'offering_id', 'num_helpful_votes',\n",
       "       'date', 'id_x', 'via_mobile', 'username', 'num_cities', 'num_reviews',\n",
       "       'num_type_reviews', 'author_num_helpful_votes', 'author_id', 'service',\n",
       "       'cleanliness', 'overall', 'value', 'location', 'sleep_quality', 'rooms',\n",
       "       'hotel_class', 'region_id', 'url', 'phone', 'details', 'address',\n",
       "       'type', 'id_y', 'name', 'region', 'street-address', 'postal-code',\n",
       "       'locality', 'English', 'language'],\n",
       "      dtype='object')"
      ]
     },
     "execution_count": 71,
     "metadata": {},
     "output_type": "execute_result"
    }
   ],
   "source": [
    "df.columns"
   ]
  }
 ],
 "metadata": {
  "kernelspec": {
   "display_name": "Python 3",
   "language": "python",
   "name": "python3"
  },
  "language_info": {
   "codemirror_mode": {
    "name": "ipython",
    "version": 3
   },
   "file_extension": ".py",
   "mimetype": "text/x-python",
   "name": "python",
   "nbconvert_exporter": "python",
   "pygments_lexer": "ipython3",
   "version": "3.8.3"
  }
 },
 "nbformat": 4,
 "nbformat_minor": 4
}
