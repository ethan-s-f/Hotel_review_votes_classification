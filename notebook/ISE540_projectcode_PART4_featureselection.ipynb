{
 "cells": [
  {
   "cell_type": "code",
   "execution_count": 1,
   "metadata": {},
   "outputs": [],
   "source": [
    "import pandas as pd\n",
    "import numpy as np"
   ]
  },
  {
   "cell_type": "markdown",
   "metadata": {},
   "source": [
    "# Read in final_df"
   ]
  },
  {
   "cell_type": "code",
   "execution_count": 3,
   "metadata": {},
   "outputs": [
    {
     "name": "stderr",
     "output_type": "stream",
     "text": [
      "/Users/siyuan/opt/anaconda3/lib/python3.8/site-packages/IPython/core/interactiveshell.py:3071: DtypeWarning: Columns (27) have mixed types.Specify dtype option on import or set low_memory=False.\n",
      "  has_raised = await self.run_ast_nodes(code_ast.body, cell_name,\n"
     ]
    }
   ],
   "source": [
    "df = pd.read_csv('final_df.csv')\n",
    "df = df.drop(['Unnamed: 0','type.1'],axis=1)"
   ]
  },
  {
   "cell_type": "code",
   "execution_count": 4,
   "metadata": {},
   "outputs": [],
   "source": [
    "df_temp = df.copy()"
   ]
  },
  {
   "cell_type": "markdown",
   "metadata": {},
   "source": [
    "# Creat new sentiment variable: polarity"
   ]
  },
  {
   "cell_type": "code",
   "execution_count": 5,
   "metadata": {},
   "outputs": [],
   "source": [
    "from textblob import TextBlob"
   ]
  },
  {
   "cell_type": "code",
   "execution_count": 6,
   "metadata": {},
   "outputs": [],
   "source": [
    "def sentiment_cal(text):\n",
    "    try:\n",
    "        return TextBlob(text).sentiment\n",
    "    except:\n",
    "        return None"
   ]
  },
  {
   "cell_type": "code",
   "execution_count": 7,
   "metadata": {},
   "outputs": [],
   "source": [
    "df_temp['sentiment'] = df_temp['text'].apply(sentiment_cal)"
   ]
  },
  {
   "cell_type": "code",
   "execution_count": 18,
   "metadata": {},
   "outputs": [
    {
     "data": {
      "text/plain": [
       "0.2907142857142857"
      ]
     },
     "execution_count": 18,
     "metadata": {},
     "output_type": "execute_result"
    }
   ],
   "source": [
    "df_temp.loc[0,'sentiment'][0]"
   ]
  },
  {
   "cell_type": "code",
   "execution_count": 20,
   "metadata": {},
   "outputs": [],
   "source": [
    "for i in range(len(df_temp)):\n",
    "    df_temp.loc[i,'polarity'] = df_temp.loc[i,'sentiment'][0]"
   ]
  },
  {
   "cell_type": "code",
   "execution_count": 21,
   "metadata": {},
   "outputs": [],
   "source": [
    "df_temp.polarity.fillna(0)"
   ]
  },
  {
   "cell_type": "code",
   "execution_count": 22,
   "metadata": {},
   "outputs": [],
   "source": [
    "df['polarity'] = list(df_temp['polarity'])"
   ]
  },
  {
   "cell_type": "markdown",
   "metadata": {},
   "source": [
    "# Feature Selection for Linear regression"
   ]
  },
  {
   "cell_type": "code",
   "execution_count": 23,
   "metadata": {},
   "outputs": [],
   "source": [
    "from sklearn.model_selection import train_test_split\n",
    "from sklearn.feature_selection import RFECV\n",
    "from sklearn.linear_model import LinearRegression\n",
    "from sklearn.linear_model import LogisticRegression\n",
    "from sklearn.model_selection import cross_val_score"
   ]
  },
  {
   "cell_type": "code",
   "execution_count": 24,
   "metadata": {},
   "outputs": [],
   "source": [
    "features_list_start = ['num_cities', 'num_reviews', 'num_type_reviews','author_num_helpful_votes',\n",
    "                       'service', 'cleanliness','overall', 'value', 'location', 'sleep_quality', 'rooms',\n",
    "                       'polarity',\n",
    "                       'number_of_visited_hotel','number_of_visited_city', 'average_service_rating',\n",
    "                       'average_cleanliness_rating', 'average_overall_rating',\n",
    "                       'average_value_rating', 'average_location_rating','average_sleep_quality_rating', 'average_rooms_rating',\n",
    "       'min_service_rating', 'min_cleanliness_rating', 'min_overall_rating',\n",
    "       'min_value_rating', 'min_location_rating', 'min_sleep_quality_rating',\n",
    "       'min_rooms_rating', 'max_service_rating', 'max_cleanliness_rating',\n",
    "       'max_overall_rating', 'max_value_rating', 'max_location_rating',\n",
    "       'max_sleep_quality_rating', 'max_rooms_rating', 'avergae_hotel_class',\n",
    "       'title_exclamation_count', 'title_questionmark_count',\n",
    "       'review_exclamation_count', 'review_questionmark_count',\n",
    "       'title_adv_count', 'total_number_hotel_reviews',\n",
    "       'total_number_helpful_reviews_hotel_got',\n",
    "       'average_service_rating_for_hotel',\n",
    "       'average_cleanliness_rating_for_hotel',\n",
    "       'average_overall_rating_for_hotel', 'average_value_rating_for_hotel',\n",
    "       'average_location_rating_for_hotel',\n",
    "       'average_sleep_quality_rating_for_hotel',\n",
    "       'average_rooms_rating_for_hotel', 'min_service_rating_for_hotel',\n",
    "       'min_cleanliness_rating_for_hotel', 'min_overall_rating_for_hotel',\n",
    "       'min_value_rating_for_hotel', 'min_location_rating_for_hotel',\n",
    "       'min_sleep_quality_rating_for_hotel', 'min_rooms_rating_for_hotel',\n",
    "       'max_service_rating_for_hotel', 'max_cleanliness_rating_for_hotel',\n",
    "       'max_overall_rating_for_hotel', 'max_value_rating_for_hotel',\n",
    "       'max_location_rating_for_hotel', 'max_sleep_quality_rating_for_hotel',\n",
    "       'max_rooms_rating_for_hotel', 'number_of_hotels_in_region',\n",
    "       'number_of_hotels_in_class_1', 'number_of_hotels_in_class_1.5',\n",
    "       'number_of_hotels_in_class_2', 'number_of_hotels_in_class_2.5',\n",
    "       'number_of_hotels_in_class_3', 'number_of_hotels_in_class_3.5',\n",
    "       'number_of_hotels_in_class_4', 'number_of_hotels_in_class_4.5',\n",
    "       'number_of_hotels_in_class_5', 'title_adj_count']"
   ]
  },
  {
   "cell_type": "code",
   "execution_count": 26,
   "metadata": {},
   "outputs": [],
   "source": [
    "df_feature_selection = df[features_list_start]"
   ]
  },
  {
   "cell_type": "code",
   "execution_count": 27,
   "metadata": {},
   "outputs": [],
   "source": [
    "df.loc[df['num_helpful_votes'] ==0, 'votes'] = 1\n",
    "df.loc[df['num_helpful_votes'] ==1, 'votes'] = 2\n",
    "df.loc[(df['num_helpful_votes'] >=2) & (df['num_helpful_votes']<= 5), 'votes'] = 3\n",
    "df.loc[(df['num_helpful_votes'] >=6) & (df['num_helpful_votes']<= 13), 'votes'] = 4\n",
    "df.loc[(df['num_helpful_votes'] >=14) & (df['num_helpful_votes']<= 36), 'votes'] = 5\n",
    "df.loc[df['num_helpful_votes'] >=37, 'votes'] = 6"
   ]
  },
  {
   "cell_type": "code",
   "execution_count": 30,
   "metadata": {},
   "outputs": [],
   "source": [
    "df_feature_selection_X,df_temp_X,df_feature_selection_y,df_temp_y = train_test_split(df_feature_selection,\n",
    "                                                                                    df['votes'],\n",
    "                                                                                    test_size = 0.3)"
   ]
  },
  {
   "cell_type": "code",
   "execution_count": 100,
   "metadata": {},
   "outputs": [
    {
     "data": {
      "text/plain": [
       "1.0    0.301372\n",
       "2.0    0.133607\n",
       "3.0    0.106390\n",
       "4.0    0.022947\n",
       "5.0    0.003904\n",
       "6.0    0.000156\n",
       "Name: votes, dtype: float64"
      ]
     },
     "execution_count": 100,
     "metadata": {},
     "output_type": "execute_result"
    }
   ],
   "source": [
    "df_feature_selection_y.value_counts()/sum(df_feature_selection_y)"
   ]
  },
  {
   "cell_type": "code",
   "execution_count": 101,
   "metadata": {},
   "outputs": [
    {
     "data": {
      "text/plain": [
       "1.0    0.301590\n",
       "2.0    0.133279\n",
       "3.0    0.106376\n",
       "4.0    0.023000\n",
       "5.0    0.003950\n",
       "6.0    0.000162\n",
       "Name: votes, dtype: float64"
      ]
     },
     "execution_count": 101,
     "metadata": {},
     "output_type": "execute_result"
    }
   ],
   "source": [
    "df.votes.value_counts()/sum(df.votes)"
   ]
  },
  {
   "cell_type": "code",
   "execution_count": null,
   "metadata": {},
   "outputs": [],
   "source": [
    "lr = LinearRegression()\n",
    "rfecv = RFECV(estimator = lr, step = 1, scoring='r2')\n",
    "X_train_rfe_lr = rfecv.fit_transform(df_feature_selection_X[selected_list],\n",
    "                                     df_feature_selection_y)"
   ]
  },
  {
   "cell_type": "markdown",
   "metadata": {},
   "source": [
    "final selected 30 vars:\n",
    " ['title_adj_count',\n",
    " 'number_of_hotels_in_class_5',\n",
    " 'number_of_hotels_in_class_4.5',\n",
    " 'number_of_hotels_in_class_4',\n",
    " 'number_of_hotels_in_class_3.5',\n",
    " 'number_of_hotels_in_class_3',\n",
    " 'number_of_hotels_in_class_2.5',\n",
    " 'number_of_hotels_in_class_2',\n",
    " 'number_of_hotels_in_class_1.5',\n",
    " 'number_of_hotels_in_class_1',\n",
    " 'number_of_hotels_in_region',\n",
    " 'max_rooms_rating_for_hotel',\n",
    " 'max_sleep_quality_rating_for_hotel',\n",
    " 'max_location_rating_for_hotel',\n",
    " 'max_value_rating_for_hotel',\n",
    " 'max_overall_rating_for_hotel',\n",
    " 'max_cleanliness_rating_for_hotel',\n",
    " 'max_service_rating_for_hotel',\n",
    " 'min_rooms_rating_for_hotel',\n",
    " 'min_location_rating_for_hotel',\n",
    " 'min_sleep_quality_rating_for_hotel',\n",
    " 'min_value_rating_for_hotel',\n",
    " 'min_overall_rating_for_hotel',\n",
    " 'min_cleanliness_rating_for_hotel',\n",
    " 'min_service_rating_for_hotel',\n",
    " 'average_rooms_rating_for_hotel',\n",
    " 'average_location_rating_for_hotel',\n",
    " 'average_sleep_quality_rating_for_hotel',\n",
    " 'average_value_rating_for_hotel',\n",
    " 'average_overall_rating_for_hotel'"
   ]
  },
  {
   "cell_type": "code",
   "execution_count": null,
   "metadata": {},
   "outputs": [],
   "source": []
  },
  {
   "cell_type": "code",
   "execution_count": null,
   "metadata": {},
   "outputs": [],
   "source": []
  },
  {
   "cell_type": "markdown",
   "metadata": {},
   "source": [
    "# Feature Selection for Multi-classification - Logistic regression"
   ]
  },
  {
   "cell_type": "markdown",
   "metadata": {},
   "source": [
    "## Univariate selection"
   ]
  },
  {
   "cell_type": "code",
   "execution_count": 137,
   "metadata": {},
   "outputs": [
    {
     "name": "stdout",
     "output_type": "stream",
     "text": [
      "(518136, 75)\n"
     ]
    }
   ],
   "source": [
    "sel_variance_threshold = VarianceThreshold() \n",
    "X_train_remove_variance = sel_variance_threshold.fit_transform(df_feature_selection_X)\n",
    "print(X_train_remove_variance.shape)"
   ]
  },
  {
   "cell_type": "code",
   "execution_count": 3,
   "metadata": {},
   "outputs": [],
   "source": [
    "from sklearn.feature_selection import VarianceThreshold\n",
    "from sklearn.feature_selection import RFE\n",
    "from sklearn.feature_selection import SelectKBest,chi2"
   ]
  },
  {
   "cell_type": "code",
   "execution_count": 138,
   "metadata": {},
   "outputs": [],
   "source": [
    "from sklearn.preprocessing import MinMaxScaler\n",
    "\n",
    "scaler = MinMaxScaler()\n",
    "\n",
    "scaler_x = scaler.fit_transform(df_feature_selection_X)"
   ]
  },
  {
   "cell_type": "code",
   "execution_count": 139,
   "metadata": {},
   "outputs": [],
   "source": [
    "scaler_x = pd.DataFrame(scaler_x,columns = list(df_feature_selection.columns))"
   ]
  },
  {
   "cell_type": "code",
   "execution_count": 141,
   "metadata": {},
   "outputs": [
    {
     "name": "stdout",
     "output_type": "stream",
     "text": [
      "[False False False  True  True  True  True  True False  True  True False\n",
      " False False  True  True  True  True False False  True  True  True  True\n",
      "  True False  True  True  True False  True False False False False False\n",
      " False False False False False False  True False False False False False\n",
      " False False False False False False False False False False False False\n",
      " False False False False  True  True  True  True False  True  True  True\n",
      "  True  True False]\n"
     ]
    }
   ],
   "source": [
    "sel_chi2 = SelectKBest(chi2, k=40)    # select 40 features\n",
    "df_feature_selection_2 = sel_chi2.fit_transform(scaler_x, df_feature_selection_y)\n",
    "print(sel_chi2.get_support())"
   ]
  },
  {
   "cell_type": "code",
   "execution_count": 142,
   "metadata": {},
   "outputs": [
    {
     "data": {
      "text/plain": [
       "75"
      ]
     },
     "execution_count": 142,
     "metadata": {},
     "output_type": "execute_result"
    }
   ],
   "source": [
    "len(sel_chi2.get_support())"
   ]
  },
  {
   "cell_type": "code",
   "execution_count": 143,
   "metadata": {},
   "outputs": [],
   "source": [
    "selected_list = []\n",
    "for i in range(75):\n",
    "    if sel_chi2.get_support()[i] == True:\n",
    "        selected_list.append(list(df_feature_selection.columns)[i])"
   ]
  },
  {
   "cell_type": "code",
   "execution_count": 145,
   "metadata": {},
   "outputs": [
    {
     "data": {
      "text/html": [
       "<div>\n",
       "<style scoped>\n",
       "    .dataframe tbody tr th:only-of-type {\n",
       "        vertical-align: middle;\n",
       "    }\n",
       "\n",
       "    .dataframe tbody tr th {\n",
       "        vertical-align: top;\n",
       "    }\n",
       "\n",
       "    .dataframe thead th {\n",
       "        text-align: right;\n",
       "    }\n",
       "</style>\n",
       "<table border=\"1\" class=\"dataframe\">\n",
       "  <thead>\n",
       "    <tr style=\"text-align: right;\">\n",
       "      <th></th>\n",
       "      <th>author_num_helpful_votes</th>\n",
       "      <th>service</th>\n",
       "      <th>cleanliness</th>\n",
       "      <th>overall</th>\n",
       "      <th>value</th>\n",
       "      <th>sleep_quality</th>\n",
       "      <th>rooms</th>\n",
       "      <th>average_service_rating</th>\n",
       "      <th>average_cleanliness_rating</th>\n",
       "      <th>average_overall_rating</th>\n",
       "      <th>...</th>\n",
       "      <th>total_number_helpful_reviews_hotel_got</th>\n",
       "      <th>number_of_hotels_in_region</th>\n",
       "      <th>number_of_hotels_in_class_1</th>\n",
       "      <th>number_of_hotels_in_class_1.5</th>\n",
       "      <th>number_of_hotels_in_class_2</th>\n",
       "      <th>number_of_hotels_in_class_3</th>\n",
       "      <th>number_of_hotels_in_class_3.5</th>\n",
       "      <th>number_of_hotels_in_class_4</th>\n",
       "      <th>number_of_hotels_in_class_4.5</th>\n",
       "      <th>number_of_hotels_in_class_5</th>\n",
       "    </tr>\n",
       "  </thead>\n",
       "  <tbody>\n",
       "    <tr>\n",
       "      <th>0</th>\n",
       "      <td>0.005187</td>\n",
       "      <td>0.500000</td>\n",
       "      <td>0.750000</td>\n",
       "      <td>0.75</td>\n",
       "      <td>0.750000</td>\n",
       "      <td>0.500000</td>\n",
       "      <td>0.25000</td>\n",
       "      <td>0.750000</td>\n",
       "      <td>0.875000</td>\n",
       "      <td>0.875000</td>\n",
       "      <td>...</td>\n",
       "      <td>0.082880</td>\n",
       "      <td>0.286566</td>\n",
       "      <td>0.000000</td>\n",
       "      <td>0.059550</td>\n",
       "      <td>0.105473</td>\n",
       "      <td>0.255686</td>\n",
       "      <td>0.185152</td>\n",
       "      <td>0.325478</td>\n",
       "      <td>0.337814</td>\n",
       "      <td>0.321013</td>\n",
       "    </tr>\n",
       "    <tr>\n",
       "      <th>1</th>\n",
       "      <td>0.000000</td>\n",
       "      <td>0.798572</td>\n",
       "      <td>0.836892</td>\n",
       "      <td>0.75</td>\n",
       "      <td>0.764399</td>\n",
       "      <td>0.798262</td>\n",
       "      <td>0.74965</td>\n",
       "      <td>0.798572</td>\n",
       "      <td>0.836892</td>\n",
       "      <td>0.750000</td>\n",
       "      <td>...</td>\n",
       "      <td>0.047962</td>\n",
       "      <td>0.032999</td>\n",
       "      <td>0.027168</td>\n",
       "      <td>0.142338</td>\n",
       "      <td>0.074603</td>\n",
       "      <td>0.048678</td>\n",
       "      <td>0.024481</td>\n",
       "      <td>0.015177</td>\n",
       "      <td>0.012243</td>\n",
       "      <td>0.000000</td>\n",
       "    </tr>\n",
       "    <tr>\n",
       "      <th>2</th>\n",
       "      <td>0.072614</td>\n",
       "      <td>1.000000</td>\n",
       "      <td>1.000000</td>\n",
       "      <td>1.00</td>\n",
       "      <td>0.750000</td>\n",
       "      <td>0.950428</td>\n",
       "      <td>1.00000</td>\n",
       "      <td>0.900000</td>\n",
       "      <td>0.900000</td>\n",
       "      <td>0.850000</td>\n",
       "      <td>...</td>\n",
       "      <td>0.039130</td>\n",
       "      <td>0.204888</td>\n",
       "      <td>0.000000</td>\n",
       "      <td>0.000000</td>\n",
       "      <td>0.047970</td>\n",
       "      <td>0.253677</td>\n",
       "      <td>0.384540</td>\n",
       "      <td>0.120393</td>\n",
       "      <td>0.134190</td>\n",
       "      <td>0.267958</td>\n",
       "    </tr>\n",
       "    <tr>\n",
       "      <th>3</th>\n",
       "      <td>0.001037</td>\n",
       "      <td>1.000000</td>\n",
       "      <td>1.000000</td>\n",
       "      <td>1.00</td>\n",
       "      <td>1.000000</td>\n",
       "      <td>1.000000</td>\n",
       "      <td>1.00000</td>\n",
       "      <td>1.000000</td>\n",
       "      <td>1.000000</td>\n",
       "      <td>1.000000</td>\n",
       "      <td>...</td>\n",
       "      <td>0.217935</td>\n",
       "      <td>0.204888</td>\n",
       "      <td>0.000000</td>\n",
       "      <td>0.000000</td>\n",
       "      <td>0.047970</td>\n",
       "      <td>0.253677</td>\n",
       "      <td>0.384540</td>\n",
       "      <td>0.120393</td>\n",
       "      <td>0.134190</td>\n",
       "      <td>0.267958</td>\n",
       "    </tr>\n",
       "    <tr>\n",
       "      <th>4</th>\n",
       "      <td>0.124481</td>\n",
       "      <td>1.000000</td>\n",
       "      <td>1.000000</td>\n",
       "      <td>1.00</td>\n",
       "      <td>1.000000</td>\n",
       "      <td>0.750000</td>\n",
       "      <td>0.75000</td>\n",
       "      <td>0.964286</td>\n",
       "      <td>1.000000</td>\n",
       "      <td>0.892857</td>\n",
       "      <td>...</td>\n",
       "      <td>0.061549</td>\n",
       "      <td>1.000000</td>\n",
       "      <td>1.000000</td>\n",
       "      <td>1.000000</td>\n",
       "      <td>0.387037</td>\n",
       "      <td>0.993383</td>\n",
       "      <td>0.698137</td>\n",
       "      <td>1.000000</td>\n",
       "      <td>1.000000</td>\n",
       "      <td>1.000000</td>\n",
       "    </tr>\n",
       "    <tr>\n",
       "      <th>...</th>\n",
       "      <td>...</td>\n",
       "      <td>...</td>\n",
       "      <td>...</td>\n",
       "      <td>...</td>\n",
       "      <td>...</td>\n",
       "      <td>...</td>\n",
       "      <td>...</td>\n",
       "      <td>...</td>\n",
       "      <td>...</td>\n",
       "      <td>...</td>\n",
       "      <td>...</td>\n",
       "      <td>...</td>\n",
       "      <td>...</td>\n",
       "      <td>...</td>\n",
       "      <td>...</td>\n",
       "      <td>...</td>\n",
       "      <td>...</td>\n",
       "      <td>...</td>\n",
       "      <td>...</td>\n",
       "      <td>...</td>\n",
       "      <td>...</td>\n",
       "    </tr>\n",
       "    <tr>\n",
       "      <th>518131</th>\n",
       "      <td>0.003112</td>\n",
       "      <td>0.250000</td>\n",
       "      <td>0.750000</td>\n",
       "      <td>0.50</td>\n",
       "      <td>0.750000</td>\n",
       "      <td>0.750000</td>\n",
       "      <td>0.75000</td>\n",
       "      <td>0.250000</td>\n",
       "      <td>0.750000</td>\n",
       "      <td>0.500000</td>\n",
       "      <td>...</td>\n",
       "      <td>0.075815</td>\n",
       "      <td>0.086347</td>\n",
       "      <td>0.000000</td>\n",
       "      <td>0.045025</td>\n",
       "      <td>0.030618</td>\n",
       "      <td>0.127682</td>\n",
       "      <td>0.129936</td>\n",
       "      <td>0.064489</td>\n",
       "      <td>0.000000</td>\n",
       "      <td>0.116145</td>\n",
       "    </tr>\n",
       "    <tr>\n",
       "      <th>518132</th>\n",
       "      <td>0.004149</td>\n",
       "      <td>0.750000</td>\n",
       "      <td>0.750000</td>\n",
       "      <td>0.75</td>\n",
       "      <td>0.750000</td>\n",
       "      <td>1.000000</td>\n",
       "      <td>0.75000</td>\n",
       "      <td>0.749155</td>\n",
       "      <td>0.797003</td>\n",
       "      <td>0.730909</td>\n",
       "      <td>...</td>\n",
       "      <td>0.026766</td>\n",
       "      <td>1.000000</td>\n",
       "      <td>1.000000</td>\n",
       "      <td>1.000000</td>\n",
       "      <td>0.387037</td>\n",
       "      <td>0.993383</td>\n",
       "      <td>0.698137</td>\n",
       "      <td>1.000000</td>\n",
       "      <td>1.000000</td>\n",
       "      <td>1.000000</td>\n",
       "    </tr>\n",
       "    <tr>\n",
       "      <th>518133</th>\n",
       "      <td>0.000000</td>\n",
       "      <td>0.750000</td>\n",
       "      <td>0.000000</td>\n",
       "      <td>0.50</td>\n",
       "      <td>0.000000</td>\n",
       "      <td>0.000000</td>\n",
       "      <td>0.25000</td>\n",
       "      <td>0.750000</td>\n",
       "      <td>0.000000</td>\n",
       "      <td>0.500000</td>\n",
       "      <td>...</td>\n",
       "      <td>0.466033</td>\n",
       "      <td>1.000000</td>\n",
       "      <td>1.000000</td>\n",
       "      <td>1.000000</td>\n",
       "      <td>0.387037</td>\n",
       "      <td>0.993383</td>\n",
       "      <td>0.698137</td>\n",
       "      <td>1.000000</td>\n",
       "      <td>1.000000</td>\n",
       "      <td>1.000000</td>\n",
       "    </tr>\n",
       "    <tr>\n",
       "      <th>518134</th>\n",
       "      <td>0.000000</td>\n",
       "      <td>0.000000</td>\n",
       "      <td>0.000000</td>\n",
       "      <td>0.00</td>\n",
       "      <td>0.000000</td>\n",
       "      <td>0.000000</td>\n",
       "      <td>0.00000</td>\n",
       "      <td>0.000000</td>\n",
       "      <td>0.000000</td>\n",
       "      <td>0.000000</td>\n",
       "      <td>...</td>\n",
       "      <td>0.000136</td>\n",
       "      <td>0.408885</td>\n",
       "      <td>0.000000</td>\n",
       "      <td>0.302832</td>\n",
       "      <td>0.367516</td>\n",
       "      <td>0.469097</td>\n",
       "      <td>0.382996</td>\n",
       "      <td>0.292922</td>\n",
       "      <td>0.179139</td>\n",
       "      <td>0.108992</td>\n",
       "    </tr>\n",
       "    <tr>\n",
       "      <th>518135</th>\n",
       "      <td>0.000000</td>\n",
       "      <td>1.000000</td>\n",
       "      <td>0.750000</td>\n",
       "      <td>1.00</td>\n",
       "      <td>1.000000</td>\n",
       "      <td>0.950428</td>\n",
       "      <td>1.00000</td>\n",
       "      <td>1.000000</td>\n",
       "      <td>0.750000</td>\n",
       "      <td>1.000000</td>\n",
       "      <td>...</td>\n",
       "      <td>0.003125</td>\n",
       "      <td>1.000000</td>\n",
       "      <td>1.000000</td>\n",
       "      <td>1.000000</td>\n",
       "      <td>0.387037</td>\n",
       "      <td>0.993383</td>\n",
       "      <td>0.698137</td>\n",
       "      <td>1.000000</td>\n",
       "      <td>1.000000</td>\n",
       "      <td>1.000000</td>\n",
       "    </tr>\n",
       "  </tbody>\n",
       "</table>\n",
       "<p>518136 rows × 30 columns</p>\n",
       "</div>"
      ],
      "text/plain": [
       "        author_num_helpful_votes   service  cleanliness  overall     value  \\\n",
       "0                       0.005187  0.500000     0.750000     0.75  0.750000   \n",
       "1                       0.000000  0.798572     0.836892     0.75  0.764399   \n",
       "2                       0.072614  1.000000     1.000000     1.00  0.750000   \n",
       "3                       0.001037  1.000000     1.000000     1.00  1.000000   \n",
       "4                       0.124481  1.000000     1.000000     1.00  1.000000   \n",
       "...                          ...       ...          ...      ...       ...   \n",
       "518131                  0.003112  0.250000     0.750000     0.50  0.750000   \n",
       "518132                  0.004149  0.750000     0.750000     0.75  0.750000   \n",
       "518133                  0.000000  0.750000     0.000000     0.50  0.000000   \n",
       "518134                  0.000000  0.000000     0.000000     0.00  0.000000   \n",
       "518135                  0.000000  1.000000     0.750000     1.00  1.000000   \n",
       "\n",
       "        sleep_quality    rooms  average_service_rating  \\\n",
       "0            0.500000  0.25000                0.750000   \n",
       "1            0.798262  0.74965                0.798572   \n",
       "2            0.950428  1.00000                0.900000   \n",
       "3            1.000000  1.00000                1.000000   \n",
       "4            0.750000  0.75000                0.964286   \n",
       "...               ...      ...                     ...   \n",
       "518131       0.750000  0.75000                0.250000   \n",
       "518132       1.000000  0.75000                0.749155   \n",
       "518133       0.000000  0.25000                0.750000   \n",
       "518134       0.000000  0.00000                0.000000   \n",
       "518135       0.950428  1.00000                1.000000   \n",
       "\n",
       "        average_cleanliness_rating  average_overall_rating  ...  \\\n",
       "0                         0.875000                0.875000  ...   \n",
       "1                         0.836892                0.750000  ...   \n",
       "2                         0.900000                0.850000  ...   \n",
       "3                         1.000000                1.000000  ...   \n",
       "4                         1.000000                0.892857  ...   \n",
       "...                            ...                     ...  ...   \n",
       "518131                    0.750000                0.500000  ...   \n",
       "518132                    0.797003                0.730909  ...   \n",
       "518133                    0.000000                0.500000  ...   \n",
       "518134                    0.000000                0.000000  ...   \n",
       "518135                    0.750000                1.000000  ...   \n",
       "\n",
       "        total_number_helpful_reviews_hotel_got  number_of_hotels_in_region  \\\n",
       "0                                     0.082880                    0.286566   \n",
       "1                                     0.047962                    0.032999   \n",
       "2                                     0.039130                    0.204888   \n",
       "3                                     0.217935                    0.204888   \n",
       "4                                     0.061549                    1.000000   \n",
       "...                                        ...                         ...   \n",
       "518131                                0.075815                    0.086347   \n",
       "518132                                0.026766                    1.000000   \n",
       "518133                                0.466033                    1.000000   \n",
       "518134                                0.000136                    0.408885   \n",
       "518135                                0.003125                    1.000000   \n",
       "\n",
       "        number_of_hotels_in_class_1  number_of_hotels_in_class_1.5  \\\n",
       "0                          0.000000                       0.059550   \n",
       "1                          0.027168                       0.142338   \n",
       "2                          0.000000                       0.000000   \n",
       "3                          0.000000                       0.000000   \n",
       "4                          1.000000                       1.000000   \n",
       "...                             ...                            ...   \n",
       "518131                     0.000000                       0.045025   \n",
       "518132                     1.000000                       1.000000   \n",
       "518133                     1.000000                       1.000000   \n",
       "518134                     0.000000                       0.302832   \n",
       "518135                     1.000000                       1.000000   \n",
       "\n",
       "        number_of_hotels_in_class_2  number_of_hotels_in_class_3  \\\n",
       "0                          0.105473                     0.255686   \n",
       "1                          0.074603                     0.048678   \n",
       "2                          0.047970                     0.253677   \n",
       "3                          0.047970                     0.253677   \n",
       "4                          0.387037                     0.993383   \n",
       "...                             ...                          ...   \n",
       "518131                     0.030618                     0.127682   \n",
       "518132                     0.387037                     0.993383   \n",
       "518133                     0.387037                     0.993383   \n",
       "518134                     0.367516                     0.469097   \n",
       "518135                     0.387037                     0.993383   \n",
       "\n",
       "        number_of_hotels_in_class_3.5  number_of_hotels_in_class_4  \\\n",
       "0                            0.185152                     0.325478   \n",
       "1                            0.024481                     0.015177   \n",
       "2                            0.384540                     0.120393   \n",
       "3                            0.384540                     0.120393   \n",
       "4                            0.698137                     1.000000   \n",
       "...                               ...                          ...   \n",
       "518131                       0.129936                     0.064489   \n",
       "518132                       0.698137                     1.000000   \n",
       "518133                       0.698137                     1.000000   \n",
       "518134                       0.382996                     0.292922   \n",
       "518135                       0.698137                     1.000000   \n",
       "\n",
       "        number_of_hotels_in_class_4.5  number_of_hotels_in_class_5  \n",
       "0                            0.337814                     0.321013  \n",
       "1                            0.012243                     0.000000  \n",
       "2                            0.134190                     0.267958  \n",
       "3                            0.134190                     0.267958  \n",
       "4                            1.000000                     1.000000  \n",
       "...                               ...                          ...  \n",
       "518131                       0.000000                     0.116145  \n",
       "518132                       1.000000                     1.000000  \n",
       "518133                       1.000000                     1.000000  \n",
       "518134                       0.179139                     0.108992  \n",
       "518135                       1.000000                     1.000000  \n",
       "\n",
       "[518136 rows x 30 columns]"
      ]
     },
     "execution_count": 145,
     "metadata": {},
     "output_type": "execute_result"
    }
   ],
   "source": [
    "scaler_x[selected_list]"
   ]
  },
  {
   "cell_type": "code",
   "execution_count": 31,
   "metadata": {},
   "outputs": [],
   "source": [
    "model_logistic = LogisticRegression(solver='lbfgs', multi_class='multinomial', max_iter=10000)\n",
    "sel_rfe_logistic = RFE(estimator=model_logistic, n_features_to_select=30, step=1)\n",
    "X_train_rfe_logistic = sel_rfe_logistic.fit_transform(scaler_x[selected_list], df_feature_selection_y)"
   ]
  },
  {
   "cell_type": "markdown",
   "metadata": {},
   "source": [
    "the final 30 for this multi-classfication problem is:\n",
    "\n",
    "top_30 = ['author_num_helpful_votes',\n",
    " 'service',\n",
    " 'cleanliness',\n",
    " 'overall',\n",
    " 'value',\n",
    " 'sleep_quality',\n",
    " 'rooms',\n",
    " 'average_service_rating',\n",
    " 'average_overall_rating',\n",
    " 'average_value_rating',\n",
    " 'average_sleep_quality_rating',\n",
    " 'average_rooms_rating',\n",
    " 'min_service_rating',\n",
    " 'min_cleanliness_rating',\n",
    " 'min_overall_rating',\n",
    " 'min_value_rating',\n",
    " 'min_sleep_quality_rating',\n",
    " 'min_rooms_rating',\n",
    " 'max_service_rating',\n",
    " 'max_overall_rating',\n",
    " 'total_number_helpful_reviews_hotel_got',\n",
    " 'number_of_hotels_in_region',\n",
    " 'number_of_hotels_in_class_1',\n",
    " 'number_of_hotels_in_class_1.5',\n",
    " 'number_of_hotels_in_class_2',\n",
    " 'number_of_hotels_in_class_3',\n",
    " 'number_of_hotels_in_class_3.5',\n",
    " 'number_of_hotels_in_class_4',\n",
    " 'number_of_hotels_in_class_4.5',\n",
    " 'number_of_hotels_in_class_5']"
   ]
  },
  {
   "cell_type": "code",
   "execution_count": null,
   "metadata": {},
   "outputs": [],
   "source": []
  }
 ],
 "metadata": {
  "kernelspec": {
   "display_name": "Python 3",
   "language": "python",
   "name": "python3"
  },
  "language_info": {
   "codemirror_mode": {
    "name": "ipython",
    "version": 3
   },
   "file_extension": ".py",
   "mimetype": "text/x-python",
   "name": "python",
   "nbconvert_exporter": "python",
   "pygments_lexer": "ipython3",
   "version": "3.8.3"
  }
 },
 "nbformat": 4,
 "nbformat_minor": 4
}
